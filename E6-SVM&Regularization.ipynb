{
 "cells": [
  {
   "cell_type": "markdown",
   "metadata": {},
   "source": [
    "# Exercise 6\n",
    "\n",
    "## SVM & Regularization\n",
    "\n",
    "\n",
    "For this homework we consider a set of observations on a number of red and white wine varieties involving their chemical properties and ranking by tasters. Wine industry shows a recent growth spurt as social drinking is on the rise. The price of wine depends on a rather abstract concept of wine appreciation by wine tasters, opinion among whom may have a high degree of variability. Pricing of wine depends on such a volatile factor to some extent. Another key factor in wine certification and quality assessment is physicochemical tests which are laboratory-based and takes into account factors like acidity, pH level, presence of sugar and other chemical properties. For the wine market, it would be of interest if human quality of tasting can be related to the chemical properties of wine so that certification and quality assessment and assurance process is more controlled.\n",
    "\n",
    "Two datasets are available of which one dataset is on red wine and have 1599 different varieties and the other is on white wine and have 4898 varieties. All wines are produced in a particular area of Portugal. Data are collected on 12 different properties of the wines one of which is Quality, based on sensory data, and the rest are on chemical properties of the wines including density, acidity, alcohol content etc. All chemical properties of wines are continuous variables. Quality is an ordinal variable with possible ranking from 1 (worst) to 10 (best). Each variety of wine is tasted by three independent tasters and the final rank assigned is the median rank given by the tasters.\n",
    "\n",
    "A predictive model developed on this data is expected to provide guidance to vineyards regarding quality and price expected on their produce without heavy reliance on volatility of wine tasters."
   ]
  },
  {
   "cell_type": "code",
   "execution_count": 1,
   "metadata": {},
   "outputs": [],
   "source": [
    "import pandas as pd\n",
    "import numpy as np"
   ]
  },
  {
   "cell_type": "code",
   "execution_count": 2,
   "metadata": {},
   "outputs": [],
   "source": [
    "data_r = pd.read_csv('https://github.com/albahnsen/PracticalMachineLearningClass/raw/master/datasets/Wine_data_red.csv')\n",
    "data_w = pd.read_csv('https://github.com/albahnsen/PracticalMachineLearningClass/raw/master/datasets/Wine_data_white.csv')"
   ]
  },
  {
   "cell_type": "code",
   "execution_count": 3,
   "metadata": {},
   "outputs": [
    {
     "data": {
      "text/html": [
       "<div>\n",
       "<style scoped>\n",
       "    .dataframe tbody tr th:only-of-type {\n",
       "        vertical-align: middle;\n",
       "    }\n",
       "\n",
       "    .dataframe tbody tr th {\n",
       "        vertical-align: top;\n",
       "    }\n",
       "\n",
       "    .dataframe thead th {\n",
       "        text-align: right;\n",
       "    }\n",
       "</style>\n",
       "<table border=\"1\" class=\"dataframe\">\n",
       "  <thead>\n",
       "    <tr style=\"text-align: right;\">\n",
       "      <th></th>\n",
       "      <th>fixed acidity</th>\n",
       "      <th>volatile acidity</th>\n",
       "      <th>citric acid</th>\n",
       "      <th>residual sugar</th>\n",
       "      <th>chlorides</th>\n",
       "      <th>free sulfur dioxide</th>\n",
       "      <th>total sulfur dioxide</th>\n",
       "      <th>density</th>\n",
       "      <th>pH</th>\n",
       "      <th>sulphates</th>\n",
       "      <th>alcohol</th>\n",
       "      <th>quality</th>\n",
       "      <th>type</th>\n",
       "    </tr>\n",
       "  </thead>\n",
       "  <tbody>\n",
       "    <tr>\n",
       "      <th>1092</th>\n",
       "      <td>7.1</td>\n",
       "      <td>0.21</td>\n",
       "      <td>0.40</td>\n",
       "      <td>1.2</td>\n",
       "      <td>0.069</td>\n",
       "      <td>24.0</td>\n",
       "      <td>156.0</td>\n",
       "      <td>0.99280</td>\n",
       "      <td>3.42</td>\n",
       "      <td>0.43</td>\n",
       "      <td>10.6</td>\n",
       "      <td>6</td>\n",
       "      <td>white</td>\n",
       "    </tr>\n",
       "    <tr>\n",
       "      <th>3543</th>\n",
       "      <td>6.0</td>\n",
       "      <td>0.33</td>\n",
       "      <td>0.20</td>\n",
       "      <td>1.8</td>\n",
       "      <td>0.031</td>\n",
       "      <td>49.0</td>\n",
       "      <td>159.0</td>\n",
       "      <td>0.99190</td>\n",
       "      <td>3.41</td>\n",
       "      <td>0.53</td>\n",
       "      <td>11.0</td>\n",
       "      <td>6</td>\n",
       "      <td>white</td>\n",
       "    </tr>\n",
       "    <tr>\n",
       "      <th>4010</th>\n",
       "      <td>7.2</td>\n",
       "      <td>0.21</td>\n",
       "      <td>0.29</td>\n",
       "      <td>3.1</td>\n",
       "      <td>0.044</td>\n",
       "      <td>39.0</td>\n",
       "      <td>122.0</td>\n",
       "      <td>0.99143</td>\n",
       "      <td>3.00</td>\n",
       "      <td>0.60</td>\n",
       "      <td>11.3</td>\n",
       "      <td>6</td>\n",
       "      <td>white</td>\n",
       "    </tr>\n",
       "    <tr>\n",
       "      <th>4822</th>\n",
       "      <td>6.8</td>\n",
       "      <td>0.23</td>\n",
       "      <td>0.48</td>\n",
       "      <td>1.5</td>\n",
       "      <td>0.036</td>\n",
       "      <td>35.0</td>\n",
       "      <td>165.0</td>\n",
       "      <td>0.99162</td>\n",
       "      <td>3.18</td>\n",
       "      <td>0.45</td>\n",
       "      <td>11.3</td>\n",
       "      <td>6</td>\n",
       "      <td>white</td>\n",
       "    </tr>\n",
       "    <tr>\n",
       "      <th>3338</th>\n",
       "      <td>7.2</td>\n",
       "      <td>0.27</td>\n",
       "      <td>0.28</td>\n",
       "      <td>15.2</td>\n",
       "      <td>0.046</td>\n",
       "      <td>6.0</td>\n",
       "      <td>41.0</td>\n",
       "      <td>0.99665</td>\n",
       "      <td>3.17</td>\n",
       "      <td>0.39</td>\n",
       "      <td>10.9</td>\n",
       "      <td>6</td>\n",
       "      <td>white</td>\n",
       "    </tr>\n",
       "  </tbody>\n",
       "</table>\n",
       "</div>"
      ],
      "text/plain": [
       "      fixed acidity  volatile acidity  citric acid  residual sugar  chlorides  \\\n",
       "1092            7.1              0.21         0.40             1.2      0.069   \n",
       "3543            6.0              0.33         0.20             1.8      0.031   \n",
       "4010            7.2              0.21         0.29             3.1      0.044   \n",
       "4822            6.8              0.23         0.48             1.5      0.036   \n",
       "3338            7.2              0.27         0.28            15.2      0.046   \n",
       "\n",
       "      free sulfur dioxide  total sulfur dioxide  density    pH  sulphates  \\\n",
       "1092                 24.0                 156.0  0.99280  3.42       0.43   \n",
       "3543                 49.0                 159.0  0.99190  3.41       0.53   \n",
       "4010                 39.0                 122.0  0.99143  3.00       0.60   \n",
       "4822                 35.0                 165.0  0.99162  3.18       0.45   \n",
       "3338                  6.0                  41.0  0.99665  3.17       0.39   \n",
       "\n",
       "      alcohol  quality   type  \n",
       "1092     10.6        6  white  \n",
       "3543     11.0        6  white  \n",
       "4010     11.3        6  white  \n",
       "4822     11.3        6  white  \n",
       "3338     10.9        6  white  "
      ]
     },
     "execution_count": 3,
     "metadata": {},
     "output_type": "execute_result"
    }
   ],
   "source": [
    "data = data_w.assign(type = 'white')\n",
    "\n",
    "data = data.append(data_r.assign(type = 'red'), ignore_index=True)\n",
    "data.sample(5)"
   ]
  },
  {
   "cell_type": "markdown",
   "metadata": {},
   "source": [
    "# Exercise 6.1\n",
    "\n",
    "Show the frecuency table of the quality by type of wine"
   ]
  },
  {
   "cell_type": "code",
   "execution_count": 4,
   "metadata": {},
   "outputs": [
    {
     "data": {
      "text/html": [
       "<div>\n",
       "<style scoped>\n",
       "    .dataframe tbody tr th:only-of-type {\n",
       "        vertical-align: middle;\n",
       "    }\n",
       "\n",
       "    .dataframe tbody tr th {\n",
       "        vertical-align: top;\n",
       "    }\n",
       "\n",
       "    .dataframe thead th {\n",
       "        text-align: right;\n",
       "    }\n",
       "</style>\n",
       "<table border=\"1\" class=\"dataframe\">\n",
       "  <thead>\n",
       "    <tr style=\"text-align: right;\">\n",
       "      <th>quality</th>\n",
       "      <th>3</th>\n",
       "      <th>4</th>\n",
       "      <th>5</th>\n",
       "      <th>6</th>\n",
       "      <th>7</th>\n",
       "      <th>8</th>\n",
       "      <th>9</th>\n",
       "    </tr>\n",
       "    <tr>\n",
       "      <th>type</th>\n",
       "      <th></th>\n",
       "      <th></th>\n",
       "      <th></th>\n",
       "      <th></th>\n",
       "      <th></th>\n",
       "      <th></th>\n",
       "      <th></th>\n",
       "    </tr>\n",
       "  </thead>\n",
       "  <tbody>\n",
       "    <tr>\n",
       "      <th>red</th>\n",
       "      <td>10.0</td>\n",
       "      <td>53.0</td>\n",
       "      <td>681.0</td>\n",
       "      <td>638.0</td>\n",
       "      <td>199.0</td>\n",
       "      <td>18.0</td>\n",
       "      <td>NaN</td>\n",
       "    </tr>\n",
       "    <tr>\n",
       "      <th>white</th>\n",
       "      <td>20.0</td>\n",
       "      <td>163.0</td>\n",
       "      <td>1457.0</td>\n",
       "      <td>2198.0</td>\n",
       "      <td>880.0</td>\n",
       "      <td>175.0</td>\n",
       "      <td>5.0</td>\n",
       "    </tr>\n",
       "  </tbody>\n",
       "</table>\n",
       "</div>"
      ],
      "text/plain": [
       "quality     3      4       5       6      7      8    9\n",
       "type                                                   \n",
       "red      10.0   53.0   681.0   638.0  199.0   18.0  NaN\n",
       "white    20.0  163.0  1457.0  2198.0  880.0  175.0  5.0"
      ]
     },
     "execution_count": 4,
     "metadata": {},
     "output_type": "execute_result"
    }
   ],
   "source": [
    "frecuencia=data.pivot_table(values='pH', index=['type'],columns='quality', aggfunc='count')\n",
    "frecuencia"
   ]
  },
  {
   "cell_type": "markdown",
   "metadata": {},
   "source": [
    "# SVM"
   ]
  },
  {
   "cell_type": "markdown",
   "metadata": {},
   "source": [
    "# Exercise 6.2\n",
    "\n",
    "* Standarized the features (not the quality)\n",
    "* Create a binary target for each type of wine\n",
    "* Create two Linear SVM's for the white and red wines, repectively.\n"
   ]
  },
  {
   "cell_type": "code",
   "execution_count": 5,
   "metadata": {
    "scrolled": false
   },
   "outputs": [
    {
     "data": {
      "text/plain": [
       "6    2836\n",
       "5    2138\n",
       "7    1079\n",
       "4     216\n",
       "8     193\n",
       "3      30\n",
       "9       5\n",
       "Name: quality, dtype: int64"
      ]
     },
     "execution_count": 5,
     "metadata": {},
     "output_type": "execute_result"
    }
   ],
   "source": [
    "data.quality.value_counts()"
   ]
  },
  {
   "cell_type": "code",
   "execution_count": 6,
   "metadata": {},
   "outputs": [],
   "source": [
    "data[\"quality_bin\"]=np.where(data[\"quality\"] <= 6, True, False)   "
   ]
  },
  {
   "cell_type": "code",
   "execution_count": 7,
   "metadata": {},
   "outputs": [
    {
     "data": {
      "text/html": [
       "<div>\n",
       "<style scoped>\n",
       "    .dataframe tbody tr th:only-of-type {\n",
       "        vertical-align: middle;\n",
       "    }\n",
       "\n",
       "    .dataframe tbody tr th {\n",
       "        vertical-align: top;\n",
       "    }\n",
       "\n",
       "    .dataframe thead th {\n",
       "        text-align: right;\n",
       "    }\n",
       "</style>\n",
       "<table border=\"1\" class=\"dataframe\">\n",
       "  <thead>\n",
       "    <tr style=\"text-align: right;\">\n",
       "      <th></th>\n",
       "      <th>fixed acidity</th>\n",
       "      <th>volatile acidity</th>\n",
       "      <th>citric acid</th>\n",
       "      <th>residual sugar</th>\n",
       "      <th>chlorides</th>\n",
       "      <th>free sulfur dioxide</th>\n",
       "      <th>total sulfur dioxide</th>\n",
       "      <th>density</th>\n",
       "      <th>pH</th>\n",
       "      <th>sulphates</th>\n",
       "      <th>alcohol</th>\n",
       "      <th>quality</th>\n",
       "      <th>type</th>\n",
       "      <th>quality_bin</th>\n",
       "    </tr>\n",
       "  </thead>\n",
       "  <tbody>\n",
       "    <tr>\n",
       "      <th>0</th>\n",
       "      <td>7.0</td>\n",
       "      <td>0.27</td>\n",
       "      <td>0.36</td>\n",
       "      <td>20.7</td>\n",
       "      <td>0.045</td>\n",
       "      <td>45.0</td>\n",
       "      <td>170.0</td>\n",
       "      <td>1.0010</td>\n",
       "      <td>3.00</td>\n",
       "      <td>0.45</td>\n",
       "      <td>8.8</td>\n",
       "      <td>6</td>\n",
       "      <td>white</td>\n",
       "      <td>True</td>\n",
       "    </tr>\n",
       "    <tr>\n",
       "      <th>1</th>\n",
       "      <td>6.3</td>\n",
       "      <td>0.30</td>\n",
       "      <td>0.34</td>\n",
       "      <td>1.6</td>\n",
       "      <td>0.049</td>\n",
       "      <td>14.0</td>\n",
       "      <td>132.0</td>\n",
       "      <td>0.9940</td>\n",
       "      <td>3.30</td>\n",
       "      <td>0.49</td>\n",
       "      <td>9.5</td>\n",
       "      <td>6</td>\n",
       "      <td>white</td>\n",
       "      <td>True</td>\n",
       "    </tr>\n",
       "    <tr>\n",
       "      <th>2</th>\n",
       "      <td>8.1</td>\n",
       "      <td>0.28</td>\n",
       "      <td>0.40</td>\n",
       "      <td>6.9</td>\n",
       "      <td>0.050</td>\n",
       "      <td>30.0</td>\n",
       "      <td>97.0</td>\n",
       "      <td>0.9951</td>\n",
       "      <td>3.26</td>\n",
       "      <td>0.44</td>\n",
       "      <td>10.1</td>\n",
       "      <td>6</td>\n",
       "      <td>white</td>\n",
       "      <td>True</td>\n",
       "    </tr>\n",
       "    <tr>\n",
       "      <th>3</th>\n",
       "      <td>7.2</td>\n",
       "      <td>0.23</td>\n",
       "      <td>0.32</td>\n",
       "      <td>8.5</td>\n",
       "      <td>0.058</td>\n",
       "      <td>47.0</td>\n",
       "      <td>186.0</td>\n",
       "      <td>0.9956</td>\n",
       "      <td>3.19</td>\n",
       "      <td>0.40</td>\n",
       "      <td>9.9</td>\n",
       "      <td>6</td>\n",
       "      <td>white</td>\n",
       "      <td>True</td>\n",
       "    </tr>\n",
       "    <tr>\n",
       "      <th>4</th>\n",
       "      <td>7.2</td>\n",
       "      <td>0.23</td>\n",
       "      <td>0.32</td>\n",
       "      <td>8.5</td>\n",
       "      <td>0.058</td>\n",
       "      <td>47.0</td>\n",
       "      <td>186.0</td>\n",
       "      <td>0.9956</td>\n",
       "      <td>3.19</td>\n",
       "      <td>0.40</td>\n",
       "      <td>9.9</td>\n",
       "      <td>6</td>\n",
       "      <td>white</td>\n",
       "      <td>True</td>\n",
       "    </tr>\n",
       "  </tbody>\n",
       "</table>\n",
       "</div>"
      ],
      "text/plain": [
       "   fixed acidity  volatile acidity  citric acid  residual sugar  chlorides  \\\n",
       "0            7.0              0.27         0.36            20.7      0.045   \n",
       "1            6.3              0.30         0.34             1.6      0.049   \n",
       "2            8.1              0.28         0.40             6.9      0.050   \n",
       "3            7.2              0.23         0.32             8.5      0.058   \n",
       "4            7.2              0.23         0.32             8.5      0.058   \n",
       "\n",
       "   free sulfur dioxide  total sulfur dioxide  density    pH  sulphates  \\\n",
       "0                 45.0                 170.0   1.0010  3.00       0.45   \n",
       "1                 14.0                 132.0   0.9940  3.30       0.49   \n",
       "2                 30.0                  97.0   0.9951  3.26       0.44   \n",
       "3                 47.0                 186.0   0.9956  3.19       0.40   \n",
       "4                 47.0                 186.0   0.9956  3.19       0.40   \n",
       "\n",
       "   alcohol  quality   type  quality_bin  \n",
       "0      8.8        6  white         True  \n",
       "1      9.5        6  white         True  \n",
       "2     10.1        6  white         True  \n",
       "3      9.9        6  white         True  \n",
       "4      9.9        6  white         True  "
      ]
     },
     "execution_count": 7,
     "metadata": {},
     "output_type": "execute_result"
    }
   ],
   "source": [
    "data.head()"
   ]
  },
  {
   "cell_type": "code",
   "execution_count": 8,
   "metadata": {},
   "outputs": [
    {
     "data": {
      "text/plain": [
       "True     5220\n",
       "False    1277\n",
       "Name: quality_bin, dtype: int64"
      ]
     },
     "execution_count": 8,
     "metadata": {},
     "output_type": "execute_result"
    }
   ],
   "source": [
    "data.quality_bin.value_counts()"
   ]
  },
  {
   "cell_type": "markdown",
   "metadata": {},
   "source": [
    "### Separar por tipo de vino, y escoger las variables explicativas y la variable a dependiente:"
   ]
  },
  {
   "cell_type": "code",
   "execution_count": 9,
   "metadata": {},
   "outputs": [],
   "source": [
    "data_red_wine=data[data['type']=='red']\n",
    "X_red=data_red_wine[['fixed acidity','volatile acidity','citric acid','residual sugar','chlorides','free sulfur dioxide','total sulfur dioxide','density','pH','sulphates','alcohol']]\n",
    "y_red=data_red_wine['quality_bin']\n",
    "\n",
    "data_white_wine=data[data['type']=='white']\n",
    "X_white=data_white_wine[['fixed acidity','volatile acidity','citric acid','residual sugar','chlorides','free sulfur dioxide','total sulfur dioxide','density','pH','sulphates','alcohol']]\n",
    "y_white=data_white_wine['quality_bin']"
   ]
  },
  {
   "cell_type": "markdown",
   "metadata": {},
   "source": [
    "## Train y test"
   ]
  },
  {
   "cell_type": "code",
   "execution_count": 10,
   "metadata": {},
   "outputs": [],
   "source": [
    "from sklearn.model_selection import train_test_split  \n",
    "\n",
    "#Train y test\n",
    "X_train_w, X_test_w, y_train_w, y_test_w = train_test_split(X_white, y_white, test_size = 0.20)  \n",
    "X_train_r, X_test_r, y_train_r, y_test_r = train_test_split(X_red, y_red, test_size = 0.20)  "
   ]
  },
  {
   "cell_type": "markdown",
   "metadata": {},
   "source": [
    "## Scaling"
   ]
  },
  {
   "cell_type": "code",
   "execution_count": 11,
   "metadata": {},
   "outputs": [],
   "source": [
    "from sklearn import preprocessing\n",
    "X_train_w = preprocessing.scale(X_train_w)\n",
    "X_train_r = preprocessing.scale(X_train_r)\n",
    "X_test_w = preprocessing.scale(X_test_w)\n",
    "X_test_r = preprocessing.scale(X_test_r)\n"
   ]
  },
  {
   "cell_type": "markdown",
   "metadata": {},
   "source": [
    "### SVM Red Wine"
   ]
  },
  {
   "cell_type": "code",
   "execution_count": 12,
   "metadata": {},
   "outputs": [
    {
     "data": {
      "text/plain": [
       "SVC(C=1.0, cache_size=200, class_weight=None, coef0=0.0,\n",
       "  decision_function_shape='ovr', degree=3, gamma='auto', kernel='linear',\n",
       "  max_iter=-1, probability=False, random_state=None, shrinking=True,\n",
       "  tol=0.001, verbose=False)"
      ]
     },
     "execution_count": 12,
     "metadata": {},
     "output_type": "execute_result"
    }
   ],
   "source": [
    "from sklearn.svm import SVC # \"Support Vector Classifier\"\n",
    "clf = SVC(kernel='linear')\n",
    "clf.fit(X_train_r, y_train_r)"
   ]
  },
  {
   "cell_type": "markdown",
   "metadata": {},
   "source": [
    "#### Evaluando el agloritmo"
   ]
  },
  {
   "cell_type": "code",
   "execution_count": 13,
   "metadata": {
    "scrolled": false
   },
   "outputs": [
    {
     "name": "stdout",
     "output_type": "stream",
     "text": [
      "[[  0  34]\n",
      " [  0 286]]\n",
      "             precision    recall  f1-score   support\n",
      "\n",
      "      False       0.00      0.00      0.00        34\n",
      "       True       0.89      1.00      0.94       286\n",
      "\n",
      "avg / total       0.80      0.89      0.84       320\n",
      "\n"
     ]
    },
    {
     "name": "stderr",
     "output_type": "stream",
     "text": [
      "C:\\ProgramData\\Anaconda3\\lib\\site-packages\\sklearn\\metrics\\classification.py:1135: UndefinedMetricWarning: Precision and F-score are ill-defined and being set to 0.0 in labels with no predicted samples.\n",
      "  'precision', 'predicted', average, warn_for)\n"
     ]
    }
   ],
   "source": [
    "from sklearn.metrics import classification_report, confusion_matrix  \n",
    "y_pred_r = clf.predict(X_test_r)  \n",
    "print(confusion_matrix(y_test_r,y_pred_r))  \n",
    "print(classification_report(y_test_r,y_pred_r))   "
   ]
  },
  {
   "cell_type": "markdown",
   "metadata": {},
   "source": [
    "#### Normalizado"
   ]
  },
  {
   "cell_type": "markdown",
   "metadata": {},
   "source": [
    "No cambian los resultados al normalizar o estandarizar, sin embarog, al hacerlo, converge mas rapido"
   ]
  },
  {
   "cell_type": "markdown",
   "metadata": {},
   "source": [
    "### SVM White  Wine"
   ]
  },
  {
   "cell_type": "code",
   "execution_count": 14,
   "metadata": {},
   "outputs": [
    {
     "data": {
      "text/plain": [
       "SVC(C=1.0, cache_size=200, class_weight=None, coef0=0.0,\n",
       "  decision_function_shape='ovr', degree=3, gamma='auto', kernel='linear',\n",
       "  max_iter=-1, probability=False, random_state=None, shrinking=True,\n",
       "  tol=0.001, verbose=False)"
      ]
     },
     "execution_count": 14,
     "metadata": {},
     "output_type": "execute_result"
    }
   ],
   "source": [
    "clf = SVC(kernel='linear')\n",
    "clf.fit(X_train_w, y_train_w)"
   ]
  },
  {
   "cell_type": "markdown",
   "metadata": {},
   "source": [
    "#### Evaluando el agloritmo"
   ]
  },
  {
   "cell_type": "code",
   "execution_count": 15,
   "metadata": {},
   "outputs": [
    {
     "name": "stdout",
     "output_type": "stream",
     "text": [
      "[[  0 210]\n",
      " [  0 770]]\n",
      "             precision    recall  f1-score   support\n",
      "\n",
      "      False       0.00      0.00      0.00       210\n",
      "       True       0.79      1.00      0.88       770\n",
      "\n",
      "avg / total       0.62      0.79      0.69       980\n",
      "\n"
     ]
    },
    {
     "name": "stderr",
     "output_type": "stream",
     "text": [
      "C:\\ProgramData\\Anaconda3\\lib\\site-packages\\sklearn\\metrics\\classification.py:1135: UndefinedMetricWarning: Precision and F-score are ill-defined and being set to 0.0 in labels with no predicted samples.\n",
      "  'precision', 'predicted', average, warn_for)\n"
     ]
    }
   ],
   "source": [
    "y_pred_w = clf.predict(X_test_w)  \n",
    "print(confusion_matrix(y_test_w,y_pred_w))  \n",
    "print(classification_report(y_test_w,y_pred_w))   "
   ]
  },
  {
   "cell_type": "markdown",
   "metadata": {},
   "source": [
    "# Exercise 6.3\n",
    "\n",
    "Test the two SVM's using the different kernels (‘poly’, ‘rbf’, ‘sigmoid’)\n"
   ]
  },
  {
   "cell_type": "markdown",
   "metadata": {},
   "source": [
    "### Red Wine"
   ]
  },
  {
   "cell_type": "code",
   "execution_count": 16,
   "metadata": {},
   "outputs": [
    {
     "name": "stdout",
     "output_type": "stream",
     "text": [
      "Kernel: Poly\n",
      "\n",
      "[[  8  26]\n",
      " [ 10 276]]\n",
      "             precision    recall  f1-score   support\n",
      "\n",
      "      False       0.44      0.24      0.31        34\n",
      "       True       0.91      0.97      0.94       286\n",
      "\n",
      "avg / total       0.86      0.89      0.87       320\n",
      "\n",
      "Kernel: rbf\n",
      "\n",
      "[[ 12  22]\n",
      " [  6 280]]\n",
      "             precision    recall  f1-score   support\n",
      "\n",
      "      False       0.67      0.35      0.46        34\n",
      "       True       0.93      0.98      0.95       286\n",
      "\n",
      "avg / total       0.90      0.91      0.90       320\n",
      "\n",
      " Kernel : Sigmoid\n",
      "\n",
      "[[  8  26]\n",
      " [ 30 256]]\n",
      "             precision    recall  f1-score   support\n",
      "\n",
      "      False       0.21      0.24      0.22        34\n",
      "       True       0.91      0.90      0.90       286\n",
      "\n",
      "avg / total       0.83      0.82      0.83       320\n",
      "\n"
     ]
    }
   ],
   "source": [
    "## Poly\n",
    "clf = SVC(kernel='poly',degree=7)\n",
    "clf.fit(X_train_r, y_train_r)\n",
    "y_pred_r = clf.predict(X_test_r)  \n",
    "print(\"Kernel: Poly\\n\")\n",
    "print(confusion_matrix(y_test_r,y_pred_r))  \n",
    "print(classification_report(y_test_r,y_pred_r))  \n",
    "\n",
    "## rbf\n",
    "clf = SVC(kernel='rbf')\n",
    "clf.fit(X_train_r, y_train_r)\n",
    "y_pred_r = clf.predict(X_test_r)  \n",
    "print(\"Kernel: rbf\\n\")\n",
    "print(confusion_matrix(y_test_r,y_pred_r))  \n",
    "print(classification_report(y_test_r,y_pred_r))  \n",
    "\n",
    "## sigmoid\n",
    "clf = SVC(kernel='sigmoid')\n",
    "clf.fit(X_train_r, y_train_r)\n",
    "y_pred_r = clf.predict(X_test_r)  \n",
    "print(\" Kernel : Sigmoid\\n\")\n",
    "print(confusion_matrix(y_test_r,y_pred_r))  \n",
    "print(classification_report(y_test_r,y_pred_r))  "
   ]
  },
  {
   "cell_type": "markdown",
   "metadata": {},
   "source": [
    "### White wine "
   ]
  },
  {
   "cell_type": "code",
   "execution_count": 17,
   "metadata": {},
   "outputs": [
    {
     "name": "stdout",
     "output_type": "stream",
     "text": [
      "Kernel: Poly\n",
      "\n",
      "[[ 48 162]\n",
      " [ 23 747]]\n",
      "             precision    recall  f1-score   support\n",
      "\n",
      "      False       0.68      0.23      0.34       210\n",
      "       True       0.82      0.97      0.89       770\n",
      "\n",
      "avg / total       0.79      0.81      0.77       980\n",
      "\n",
      "Kernel: rbf\n",
      "\n",
      "[[ 72 138]\n",
      " [ 30 740]]\n",
      "             precision    recall  f1-score   support\n",
      "\n",
      "      False       0.71      0.34      0.46       210\n",
      "       True       0.84      0.96      0.90       770\n",
      "\n",
      "avg / total       0.81      0.83      0.80       980\n",
      "\n",
      " Kernel : Sigmoid\n",
      "\n",
      "[[ 88 122]\n",
      " [118 652]]\n",
      "             precision    recall  f1-score   support\n",
      "\n",
      "      False       0.43      0.42      0.42       210\n",
      "       True       0.84      0.85      0.84       770\n",
      "\n",
      "avg / total       0.75      0.76      0.75       980\n",
      "\n"
     ]
    }
   ],
   "source": [
    "## Poly\n",
    "clf = SVC(kernel='poly',degree=7)\n",
    "clf.fit(X_train_w, y_train_w)\n",
    "y_pred_w = clf.predict(X_test_w)  \n",
    "print(\"Kernel: Poly\\n\")\n",
    "print(confusion_matrix(y_test_w,y_pred_w))  \n",
    "print(classification_report(y_test_w,y_pred_w))  \n",
    "\n",
    "## rbf\n",
    "clf = SVC(kernel='rbf')\n",
    "clf.fit(X_train_w, y_train_w)\n",
    "y_pred_w = clf.predict(X_test_w)  \n",
    "print(\"Kernel: rbf\\n\")\n",
    "print(confusion_matrix(y_test_w,y_pred_w))  \n",
    "print(classification_report(y_test_w,y_pred_w))  \n",
    "\n",
    "## sigmoid\n",
    "clf = SVC(kernel='sigmoid')\n",
    "clf.fit(X_train_w, y_train_w)\n",
    "y_pred_w = clf.predict(X_test_w)  \n",
    "print(\" Kernel : Sigmoid\\n\")\n",
    "print(confusion_matrix(y_test_w,y_pred_w))  \n",
    "print(classification_report(y_test_w,y_pred_w))  "
   ]
  },
  {
   "cell_type": "markdown",
   "metadata": {},
   "source": [
    "# Exercise 6.4\n",
    "Using the best SVM find the parameters that gives the best performance\n",
    "\n",
    "'C': [0.1, 1, 10, 100, 1000], 'gamma': [0.01, 0.001, 0.0001]"
   ]
  },
  {
   "cell_type": "code",
   "execution_count": 18,
   "metadata": {},
   "outputs": [],
   "source": [
    "C=[ 0.1, 1, 10, 100, 1000]\n",
    "gamma=[0.01, 0.001, 0.0001]\n",
    "from sklearn.metrics import accuracy_score"
   ]
  },
  {
   "cell_type": "markdown",
   "metadata": {},
   "source": [
    "### Red Wine"
   ]
  },
  {
   "cell_type": "code",
   "execution_count": 19,
   "metadata": {},
   "outputs": [
    {
     "name": "stdout",
     "output_type": "stream",
     "text": [
      "Parametro C:  0.1\n",
      "Parametro gamma:  0.01\n",
      "Accuracy:  0.89375\n",
      "             precision    recall  f1-score   support\n",
      "\n",
      "      False       0.00      0.00      0.00        34\n",
      "       True       0.89      1.00      0.94       286\n",
      "\n",
      "avg / total       0.80      0.89      0.84       320\n",
      "\n",
      "Parametro C:  0.1\n",
      "Parametro gamma:  0.001\n",
      "Accuracy:  0.89375\n",
      "             precision    recall  f1-score   support\n",
      "\n",
      "      False       0.00      0.00      0.00        34\n",
      "       True       0.89      1.00      0.94       286\n",
      "\n",
      "avg / total       0.80      0.89      0.84       320\n",
      "\n",
      "Parametro C:  0.1\n",
      "Parametro gamma:  0.0001\n",
      "Accuracy:  0.89375\n",
      "             precision    recall  f1-score   support\n",
      "\n",
      "      False       0.00      0.00      0.00        34\n",
      "       True       0.89      1.00      0.94       286\n",
      "\n",
      "avg / total       0.80      0.89      0.84       320\n",
      "\n",
      "Parametro C:  1\n",
      "Parametro gamma:  0.01\n",
      "Accuracy:  0.89375\n",
      "             precision    recall  f1-score   support\n",
      "\n",
      "      False       0.00      0.00      0.00        34\n",
      "       True       0.89      1.00      0.94       286\n",
      "\n",
      "avg / total       0.80      0.89      0.84       320\n",
      "\n",
      "Parametro C:  1\n",
      "Parametro gamma:  0.001\n",
      "Accuracy:  0.89375\n",
      "             precision    recall  f1-score   support\n",
      "\n",
      "      False       0.00      0.00      0.00        34\n",
      "       True       0.89      1.00      0.94       286\n",
      "\n",
      "avg / total       0.80      0.89      0.84       320\n",
      "\n",
      "Parametro C:  1\n",
      "Parametro gamma:  0.0001\n",
      "Accuracy:  0.89375\n",
      "             precision    recall  f1-score   support\n",
      "\n",
      "      False       0.00      0.00      0.00        34\n",
      "       True       0.89      1.00      0.94       286\n",
      "\n",
      "avg / total       0.80      0.89      0.84       320\n",
      "\n",
      "Parametro C:  10\n",
      "Parametro gamma:  0.01\n",
      "Accuracy:  0.89375\n",
      "             precision    recall  f1-score   support\n",
      "\n",
      "      False       0.00      0.00      0.00        34\n",
      "       True       0.89      1.00      0.94       286\n",
      "\n",
      "avg / total       0.80      0.89      0.84       320\n",
      "\n",
      "Parametro C:  10\n",
      "Parametro gamma:  0.001\n",
      "Accuracy:  0.89375\n",
      "             precision    recall  f1-score   support\n",
      "\n",
      "      False       0.00      0.00      0.00        34\n",
      "       True       0.89      1.00      0.94       286\n",
      "\n",
      "avg / total       0.80      0.89      0.84       320\n",
      "\n",
      "Parametro C:  10\n",
      "Parametro gamma:  0.0001\n",
      "Accuracy:  0.89375\n",
      "             precision    recall  f1-score   support\n",
      "\n",
      "      False       0.00      0.00      0.00        34\n",
      "       True       0.89      1.00      0.94       286\n",
      "\n",
      "avg / total       0.80      0.89      0.84       320\n",
      "\n",
      "Parametro C:  100\n",
      "Parametro gamma:  0.01\n",
      "Accuracy:  0.89375\n",
      "             precision    recall  f1-score   support\n",
      "\n",
      "      False       0.00      0.00      0.00        34\n",
      "       True       0.89      1.00      0.94       286\n",
      "\n",
      "avg / total       0.80      0.89      0.84       320\n",
      "\n",
      "Parametro C:  100\n",
      "Parametro gamma:  0.001\n",
      "Accuracy:  0.89375\n",
      "             precision    recall  f1-score   support\n",
      "\n",
      "      False       0.00      0.00      0.00        34\n",
      "       True       0.89      1.00      0.94       286\n",
      "\n",
      "avg / total       0.80      0.89      0.84       320\n",
      "\n",
      "Parametro C:  100\n",
      "Parametro gamma:  0.0001\n",
      "Accuracy:  0.89375\n",
      "             precision    recall  f1-score   support\n",
      "\n",
      "      False       0.00      0.00      0.00        34\n",
      "       True       0.89      1.00      0.94       286\n",
      "\n",
      "avg / total       0.80      0.89      0.84       320\n",
      "\n",
      "Parametro C:  1000\n",
      "Parametro gamma:  0.01\n",
      "Accuracy:  0.89375\n",
      "             precision    recall  f1-score   support\n",
      "\n",
      "      False       0.00      0.00      0.00        34\n",
      "       True       0.89      1.00      0.94       286\n",
      "\n",
      "avg / total       0.80      0.89      0.84       320\n",
      "\n",
      "Parametro C:  1000\n",
      "Parametro gamma:  0.001\n",
      "Accuracy:  0.89375\n",
      "             precision    recall  f1-score   support\n",
      "\n",
      "      False       0.00      0.00      0.00        34\n",
      "       True       0.89      1.00      0.94       286\n",
      "\n",
      "avg / total       0.80      0.89      0.84       320\n",
      "\n",
      "Parametro C:  1000\n",
      "Parametro gamma:  0.0001\n",
      "Accuracy:  0.89375\n",
      "             precision    recall  f1-score   support\n",
      "\n",
      "      False       0.00      0.00      0.00        34\n",
      "       True       0.89      1.00      0.94       286\n",
      "\n",
      "avg / total       0.80      0.89      0.84       320\n",
      "\n"
     ]
    },
    {
     "name": "stderr",
     "output_type": "stream",
     "text": [
      "C:\\ProgramData\\Anaconda3\\lib\\site-packages\\sklearn\\metrics\\classification.py:1135: UndefinedMetricWarning: Precision and F-score are ill-defined and being set to 0.0 in labels with no predicted samples.\n",
      "  'precision', 'predicted', average, warn_for)\n"
     ]
    }
   ],
   "source": [
    "for c in C:\n",
    "    for g in gamma:\n",
    "        ## Poly\n",
    "        clf = SVC(kernel='poly',degree=7,C=c,gamma=g)\n",
    "        clf.fit(X_train_r, y_train_r)\n",
    "        y_pred_r = clf.predict(X_test_r)  \n",
    "        print(\"Parametro C: \",c)\n",
    "        print(\"Parametro gamma: \",g)\n",
    "        print(\"Accuracy: \",accuracy_score(y_test_r,y_pred_r))  \n",
    "        #print(confusion_matrix(y_test_w,y_pred_w))  \n",
    "        print(classification_report(y_test_r,y_pred_r))  \n"
   ]
  },
  {
   "cell_type": "markdown",
   "metadata": {},
   "source": [
    "Parametro C:  10\n",
    "Parametro gamma:  0.01"
   ]
  },
  {
   "cell_type": "markdown",
   "metadata": {},
   "source": [
    "### White Wine"
   ]
  },
  {
   "cell_type": "code",
   "execution_count": 20,
   "metadata": {},
   "outputs": [
    {
     "name": "stdout",
     "output_type": "stream",
     "text": [
      "Parametro C:  0.1\n",
      "Parametro gamma:  0.01\n",
      "Accuracy:  0.7857142857142857\n",
      "             precision    recall  f1-score   support\n",
      "\n",
      "      False       0.00      0.00      0.00       210\n",
      "       True       0.79      1.00      0.88       770\n",
      "\n",
      "avg / total       0.62      0.79      0.69       980\n",
      "\n",
      "Parametro C:  0.1\n",
      "Parametro gamma:  0.001\n",
      "Accuracy:  0.7857142857142857\n",
      "             precision    recall  f1-score   support\n",
      "\n",
      "      False       0.00      0.00      0.00       210\n",
      "       True       0.79      1.00      0.88       770\n",
      "\n",
      "avg / total       0.62      0.79      0.69       980\n",
      "\n"
     ]
    },
    {
     "name": "stderr",
     "output_type": "stream",
     "text": [
      "C:\\ProgramData\\Anaconda3\\lib\\site-packages\\sklearn\\metrics\\classification.py:1135: UndefinedMetricWarning: Precision and F-score are ill-defined and being set to 0.0 in labels with no predicted samples.\n",
      "  'precision', 'predicted', average, warn_for)\n"
     ]
    },
    {
     "name": "stdout",
     "output_type": "stream",
     "text": [
      "Parametro C:  0.1\n",
      "Parametro gamma:  0.0001\n",
      "Accuracy:  0.7857142857142857\n",
      "             precision    recall  f1-score   support\n",
      "\n",
      "      False       0.00      0.00      0.00       210\n",
      "       True       0.79      1.00      0.88       770\n",
      "\n",
      "avg / total       0.62      0.79      0.69       980\n",
      "\n",
      "Parametro C:  1\n",
      "Parametro gamma:  0.01\n",
      "Accuracy:  0.7857142857142857\n",
      "             precision    recall  f1-score   support\n",
      "\n",
      "      False       0.00      0.00      0.00       210\n",
      "       True       0.79      1.00      0.88       770\n",
      "\n",
      "avg / total       0.62      0.79      0.69       980\n",
      "\n",
      "Parametro C:  1\n",
      "Parametro gamma:  0.001\n",
      "Accuracy:  0.7857142857142857\n",
      "             precision    recall  f1-score   support\n",
      "\n",
      "      False       0.00      0.00      0.00       210\n",
      "       True       0.79      1.00      0.88       770\n",
      "\n",
      "avg / total       0.62      0.79      0.69       980\n",
      "\n",
      "Parametro C:  1\n",
      "Parametro gamma:  0.0001\n",
      "Accuracy:  0.7857142857142857\n",
      "             precision    recall  f1-score   support\n",
      "\n",
      "      False       0.00      0.00      0.00       210\n",
      "       True       0.79      1.00      0.88       770\n",
      "\n",
      "avg / total       0.62      0.79      0.69       980\n",
      "\n",
      "Parametro C:  10\n",
      "Parametro gamma:  0.01\n",
      "Accuracy:  0.7857142857142857\n",
      "             precision    recall  f1-score   support\n",
      "\n",
      "      False       0.00      0.00      0.00       210\n",
      "       True       0.79      1.00      0.88       770\n",
      "\n",
      "avg / total       0.62      0.79      0.69       980\n",
      "\n",
      "Parametro C:  10\n",
      "Parametro gamma:  0.001\n",
      "Accuracy:  0.7857142857142857\n",
      "             precision    recall  f1-score   support\n",
      "\n",
      "      False       0.00      0.00      0.00       210\n",
      "       True       0.79      1.00      0.88       770\n",
      "\n",
      "avg / total       0.62      0.79      0.69       980\n",
      "\n",
      "Parametro C:  10\n",
      "Parametro gamma:  0.0001\n",
      "Accuracy:  0.7857142857142857\n",
      "             precision    recall  f1-score   support\n",
      "\n",
      "      False       0.00      0.00      0.00       210\n",
      "       True       0.79      1.00      0.88       770\n",
      "\n",
      "avg / total       0.62      0.79      0.69       980\n",
      "\n",
      "Parametro C:  100\n",
      "Parametro gamma:  0.01\n",
      "Accuracy:  0.7857142857142857\n",
      "             precision    recall  f1-score   support\n",
      "\n",
      "      False       0.00      0.00      0.00       210\n",
      "       True       0.79      1.00      0.88       770\n",
      "\n",
      "avg / total       0.62      0.79      0.69       980\n",
      "\n",
      "Parametro C:  100\n",
      "Parametro gamma:  0.001\n",
      "Accuracy:  0.7857142857142857\n",
      "             precision    recall  f1-score   support\n",
      "\n",
      "      False       0.00      0.00      0.00       210\n",
      "       True       0.79      1.00      0.88       770\n",
      "\n",
      "avg / total       0.62      0.79      0.69       980\n",
      "\n",
      "Parametro C:  100\n",
      "Parametro gamma:  0.0001\n",
      "Accuracy:  0.7857142857142857\n",
      "             precision    recall  f1-score   support\n",
      "\n",
      "      False       0.00      0.00      0.00       210\n",
      "       True       0.79      1.00      0.88       770\n",
      "\n",
      "avg / total       0.62      0.79      0.69       980\n",
      "\n",
      "Parametro C:  1000\n",
      "Parametro gamma:  0.01\n",
      "Accuracy:  0.7887755102040817\n",
      "             precision    recall  f1-score   support\n",
      "\n",
      "      False       1.00      0.01      0.03       210\n",
      "       True       0.79      1.00      0.88       770\n",
      "\n",
      "avg / total       0.83      0.79      0.70       980\n",
      "\n",
      "Parametro C:  1000\n",
      "Parametro gamma:  0.001\n",
      "Accuracy:  0.7857142857142857\n",
      "             precision    recall  f1-score   support\n",
      "\n",
      "      False       0.00      0.00      0.00       210\n",
      "       True       0.79      1.00      0.88       770\n",
      "\n",
      "avg / total       0.62      0.79      0.69       980\n",
      "\n",
      "Parametro C:  1000\n",
      "Parametro gamma:  0.0001\n",
      "Accuracy:  0.7857142857142857\n",
      "             precision    recall  f1-score   support\n",
      "\n",
      "      False       0.00      0.00      0.00       210\n",
      "       True       0.79      1.00      0.88       770\n",
      "\n",
      "avg / total       0.62      0.79      0.69       980\n",
      "\n"
     ]
    }
   ],
   "source": [
    "for c in C:\n",
    "    for g in gamma:\n",
    "        ## Poly\n",
    "        clf = SVC(kernel='poly',degree=7,C=c,gamma=g)\n",
    "        clf.fit(X_train_w, y_train_w)\n",
    "        y_pred_w = clf.predict(X_test_w)  \n",
    "        print(\"Parametro C: \",c)\n",
    "        print(\"Parametro gamma: \",g)\n",
    "        print(\"Accuracy: \",accuracy_score(y_test_w,y_pred_w))  \n",
    "        #print(confusion_matrix(y_test_w,y_pred_w))  \n",
    "        print(classification_report(y_test_w,y_pred_w))  \n"
   ]
  },
  {
   "cell_type": "markdown",
   "metadata": {},
   "source": [
    "Parametro C:  1000\n",
    "Parametro gamma:  0.001c"
   ]
  },
  {
   "cell_type": "markdown",
   "metadata": {},
   "source": [
    "# Exercise 6.5\n",
    "\n",
    "Compare the results with other methods"
   ]
  },
  {
   "cell_type": "markdown",
   "metadata": {},
   "source": [
    "### Red Wine"
   ]
  },
  {
   "cell_type": "code",
   "execution_count": 21,
   "metadata": {},
   "outputs": [
    {
     "name": "stdout",
     "output_type": "stream",
     "text": [
      "Accuracy:  0.884375\n",
      "Confusion Matrix: \n",
      "  [[ 12  22]\n",
      " [ 15 271]]\n",
      "             precision    recall  f1-score   support\n",
      "\n",
      "      False       0.44      0.35      0.39        34\n",
      "       True       0.92      0.95      0.94       286\n",
      "\n",
      "avg / total       0.87      0.88      0.88       320\n",
      "\n"
     ]
    }
   ],
   "source": [
    "from sklearn.linear_model import LogisticRegression\n",
    "logreg = LogisticRegression(solver='liblinear',C=1e9)\n",
    "\n",
    "\n",
    "clf = LogisticRegression()\n",
    "clf.fit(X_train_r, y_train_r)\n",
    "y_pred_r = clf.predict(X_test_r)  \n",
    "print(\"Accuracy: \",accuracy_score(y_test_r,y_pred_r))  \n",
    "print(\"Confusion Matrix: \\n \",confusion_matrix(y_test_r,y_pred_r))  \n",
    "print(classification_report(y_test_r,y_pred_r)) "
   ]
  },
  {
   "cell_type": "markdown",
   "metadata": {},
   "source": [
    "### White Wine"
   ]
  },
  {
   "cell_type": "code",
   "execution_count": 22,
   "metadata": {},
   "outputs": [
    {
     "name": "stdout",
     "output_type": "stream",
     "text": [
      "Accuracy:  0.7857142857142857\n",
      "Confusion Matrix: \n",
      "  [[  0 210]\n",
      " [  0 770]]\n",
      "             precision    recall  f1-score   support\n",
      "\n",
      "      False       0.00      0.00      0.00       210\n",
      "       True       0.79      1.00      0.88       770\n",
      "\n",
      "avg / total       0.62      0.79      0.69       980\n",
      "\n"
     ]
    },
    {
     "name": "stderr",
     "output_type": "stream",
     "text": [
      "C:\\ProgramData\\Anaconda3\\lib\\site-packages\\sklearn\\metrics\\classification.py:1135: UndefinedMetricWarning: Precision and F-score are ill-defined and being set to 0.0 in labels with no predicted samples.\n",
      "  'precision', 'predicted', average, warn_for)\n"
     ]
    }
   ],
   "source": [
    "from sklearn.linear_model import LogisticRegression\n",
    "logreg = LogisticRegression(solver='liblinear',C=1e9)\n",
    "\n",
    "clf = LogisticRegression()\n",
    "clf.fit(X_train_w, y_train_w)\n",
    "y_pred_r = clf.predict(X_test_w)  \n",
    "print(\"Accuracy: \",accuracy_score(y_test_w,y_pred_w))  \n",
    "print(\"Confusion Matrix: \\n \",confusion_matrix(y_test_w,y_pred_w))  \n",
    "print(classification_report(y_test_w,y_pred_w)) "
   ]
  },
  {
   "cell_type": "markdown",
   "metadata": {},
   "source": [
    "Se obtienen resultados similares a los obtenidos con el SVM"
   ]
  },
  {
   "cell_type": "markdown",
   "metadata": {},
   "source": [
    "# Regularization"
   ]
  },
  {
   "cell_type": "markdown",
   "metadata": {},
   "source": [
    "# Exercise 6.6\n",
    "\n",
    "\n",
    "* Train a linear regression to predict wine quality (Continous)\n",
    "\n",
    "* Analyze the coefficients\n",
    "\n",
    "* Evaluate the RMSE"
   ]
  },
  {
   "cell_type": "code",
   "execution_count": 23,
   "metadata": {},
   "outputs": [
    {
     "name": "stdout",
     "output_type": "stream",
     "text": [
      "RMSE: 0.7073692780085403\n"
     ]
    }
   ],
   "source": [
    "from sklearn.linear_model import LinearRegression\n",
    "from sklearn import metrics\n",
    "X=data[['fixed acidity','volatile acidity','citric acid','residual sugar','chlorides','free sulfur dioxide','total sulfur dioxide','density','pH','sulphates','alcohol']]\n",
    "y=data['quality']\n",
    "X_train, X_test, y_train, y_test = train_test_split(X, y, test_size = 0.20)  \n",
    "clf = LinearRegression(normalize=True)\n",
    "clf.fit(X_train,y_train)\n",
    "y_pred=clf.predict(X_test)\n",
    "print('RMSE:',np.sqrt(metrics.mean_squared_error(y_test, y_pred)))"
   ]
  },
  {
   "cell_type": "code",
   "execution_count": 24,
   "metadata": {
    "scrolled": false
   },
   "outputs": [
    {
     "data": {
      "text/plain": [
       "[(0.061395872972993794, 'fixed acidity'),\n",
       " (-1.3198211885306308, 'volatile acidity'),\n",
       " (-0.08330206763111259, 'citric acid'),\n",
       " (0.04280396636470111, 'residual sugar'),\n",
       " (-0.5476638477843754, 'chlorides'),\n",
       " (0.005357935454639257, 'free sulfur dioxide'),\n",
       " (-0.002375944486074309, 'total sulfur dioxide'),\n",
       " (-51.53879060214959, 'density'),\n",
       " (0.423870216152956, 'pH'),\n",
       " (0.7421655859476448, 'sulphates'),\n",
       " (0.2668871452180932, 'alcohol')]"
      ]
     },
     "execution_count": 24,
     "metadata": {},
     "output_type": "execute_result"
    }
   ],
   "source": [
    "list(zip(clf.coef_, X.columns))"
   ]
  },
  {
   "cell_type": "markdown",
   "metadata": {},
   "source": [
    "Los coeicientes son variables en cuanto a tamaño"
   ]
  },
  {
   "cell_type": "markdown",
   "metadata": {},
   "source": [
    "# Exercise 6.7\n",
    "\n",
    "* Estimate a ridge regression with alpha equals 0.1 and 1.\n",
    "* Compare the coefficients with the linear regression\n",
    "* Evaluate the RMSE"
   ]
  },
  {
   "cell_type": "markdown",
   "metadata": {},
   "source": [
    "### Alpha=0.1"
   ]
  },
  {
   "cell_type": "code",
   "execution_count": 25,
   "metadata": {},
   "outputs": [
    {
     "name": "stdout",
     "output_type": "stream",
     "text": [
      "0.7123732789964877\n"
     ]
    }
   ],
   "source": [
    "# alpha=0 is equivalent to linear regression\n",
    "from sklearn.linear_model import Ridge\n",
    "ridgereg = Ridge(alpha=0.1, normalize=True)\n",
    "ridgereg.fit(X_train, y_train)\n",
    "y_pred = ridgereg.predict(X_test)\n",
    "print(np.sqrt(metrics.mean_squared_error(y_test, y_pred)))"
   ]
  },
  {
   "cell_type": "code",
   "execution_count": 26,
   "metadata": {},
   "outputs": [
    {
     "data": {
      "text/plain": [
       "[(0.02502274663419073, 'fixed acidity'),\n",
       " (-1.1544714321271625, 'volatile acidity'),\n",
       " (0.04001876539963061, 'citric acid'),\n",
       " (0.026642287227670494, 'residual sugar'),\n",
       " (-1.0336818568861068, 'chlorides'),\n",
       " (0.004100646818293349, 'free sulfur dioxide'),\n",
       " (-0.0017574968642497754, 'total sulfur dioxide'),\n",
       " (-29.82470702946888, 'density'),\n",
       " (0.25059226151889147, 'pH'),\n",
       " (0.6349688054159802, 'sulphates'),\n",
       " (0.2564645631282619, 'alcohol')]"
      ]
     },
     "execution_count": 26,
     "metadata": {},
     "output_type": "execute_result"
    }
   ],
   "source": [
    "list(zip(ridgereg.coef_, X.columns))"
   ]
  },
  {
   "cell_type": "markdown",
   "metadata": {},
   "source": [
    "### Alpha=1"
   ]
  },
  {
   "cell_type": "code",
   "execution_count": 27,
   "metadata": {},
   "outputs": [
    {
     "name": "stdout",
     "output_type": "stream",
     "text": [
      "0.7536207665179115\n"
     ]
    }
   ],
   "source": [
    "# alpha=0 is equivalent to linear regression\n",
    "from sklearn.linear_model import Ridge\n",
    "ridgereg = Ridge(alpha=1, normalize=True)\n",
    "ridgereg.fit(X_train, y_train)\n",
    "y_pred = ridgereg.predict(X_test)\n",
    "print(np.sqrt(metrics.mean_squared_error(y_test, y_pred)))"
   ]
  },
  {
   "cell_type": "code",
   "execution_count": 28,
   "metadata": {},
   "outputs": [
    {
     "data": {
      "text/plain": [
       "[(-0.002758484490947164, 'fixed acidity'),\n",
       " (-0.5781607943837666, 'volatile acidity'),\n",
       " (0.17889790395568772, 'citric acid'),\n",
       " (0.005909564187723413, 'residual sugar'),\n",
       " (-1.3158822427130146, 'chlorides'),\n",
       " (0.001374135108243448, 'free sulfur dioxide'),\n",
       " (-0.0005725178808080742, 'total sulfur dioxide'),\n",
       " (-22.893829301955414, 'density'),\n",
       " (0.08625651715184338, 'pH'),\n",
       " (0.2926589425060024, 'sulphates'),\n",
       " (0.13651496066377228, 'alcohol')]"
      ]
     },
     "execution_count": 28,
     "metadata": {},
     "output_type": "execute_result"
    }
   ],
   "source": [
    "list(zip(ridgereg.coef_, X.columns))"
   ]
  },
  {
   "cell_type": "markdown",
   "metadata": {},
   "source": [
    "En la medida que aumentamos el alpha, la difenrencia en los valores de los coeficientes disminuye pero aumenta el error."
   ]
  },
  {
   "cell_type": "markdown",
   "metadata": {},
   "source": [
    "# Exercise 6.8\n",
    "\n",
    "* Estimate a lasso regression with alpha equals 0.01, 0.1 and 1.\n",
    "* Compare the coefficients with the linear regression\n",
    "* Evaluate the RMSE"
   ]
  },
  {
   "cell_type": "code",
   "execution_count": 29,
   "metadata": {
    "scrolled": true
   },
   "outputs": [
    {
     "name": "stdout",
     "output_type": "stream",
     "text": [
      "0.8593662004943828\n"
     ]
    },
    {
     "data": {
      "text/plain": [
       "[(-0.0, 'fixed acidity'),\n",
       " (-0.0, 'volatile acidity'),\n",
       " (0.0, 'citric acid'),\n",
       " (-0.0, 'residual sugar'),\n",
       " (-0.0, 'chlorides'),\n",
       " (0.0, 'free sulfur dioxide'),\n",
       " (-0.0, 'total sulfur dioxide'),\n",
       " (-0.0, 'density'),\n",
       " (0.0, 'pH'),\n",
       " (0.0, 'sulphates'),\n",
       " (0.0, 'alcohol')]"
      ]
     },
     "execution_count": 29,
     "metadata": {},
     "output_type": "execute_result"
    }
   ],
   "source": [
    "# try alpha=0.001 and examine coefficients\n",
    "from sklearn.linear_model import Lasso\n",
    "lassoreg = Lasso(alpha=0.01, normalize=True)\n",
    "lassoreg.fit(X_train, y_train)\n",
    "y_pred = lassoreg.predict(X_test)\n",
    "print(np.sqrt(metrics.mean_squared_error(y_test, y_pred)))\n",
    "list(zip(lassoreg.coef_, X.columns))"
   ]
  },
  {
   "cell_type": "code",
   "execution_count": 35,
   "metadata": {},
   "outputs": [
    {
     "name": "stdout",
     "output_type": "stream",
     "text": [
      "0.4064812266388907\n"
     ]
    },
    {
     "data": {
      "text/plain": [
       "[(0.0, 'fixed acidity'),\n",
       " (0.0, 'volatile acidity'),\n",
       " (-0.0, 'citric acid'),\n",
       " (0.0, 'residual sugar'),\n",
       " (0.0, 'chlorides'),\n",
       " (-0.0, 'free sulfur dioxide'),\n",
       " (0.0, 'total sulfur dioxide'),\n",
       " (0.0, 'density'),\n",
       " (-0.0, 'pH'),\n",
       " (-0.0, 'sulphates'),\n",
       " (-0.0, 'alcohol')]"
      ]
     },
     "execution_count": 35,
     "metadata": {},
     "output_type": "execute_result"
    }
   ],
   "source": [
    "from sklearn.linear_model import Lasso\n",
    "lassoreg = Lasso(alpha=0.1, normalize=True)\n",
    "lassoreg.fit(X_train, y_train)\n",
    "y_pred = lassoreg.predict(X_test)\n",
    "print(np.sqrt(metrics.mean_squared_error(y_test, y_pred)))\n",
    "list(zip(lassoreg.coef_, X.columns))"
   ]
  },
  {
   "cell_type": "code",
   "execution_count": 37,
   "metadata": {},
   "outputs": [
    {
     "name": "stdout",
     "output_type": "stream",
     "text": [
      "0.4064812266388907\n"
     ]
    },
    {
     "data": {
      "text/plain": [
       "[(0.0, 'fixed acidity'),\n",
       " (0.0, 'volatile acidity'),\n",
       " (-0.0, 'citric acid'),\n",
       " (0.0, 'residual sugar'),\n",
       " (0.0, 'chlorides'),\n",
       " (-0.0, 'free sulfur dioxide'),\n",
       " (0.0, 'total sulfur dioxide'),\n",
       " (0.0, 'density'),\n",
       " (-0.0, 'pH'),\n",
       " (-0.0, 'sulphates'),\n",
       " (-0.0, 'alcohol')]"
      ]
     },
     "execution_count": 37,
     "metadata": {},
     "output_type": "execute_result"
    }
   ],
   "source": [
    "from sklearn.linear_model import Lasso\n",
    "lassoreg = Lasso(alpha=1, normalize=True)\n",
    "lassoreg.fit(X_train, y_train)\n",
    "y_pred = lassoreg.predict(X_test)\n",
    "print(np.sqrt(metrics.mean_squared_error(y_test, y_pred)))\n",
    "list(zip(lassoreg.coef_, X.columns))"
   ]
  },
  {
   "cell_type": "markdown",
   "metadata": {},
   "source": [
    "En los 3 casos, los coeficientes son iguales a 0"
   ]
  },
  {
   "cell_type": "markdown",
   "metadata": {},
   "source": [
    "# Exercise 6.9\n",
    "\n",
    "* Create a binary target\n",
    "\n",
    "* Train a logistic regression to predict wine quality (binary)\n",
    "\n",
    "* Analyze the coefficients\n",
    "\n",
    "* Evaluate the f1score"
   ]
  },
  {
   "cell_type": "code",
   "execution_count": 30,
   "metadata": {},
   "outputs": [
    {
     "name": "stdout",
     "output_type": "stream",
     "text": [
      "Accuracy:  0.816923076923077\n",
      "Confusion Matrix: \n",
      "  [[ 70 201]\n",
      " [ 37 992]]\n",
      "             precision    recall  f1-score   support\n",
      "\n",
      "      False       0.65      0.26      0.37       271\n",
      "       True       0.83      0.96      0.89      1029\n",
      "\n",
      "avg / total       0.79      0.82      0.78      1300\n",
      "\n"
     ]
    }
   ],
   "source": [
    "\n",
    "X=data[['fixed acidity','volatile acidity','citric acid','residual sugar','chlorides','free sulfur dioxide','total sulfur dioxide','density','pH','sulphates','alcohol']]\n",
    "y=data['quality_bin']\n",
    "X_train, X_test, y_train, y_test = train_test_split(X, y, test_size = 0.20)  \n",
    "\n",
    "\n",
    "X_train= preprocessing.scale(X_train)\n",
    "X_test = preprocessing.scale(X_test)\n",
    "\n",
    "clf = LogisticRegression()\n",
    "clf.fit(X_train, y_train)\n",
    "y_pred = clf.predict(X_test)  \n",
    "print(\"Accuracy: \",accuracy_score(y_test,y_pred))  \n",
    "print(\"Confusion Matrix: \\n \",confusion_matrix(y_test,y_pred))  \n",
    "print(classification_report(y_test,y_pred)) \n",
    "\n"
   ]
  },
  {
   "cell_type": "code",
   "execution_count": 31,
   "metadata": {},
   "outputs": [
    {
     "data": {
      "text/plain": [
       "[(array([-0.52747511,  0.54548481,  0.02687156, -0.79179878,  0.23975407,\n",
       "         -0.24615168,  0.34831857,  0.78471   , -0.34848215, -0.36291321,\n",
       "         -0.71476875]), 'fixed acidity')]"
      ]
     },
     "execution_count": 31,
     "metadata": {},
     "output_type": "execute_result"
    }
   ],
   "source": [
    "list(zip(clf.coef_, data.columns))"
   ]
  },
  {
   "cell_type": "markdown",
   "metadata": {},
   "source": [
    "# Exercise 6.10\n",
    "\n",
    "* Estimate a regularized logistic regression using:\n",
    "* C = 0.01, 0.1 & 1.0\n",
    "* penalty = ['l1, 'l2']\n",
    "* Compare the coefficients and the f1score"
   ]
  },
  {
   "cell_type": "code",
   "execution_count": 32,
   "metadata": {},
   "outputs": [],
   "source": [
    "C=[ 0.01, 0.1 ,1.0]\n",
    "penalty=[\"l1\", \"l2\"]"
   ]
  },
  {
   "cell_type": "code",
   "execution_count": 33,
   "metadata": {},
   "outputs": [
    {
     "name": "stdout",
     "output_type": "stream",
     "text": [
      "Parametro C:  0.01\n",
      "Parametro gamma:  l1\n",
      "Coeficientes:  [[ 0.          0.29778715  0.          0.          0.          0.\n",
      "   0.          0.          0.         -0.05101922 -0.77275996]]\n",
      "             precision    recall  f1-score   support\n",
      "\n",
      "      False       0.65      0.26      0.37       271\n",
      "       True       0.83      0.96      0.89      1029\n",
      "\n",
      "avg / total       0.79      0.82      0.78      1300\n",
      "\n",
      "Parametro C:  0.01\n",
      "Parametro gamma:  l2\n",
      "Coeficientes:  [[-0.16636871  0.34392453 -0.03527468 -0.29466125  0.19952218 -0.15214483\n",
      "   0.18302499  0.26170105 -0.13046513 -0.22659669 -0.67254725]]\n",
      "             precision    recall  f1-score   support\n",
      "\n",
      "      False       0.65      0.26      0.37       271\n",
      "       True       0.83      0.96      0.89      1029\n",
      "\n",
      "avg / total       0.79      0.82      0.78      1300\n",
      "\n",
      "Parametro C:  0.1\n",
      "Parametro gamma:  l1\n",
      "Coeficientes:  [[-0.28188986  0.53984953  0.         -0.47172697  0.24639809 -0.19494195\n",
      "   0.24481692  0.33595701 -0.20218641 -0.29499087 -0.87091634]]\n",
      "             precision    recall  f1-score   support\n",
      "\n",
      "      False       0.65      0.26      0.37       271\n",
      "       True       0.83      0.96      0.89      1029\n",
      "\n",
      "avg / total       0.79      0.82      0.78      1300\n",
      "\n",
      "Parametro C:  0.1\n",
      "Parametro gamma:  l2\n",
      "Coeficientes:  [[-0.41277208  0.52457309  0.01522308 -0.63413066  0.25638766 -0.23114949\n",
      "   0.31140039  0.5744733  -0.28081713 -0.32930751 -0.76428216]]\n",
      "             precision    recall  f1-score   support\n",
      "\n",
      "      False       0.65      0.26      0.37       271\n",
      "       True       0.83      0.96      0.89      1029\n",
      "\n",
      "avg / total       0.79      0.82      0.78      1300\n",
      "\n",
      "Parametro C:  1.0\n",
      "Parametro gamma:  l1\n",
      "Coeficientes:  [[-0.51767189  0.54521119  0.02330018 -0.78154041  0.23697585 -0.24252891\n",
      "   0.34269621  0.77028072 -0.34315154 -0.36035082 -0.72116144]]\n",
      "             precision    recall  f1-score   support\n",
      "\n",
      "      False       0.65      0.26      0.37       271\n",
      "       True       0.83      0.96      0.89      1029\n",
      "\n",
      "avg / total       0.79      0.82      0.78      1300\n",
      "\n",
      "Parametro C:  1.0\n",
      "Parametro gamma:  l2\n",
      "Coeficientes:  [[-0.52747511  0.54548481  0.02687156 -0.79179878  0.23975407 -0.24615168\n",
      "   0.34831857  0.78471    -0.34848215 -0.36291321 -0.71476875]]\n",
      "             precision    recall  f1-score   support\n",
      "\n",
      "      False       0.65      0.26      0.37       271\n",
      "       True       0.83      0.96      0.89      1029\n",
      "\n",
      "avg / total       0.79      0.82      0.78      1300\n",
      "\n"
     ]
    }
   ],
   "source": [
    "for c in C:\n",
    "    for p in penalty:\n",
    "        logreg = LogisticRegression(C=c, penalty=p,solver='liblinear')\n",
    "        logreg.fit(X_train, y_train)\n",
    "        y_pred = clf.predict(X_test)  \n",
    "        print(\"Parametro C: \",c)\n",
    "        print(\"Parametro gamma: \",p)\n",
    "        print(\"Coeficientes: \",logreg.coef_)  \n",
    "        print(classification_report(y_test,y_pred))  "
   ]
  },
  {
   "cell_type": "markdown",
   "metadata": {},
   "source": [
    "Se obtienen resultados iguales en el f1-score, al cambiar los parametros."
   ]
  }
 ],
 "metadata": {
  "kernelspec": {
   "display_name": "Python 3",
   "language": "python",
   "name": "python3"
  },
  "language_info": {
   "codemirror_mode": {
    "name": "ipython",
    "version": 3
   },
   "file_extension": ".py",
   "mimetype": "text/x-python",
   "name": "python",
   "nbconvert_exporter": "python",
   "pygments_lexer": "ipython3",
   "version": "3.7.0"
  }
 },
 "nbformat": 4,
 "nbformat_minor": 1
}

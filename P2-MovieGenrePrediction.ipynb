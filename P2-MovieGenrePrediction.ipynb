{
 "cells": [
  {
   "cell_type": "markdown",
   "metadata": {},
   "source": [
    "# Machine Learning\n",
    "#### MIIA 4200 (2019-I) - Proyecto 2\n",
    "## Movie Genre Classification\n",
    "\n",
    "<p>Profesor:  Alejandro Correa Bahnsen</p>\n",
    "<p>Estudiantes: Cristina Sierra Alcala - Oscar Andrés Mosquera - Eduardo Daniel Chain</p>\n",
    "\n",
    "Classify a movie genre based on its plot.\n",
    "\n",
    "<img src=\"moviegenre.png\"\n",
    "     style=\"float: left; margin-right: 10px;\" />\n",
    "\n",
    "\n",
    "\n",
    "\n",
    "https://www.kaggle.com/c/miia4200-20191-p2-moviegenreclassification/overview"
   ]
  },
  {
   "cell_type": "markdown",
   "metadata": {},
   "source": [
    "### Data\n",
    "\n",
    "Input:\n",
    "- movie plot\n",
    "\n",
    "Output:\n",
    "Probability of the movie belong to each genre\n",
    "\n",
    "\n",
    "### Evaluation\n",
    "\n",
    "- 20% API\n",
    "- 30% Create a solution using with a Machine Learning algorithm - Presentation (5 slides)\n",
    "- 50% Performance in the Kaggle competition (Normalized acording to class performance in the private leaderboard)\n",
    "\n",
    "\n",
    "### Acknowledgements\n",
    "\n",
    "We thank Professor Fabio Gonzalez, Ph.D. and his student John Arevalo for providing this dataset.\n",
    "\n",
    "See https://arxiv.org/abs/1702.01992"
   ]
  },
  {
   "cell_type": "markdown",
   "metadata": {},
   "source": [
    "## Exploración preliminar de datos\n",
    "#### Carga de los datos\n",
    "\n",
    "- Se realiza la carga de los datos y la respectivas librerias"
   ]
  },
  {
   "cell_type": "code",
   "execution_count": 24,
   "metadata": {},
   "outputs": [],
   "source": [
    "import pandas as pd\n",
    "import os\n",
    "import nltk\n",
    "import numpy as np\n",
    "import re\n",
    "from sklearn.feature_extraction.text import CountVectorizer, TfidfVectorizer\n",
    "from sklearn.preprocessing import MultiLabelBinarizer\n",
    "from sklearn.multiclass import OneVsRestClassifier\n",
    "from sklearn.ensemble import RandomForestRegressor, RandomForestClassifier, BaggingRegressor, BaggingClassifier\n",
    "from sklearn.metrics import r2_score, roc_auc_score, make_scorer\n",
    "from sklearn.model_selection import train_test_split, GridSearchCV, KFold\n",
    "from sklearn.linear_model import LogisticRegression, SGDClassifier, LogisticRegressionCV\n",
    "from sklearn.neighbors import KNeighborsClassifier\n",
    "from sklearn import linear_model, svm\n",
    "import seaborn as sns\n",
    "import matplotlib.pyplot as plt\n",
    "sns.set(style=\"ticks\", color_codes=True)\n",
    "from nltk.stem import PorterStemmer, SnowballStemmer\n",
    "from nltk import word_tokenize,sent_tokenize\n",
    "from nltk.corpus import stopwords  \n",
    "import pickle\n",
    "\n",
    "from sklearn.model_selection import cross_val_score\n",
    "\n",
    "from sklearn.svm import SVC\n",
    "\n",
    "import warnings\n",
    "warnings.filterwarnings('ignore')"
   ]
  },
  {
   "cell_type": "code",
   "execution_count": 9,
   "metadata": {},
   "outputs": [],
   "source": [
    "#dataTraining = pd.read_csv('https://github.com/albahnsen/PracticalMachineLearningClass/raw/master/datasets/dataTraining.zip', encoding='UTF-8', index_col=0)\n",
    "#dataTesting = pd.read_csv('https://github.com/albahnsen/PracticalMachineLearningClass/raw/master/datasets/dataTesting.zip', encoding='UTF-8', index_col=0)"
   ]
  },
  {
   "cell_type": "code",
   "execution_count": 25,
   "metadata": {},
   "outputs": [],
   "source": [
    "dataTraining = pd.read_csv('dataTraining.csv', encoding='UTF-8', index_col=0)\n",
    "dataTesting = pd.read_csv('dataTesting.csv', encoding='UTF-8', index_col=0)"
   ]
  },
  {
   "cell_type": "markdown",
   "metadata": {},
   "source": [
    "- Explorar los campos y columnas de los dataframe"
   ]
  },
  {
   "cell_type": "code",
   "execution_count": 3,
   "metadata": {},
   "outputs": [
    {
     "data": {
      "text/html": [
       "<div>\n",
       "<style scoped>\n",
       "    .dataframe tbody tr th:only-of-type {\n",
       "        vertical-align: middle;\n",
       "    }\n",
       "\n",
       "    .dataframe tbody tr th {\n",
       "        vertical-align: top;\n",
       "    }\n",
       "\n",
       "    .dataframe thead th {\n",
       "        text-align: right;\n",
       "    }\n",
       "</style>\n",
       "<table border=\"1\" class=\"dataframe\">\n",
       "  <thead>\n",
       "    <tr style=\"text-align: right;\">\n",
       "      <th></th>\n",
       "      <th>year</th>\n",
       "      <th>title</th>\n",
       "      <th>plot</th>\n",
       "      <th>genres</th>\n",
       "      <th>rating</th>\n",
       "    </tr>\n",
       "  </thead>\n",
       "  <tbody>\n",
       "    <tr>\n",
       "      <th>3107</th>\n",
       "      <td>2003</td>\n",
       "      <td>Most</td>\n",
       "      <td>most is the story of a single father who takes...</td>\n",
       "      <td>['Short', 'Drama']</td>\n",
       "      <td>8.0</td>\n",
       "    </tr>\n",
       "    <tr>\n",
       "      <th>900</th>\n",
       "      <td>2008</td>\n",
       "      <td>How to Be a Serial Killer</td>\n",
       "      <td>a serial killer decides to teach the secrets o...</td>\n",
       "      <td>['Comedy', 'Crime', 'Horror']</td>\n",
       "      <td>5.6</td>\n",
       "    </tr>\n",
       "    <tr>\n",
       "      <th>6724</th>\n",
       "      <td>1941</td>\n",
       "      <td>A Woman's Face</td>\n",
       "      <td>in sweden ,  a female blackmailer with a disfi...</td>\n",
       "      <td>['Drama', 'Film-Noir', 'Thriller']</td>\n",
       "      <td>7.2</td>\n",
       "    </tr>\n",
       "    <tr>\n",
       "      <th>4704</th>\n",
       "      <td>1954</td>\n",
       "      <td>Executive Suite</td>\n",
       "      <td>in a friday afternoon in new york ,  the presi...</td>\n",
       "      <td>['Drama']</td>\n",
       "      <td>7.4</td>\n",
       "    </tr>\n",
       "    <tr>\n",
       "      <th>2582</th>\n",
       "      <td>1990</td>\n",
       "      <td>Narrow Margin</td>\n",
       "      <td>in los angeles ,  the editor of a publishing h...</td>\n",
       "      <td>['Action', 'Crime', 'Thriller']</td>\n",
       "      <td>6.6</td>\n",
       "    </tr>\n",
       "  </tbody>\n",
       "</table>\n",
       "</div>"
      ],
      "text/plain": [
       "      year                      title  \\\n",
       "3107  2003                       Most   \n",
       "900   2008  How to Be a Serial Killer   \n",
       "6724  1941             A Woman's Face   \n",
       "4704  1954            Executive Suite   \n",
       "2582  1990              Narrow Margin   \n",
       "\n",
       "                                                   plot  \\\n",
       "3107  most is the story of a single father who takes...   \n",
       "900   a serial killer decides to teach the secrets o...   \n",
       "6724  in sweden ,  a female blackmailer with a disfi...   \n",
       "4704  in a friday afternoon in new york ,  the presi...   \n",
       "2582  in los angeles ,  the editor of a publishing h...   \n",
       "\n",
       "                                  genres  rating  \n",
       "3107                  ['Short', 'Drama']     8.0  \n",
       "900        ['Comedy', 'Crime', 'Horror']     5.6  \n",
       "6724  ['Drama', 'Film-Noir', 'Thriller']     7.2  \n",
       "4704                           ['Drama']     7.4  \n",
       "2582     ['Action', 'Crime', 'Thriller']     6.6  "
      ]
     },
     "execution_count": 3,
     "metadata": {},
     "output_type": "execute_result"
    }
   ],
   "source": [
    "dataTraining.head()"
   ]
  },
  {
   "cell_type": "code",
   "execution_count": 5,
   "metadata": {},
   "outputs": [
    {
     "data": {
      "text/html": [
       "<div>\n",
       "<style scoped>\n",
       "    .dataframe tbody tr th:only-of-type {\n",
       "        vertical-align: middle;\n",
       "    }\n",
       "\n",
       "    .dataframe tbody tr th {\n",
       "        vertical-align: top;\n",
       "    }\n",
       "\n",
       "    .dataframe thead th {\n",
       "        text-align: right;\n",
       "    }\n",
       "</style>\n",
       "<table border=\"1\" class=\"dataframe\">\n",
       "  <thead>\n",
       "    <tr style=\"text-align: right;\">\n",
       "      <th></th>\n",
       "      <th>year</th>\n",
       "      <th>title</th>\n",
       "      <th>plot</th>\n",
       "    </tr>\n",
       "  </thead>\n",
       "  <tbody>\n",
       "    <tr>\n",
       "      <th>1</th>\n",
       "      <td>1999</td>\n",
       "      <td>Message in a Bottle</td>\n",
       "      <td>who meets by fate ,  shall be sealed by fate ....</td>\n",
       "    </tr>\n",
       "    <tr>\n",
       "      <th>4</th>\n",
       "      <td>1978</td>\n",
       "      <td>Midnight Express</td>\n",
       "      <td>the true story of billy hayes ,  an american c...</td>\n",
       "    </tr>\n",
       "    <tr>\n",
       "      <th>5</th>\n",
       "      <td>1996</td>\n",
       "      <td>Primal Fear</td>\n",
       "      <td>martin vail left the chicago da ' s office to ...</td>\n",
       "    </tr>\n",
       "    <tr>\n",
       "      <th>6</th>\n",
       "      <td>1950</td>\n",
       "      <td>Crisis</td>\n",
       "      <td>husband and wife americans dr .  eugene and mr...</td>\n",
       "    </tr>\n",
       "    <tr>\n",
       "      <th>7</th>\n",
       "      <td>1959</td>\n",
       "      <td>The Tingler</td>\n",
       "      <td>the coroner and scientist dr .  warren chapin ...</td>\n",
       "    </tr>\n",
       "  </tbody>\n",
       "</table>\n",
       "</div>"
      ],
      "text/plain": [
       "   year                title  \\\n",
       "1  1999  Message in a Bottle   \n",
       "4  1978     Midnight Express   \n",
       "5  1996          Primal Fear   \n",
       "6  1950               Crisis   \n",
       "7  1959          The Tingler   \n",
       "\n",
       "                                                plot  \n",
       "1  who meets by fate ,  shall be sealed by fate ....  \n",
       "4  the true story of billy hayes ,  an american c...  \n",
       "5  martin vail left the chicago da ' s office to ...  \n",
       "6  husband and wife americans dr .  eugene and mr...  \n",
       "7  the coroner and scientist dr .  warren chapin ...  "
      ]
     },
     "execution_count": 5,
     "metadata": {},
     "output_type": "execute_result"
    }
   ],
   "source": [
    "dataTesting.head()"
   ]
  },
  {
   "cell_type": "code",
   "execution_count": 26,
   "metadata": {},
   "outputs": [],
   "source": [
    "def explode(df, lst_cols, fill_value='', preserve_index=False):\n",
    "    # make sure `lst_cols` is list-alike\n",
    "    if (lst_cols is not None\n",
    "        and len(lst_cols) > 0\n",
    "        and not isinstance(lst_cols, (list, tuple, np.ndarray, pd.Series))):\n",
    "        lst_cols = [lst_cols]\n",
    "    # all columns except `lst_cols`\n",
    "    idx_cols = df.columns.difference(lst_cols)\n",
    "    # calculate lengths of lists\n",
    "    lens = df[lst_cols[0]].str.len()\n",
    "    # preserve original index values    \n",
    "    idx = np.repeat(df.index.values, lens)\n",
    "    # create \"exploded\" DF\n",
    "    res = (pd.DataFrame({\n",
    "                col:np.repeat(df[col].values, lens)\n",
    "                for col in idx_cols},\n",
    "                index=idx)\n",
    "             .assign(**{col:np.concatenate(df.loc[lens>0, col].values)\n",
    "                            for col in lst_cols}))\n",
    "    # append those rows that have empty lists\n",
    "    if (lens == 0).any():\n",
    "        # at least one list in cells is empty\n",
    "        res = (res.append(df.loc[lens==0, idx_cols], sort=False)\n",
    "                  .fillna(fill_value))\n",
    "    # revert the original index order\n",
    "    res = res.sort_index()\n",
    "    # reset index if requested\n",
    "    if not preserve_index:        \n",
    "        res = res.reset_index(drop=True)\n",
    "    return res"
   ]
  },
  {
   "cell_type": "code",
   "execution_count": 27,
   "metadata": {},
   "outputs": [
    {
     "data": {
      "text/html": [
       "<div>\n",
       "<style scoped>\n",
       "    .dataframe tbody tr th:only-of-type {\n",
       "        vertical-align: middle;\n",
       "    }\n",
       "\n",
       "    .dataframe tbody tr th {\n",
       "        vertical-align: top;\n",
       "    }\n",
       "\n",
       "    .dataframe thead th {\n",
       "        text-align: right;\n",
       "    }\n",
       "</style>\n",
       "<table border=\"1\" class=\"dataframe\">\n",
       "  <thead>\n",
       "    <tr style=\"text-align: right;\">\n",
       "      <th></th>\n",
       "      <th>plot</th>\n",
       "      <th>rating</th>\n",
       "      <th>title</th>\n",
       "      <th>year</th>\n",
       "      <th>genres</th>\n",
       "    </tr>\n",
       "  </thead>\n",
       "  <tbody>\n",
       "    <tr>\n",
       "      <th>0</th>\n",
       "      <td>major benson winifred payne is being discharge...</td>\n",
       "      <td>6.1</td>\n",
       "      <td>Major Payne</td>\n",
       "      <td>1995</td>\n",
       "      <td>['Adventure'</td>\n",
       "    </tr>\n",
       "    <tr>\n",
       "      <th>1</th>\n",
       "      <td>major benson winifred payne is being discharge...</td>\n",
       "      <td>6.1</td>\n",
       "      <td>Major Payne</td>\n",
       "      <td>1995</td>\n",
       "      <td>'Comedy'</td>\n",
       "    </tr>\n",
       "    <tr>\n",
       "      <th>2</th>\n",
       "      <td>major benson winifred payne is being discharge...</td>\n",
       "      <td>6.1</td>\n",
       "      <td>Major Payne</td>\n",
       "      <td>1995</td>\n",
       "      <td>'Family']</td>\n",
       "    </tr>\n",
       "    <tr>\n",
       "      <th>3</th>\n",
       "      <td>in  N  ad ,  in the iron age ,  a spacecraft c...</td>\n",
       "      <td>6.3</td>\n",
       "      <td>Outlander</td>\n",
       "      <td>2008</td>\n",
       "      <td>['Action'</td>\n",
       "    </tr>\n",
       "    <tr>\n",
       "      <th>4</th>\n",
       "      <td>in  N  ad ,  in the iron age ,  a spacecraft c...</td>\n",
       "      <td>6.3</td>\n",
       "      <td>Outlander</td>\n",
       "      <td>2008</td>\n",
       "      <td>'Adventure'</td>\n",
       "    </tr>\n",
       "  </tbody>\n",
       "</table>\n",
       "</div>"
      ],
      "text/plain": [
       "                                                plot  rating        title  \\\n",
       "0  major benson winifred payne is being discharge...     6.1  Major Payne   \n",
       "1  major benson winifred payne is being discharge...     6.1  Major Payne   \n",
       "2  major benson winifred payne is being discharge...     6.1  Major Payne   \n",
       "3  in  N  ad ,  in the iron age ,  a spacecraft c...     6.3    Outlander   \n",
       "4  in  N  ad ,  in the iron age ,  a spacecraft c...     6.3    Outlander   \n",
       "\n",
       "   year        genres  \n",
       "0  1995  ['Adventure'  \n",
       "1  1995      'Comedy'  \n",
       "2  1995     'Family']  \n",
       "3  2008     ['Action'  \n",
       "4  2008   'Adventure'  "
      ]
     },
     "execution_count": 27,
     "metadata": {},
     "output_type": "execute_result"
    }
   ],
   "source": [
    "dataTraining2 = pd.read_csv('dataTraining.csv', encoding='UTF-8', index_col=0)\n",
    "dataTraining2.genres = dataTraining2.genres.str.split(',')\n",
    "dataTraining2 = explode(dataTraining2, ['genres'])\n",
    "dataTraining2.head()"
   ]
  },
  {
   "cell_type": "code",
   "execution_count": 28,
   "metadata": {},
   "outputs": [],
   "source": [
    "dataTraining2['genres'] = dataTraining2['genres'].str.replace('[','')\n",
    "dataTraining2['genres'] = dataTraining2['genres'].str.replace(']','')\n",
    "dataTraining2['genres'] = dataTraining2['genres'].str.replace(\"'\",'')\n",
    "dataTraining2['genres'] = dataTraining2['genres'].str.lstrip()"
   ]
  },
  {
   "cell_type": "code",
   "execution_count": 9,
   "metadata": {},
   "outputs": [
    {
     "data": {
      "text/html": [
       "<div>\n",
       "<style scoped>\n",
       "    .dataframe tbody tr th:only-of-type {\n",
       "        vertical-align: middle;\n",
       "    }\n",
       "\n",
       "    .dataframe tbody tr th {\n",
       "        vertical-align: top;\n",
       "    }\n",
       "\n",
       "    .dataframe thead th {\n",
       "        text-align: right;\n",
       "    }\n",
       "</style>\n",
       "<table border=\"1\" class=\"dataframe\">\n",
       "  <thead>\n",
       "    <tr style=\"text-align: right;\">\n",
       "      <th></th>\n",
       "      <th>plot</th>\n",
       "      <th>rating</th>\n",
       "      <th>title</th>\n",
       "      <th>year</th>\n",
       "      <th>genres</th>\n",
       "    </tr>\n",
       "  </thead>\n",
       "  <tbody>\n",
       "    <tr>\n",
       "      <th>0</th>\n",
       "      <td>major benson winifred payne is being discharge...</td>\n",
       "      <td>6.1</td>\n",
       "      <td>Major Payne</td>\n",
       "      <td>1995</td>\n",
       "      <td>Adventure</td>\n",
       "    </tr>\n",
       "    <tr>\n",
       "      <th>1</th>\n",
       "      <td>major benson winifred payne is being discharge...</td>\n",
       "      <td>6.1</td>\n",
       "      <td>Major Payne</td>\n",
       "      <td>1995</td>\n",
       "      <td>Comedy</td>\n",
       "    </tr>\n",
       "    <tr>\n",
       "      <th>2</th>\n",
       "      <td>major benson winifred payne is being discharge...</td>\n",
       "      <td>6.1</td>\n",
       "      <td>Major Payne</td>\n",
       "      <td>1995</td>\n",
       "      <td>Family</td>\n",
       "    </tr>\n",
       "    <tr>\n",
       "      <th>3</th>\n",
       "      <td>in  N  ad ,  in the iron age ,  a spacecraft c...</td>\n",
       "      <td>6.3</td>\n",
       "      <td>Outlander</td>\n",
       "      <td>2008</td>\n",
       "      <td>Action</td>\n",
       "    </tr>\n",
       "    <tr>\n",
       "      <th>4</th>\n",
       "      <td>in  N  ad ,  in the iron age ,  a spacecraft c...</td>\n",
       "      <td>6.3</td>\n",
       "      <td>Outlander</td>\n",
       "      <td>2008</td>\n",
       "      <td>Adventure</td>\n",
       "    </tr>\n",
       "  </tbody>\n",
       "</table>\n",
       "</div>"
      ],
      "text/plain": [
       "                                                plot  rating        title  \\\n",
       "0  major benson winifred payne is being discharge...     6.1  Major Payne   \n",
       "1  major benson winifred payne is being discharge...     6.1  Major Payne   \n",
       "2  major benson winifred payne is being discharge...     6.1  Major Payne   \n",
       "3  in  N  ad ,  in the iron age ,  a spacecraft c...     6.3    Outlander   \n",
       "4  in  N  ad ,  in the iron age ,  a spacecraft c...     6.3    Outlander   \n",
       "\n",
       "   year      genres  \n",
       "0  1995   Adventure  \n",
       "1  1995      Comedy  \n",
       "2  1995      Family  \n",
       "3  2008      Action  \n",
       "4  2008   Adventure  "
      ]
     },
     "execution_count": 9,
     "metadata": {},
     "output_type": "execute_result"
    }
   ],
   "source": [
    "dataTraining2.head()"
   ]
  },
  {
   "cell_type": "markdown",
   "metadata": {},
   "source": [
    "## Visualización"
   ]
  },
  {
   "cell_type": "code",
   "execution_count": 30,
   "metadata": {},
   "outputs": [
    {
     "data": {
      "image/png": "[encoded data removed]",
      "text/plain": [
       "<Figure size 1440x720 with 1 Axes>"
      ]
     },
     "metadata": {},
     "output_type": "display_data"
    }
   ],
   "source": [
    "plt.figure(figsize=(20,10))\n",
    "plot = dataTraining2['genres'].value_counts().plot(kind='bar', title='Peliculas por Género')"
   ]
  },
  {
   "cell_type": "code",
   "execution_count": 31,
   "metadata": {},
   "outputs": [
    {
     "data": {
      "image/png": "[encoded data removed]",
      "text/plain": [
       "<Figure size 1080x360 with 1 Axes>"
      ]
     },
     "metadata": {},
     "output_type": "display_data"
    }
   ],
   "source": [
    "fig = plt.figure(figsize=(15,5))\n",
    "ax = fig.gca()\n",
    "sns.distplot(dataTraining.year,kde=False, hist_kws={\"alpha\":0.7,'width':0.6})\n",
    "plt.title('Peliculas por año',fontsize=16)\n",
    "plt.xticks(sorted(dataTraining.year.unique()),horizontalalignment='left')\n",
    "plt.ylabel('Número de Peliculas',fontsize=14)\n",
    "plt.xlabel('Año', fontsize=14)\n",
    "plt.xlim(1980.5,2018.5)\n",
    "plt.show()"
   ]
  },
  {
   "cell_type": "code",
   "execution_count": 32,
   "metadata": {},
   "outputs": [
    {
     "data": {
      "image/png": "[encoded data removed]",
      "text/plain": [
       "<Figure size 1152x360 with 1 Axes>"
      ]
     },
     "metadata": {},
     "output_type": "display_data"
    }
   ],
   "source": [
    "fig = plt.figure(figsize=(16,5))\n",
    "ax = fig.gca()\n",
    "sns.distplot(dataTraining.rating,kde=False)\n",
    "plt.xlabel('Rating',fontsize=14,fontweight=\"bold\")\n",
    "plt.axvline(dataTraining.rating.mean(),lw=3,ls='dashed',\n",
    "            color='black',label='Promedio de Rating:'+'{0:.0f}'.format(np.mean(dataTraining.rating)))\n",
    "plt.title('Distribución general del Rating',fontsize=18,fontweight=\"bold\")\n",
    "plt.legend(loc='upper right',fontsize=16)\n",
    "plt.show()"
   ]
  },
  {
   "cell_type": "code",
   "execution_count": 33,
   "metadata": {},
   "outputs": [
    {
     "data": {
      "image/png": "[encoded data removed]",
      "text/plain": [
       "<Figure size 1152x792 with 1 Axes>"
      ]
     },
     "metadata": {},
     "output_type": "display_data"
    }
   ],
   "source": [
    "fig = plt.figure(figsize=(16,11))\n",
    "ax = fig.gca()\n",
    "sns.boxplot(x='year',y='rating',data=dataTraining,notch=True,orient='h')\n",
    "plt.xlabel('Año',fontsize=14,fontweight=\"bold\")\n",
    "ax.set_yticklabels(sorted(dataTraining.rating.unique()))\n",
    "plt.ylabel('Rating',fontsize=14,fontweight=\"bold\")\n",
    "plt.title('Distribución de Rating por año',fontsize=18,fontweight=\"bold\")\n",
    "\n",
    "plt.show()"
   ]
  },
  {
   "cell_type": "code",
   "execution_count": 34,
   "metadata": {},
   "outputs": [
    {
     "data": {
      "image/png": "[encoded data removed]",
      "text/plain": [
       "<Figure size 1152x792 with 1 Axes>"
      ]
     },
     "metadata": {},
     "output_type": "display_data"
    }
   ],
   "source": [
    "fig = plt.figure(figsize=(16,11))\n",
    "ax = fig.gca()\n",
    "sns.boxplot(x='rating',y='genres',data=dataTraining2, order=sorted(dataTraining2.genres.unique()),notch=True,orient='h')\n",
    "plt.xlabel('Rating ',fontsize=14,fontweight=\"bold\")\n",
    "plt.ylabel('Genero',fontsize=14,fontweight=\"bold\")\n",
    "plt.title('Distribución de rating por Genero',fontsize=18,fontweight=\"bold\")\n",
    "plt.show()"
   ]
  },
  {
   "cell_type": "code",
   "execution_count": 35,
   "metadata": {},
   "outputs": [
    {
     "data": {
      "image/png": "[encoded data removed]",
      "text/plain": [
       "<Figure size 1152x792 with 1 Axes>"
      ]
     },
     "metadata": {},
     "output_type": "display_data"
    }
   ],
   "source": [
    "fig = plt.figure(figsize=(16,11))\n",
    "ax = fig.gca()\n",
    "sns.boxplot(x='year',y='genres',data=dataTraining2, order=sorted(dataTraining2.genres.unique()),notch=True,orient='h')\n",
    "plt.xlabel('Años ',fontsize=14,fontweight=\"bold\")\n",
    "plt.ylabel('Genero',fontsize=14,fontweight=\"bold\")\n",
    "plt.title('Distribución de años por Genero',fontsize=18,fontweight=\"bold\")\n",
    "plt.show()"
   ]
  },
  {
   "cell_type": "markdown",
   "metadata": {},
   "source": [
    "### Top words all genres"
   ]
  },
  {
   "cell_type": "code",
   "execution_count": 39,
   "metadata": {},
   "outputs": [
    {
     "data": {
      "image/png": "[encoded data removed]",
      "text/plain": [
       "<Figure size 1440x720 with 1 Axes>"
      ]
     },
     "metadata": {},
     "output_type": "display_data"
    }
   ],
   "source": [
    "stemming =  SnowballStemmer(\"english\")\n",
    "df=dataTraining2.copy()\n",
    "df['plot_title']=df['title']+' '+df['plot']\n",
    "vals=\" \"\n",
    "for ele in df['plot_title']:\n",
    "    vals=ele+\" \"+vals\n",
    "vals = vals.lower()  \n",
    "vals = re.sub('[^a-zA-Z]', ' ', vals )  \n",
    "vals = re.sub(r'\\s+', ' ', vals) \n",
    "vals =' '.join([w for w in vals.split() if len(w)>1])\n",
    "#vals =' '.join([wordnet_lemmatizer.lemmatize(i, pos=\"v\") for i in vals.split()])\n",
    "vals =' '.join([stemming.stem(i) for i in vals.split()])\n",
    "\n",
    "\n",
    "tokens = [t for t in vals.split()]\n",
    " \n",
    "stop_words = stopwords.words('english')\n",
    "tokens = [word for word in tokens if word not in stop_words]\n",
    "freq_1 = nltk.FreqDist(tokens)\n",
    "plt.figure(figsize=(20,10))\n",
    "freq_1.plot(30,cumulative=False)"
   ]
  },
  {
   "cell_type": "code",
   "execution_count": 18,
   "metadata": {},
   "outputs": [],
   "source": [
    "comun_words=''\n",
    "for f in range(50):\n",
    "    comun_words=comun_words+' '+freq_1.most_common(50)[f][0]\n",
    "comun_words = [t for t in comun_words.split()]"
   ]
  },
  {
   "cell_type": "markdown",
   "metadata": {},
   "source": [
    "### Example top words genre Music"
   ]
  },
  {
   "cell_type": "code",
   "execution_count": 40,
   "metadata": {},
   "outputs": [
    {
     "data": {
      "image/png": "[encoded data removed]",
      "text/plain": [
       "<Figure size 1440x720 with 1 Axes>"
      ]
     },
     "metadata": {},
     "output_type": "display_data"
    }
   ],
   "source": [
    "df=dataTraining2[dataTraining2['genres']=='Drama']\n",
    "df['plot_title']=df['title']+' '+df['plot']\n",
    "vals=\" \"\n",
    "for ele in df['plot_title']:\n",
    "    vals=ele+\" \"+vals\n",
    "vals = vals.lower()  \n",
    "vals = re.sub('[^a-zA-Z]', ' ', vals )  \n",
    "vals = re.sub(r'\\s+', ' ', vals) \n",
    "vals =' '.join([w for w in vals.split() if len(w)>1])\n",
    "#vals =' '.join([wordnet_lemmatizer.lemmatize(i, pos=\"v\") for i in vals.split()])\n",
    "vals =' '.join([stemming.stem(i) for i in vals.split()])\n",
    "\n",
    "tokens = [t for t in vals.split()]\n",
    " \n",
    "stop_words = stopwords.words('english')\n",
    "tokens = [word for word in tokens if word not in stop_words]\n",
    "tokens = [word for word in tokens if word not in comun_words]\n",
    "freq = nltk.FreqDist(tokens)\n",
    "plt.figure(figsize=(20,10))\n",
    "freq.plot(30,cumulative=False)"
   ]
  },
  {
   "cell_type": "markdown",
   "metadata": {},
   "source": [
    "### Calculo top por genero excluyendo las comunes en toda la base"
   ]
  },
  {
   "cell_type": "code",
   "execution_count": 20,
   "metadata": {},
   "outputs": [
    {
     "name": "stdout",
     "output_type": "stream",
     "text": [
      "Adventure :    ['escap', 'must', 'son', 'power', 'earth', 'plan', 'king', 'return', 'befor', 'use']\n",
      "Comedy :    ['school', 'like', 'marri', 'doe', 'fall', 'best', 'job', 'end', 'even', 'town']\n",
      "Family :    ['boy', 'dog', 'littl', 'like', 'save', 'kid', 'school', 'must', 'son', 'adventur']\n",
      "Action :    ['agent', 'forc', 'team', 'escap', 'must', 'fight', 'war', 'power', 'men', 'citi']\n",
      "Sci-Fi :    ['earth', 'human', 'dr', 'alien', 'planet', 'discov', 'power', 'peopl', 'use', 'scientist']\n",
      "Thriller :    ['polic', 'investig', 'soon', 'death', 'discov', 'dead', 'call', 'use', 'killer', 'agent']\n",
      "Drama :    ['school', 'son', 'daughter', 'relationship', 'marri', 'doe', 'war', 'first', 'begin', 'may']\n",
      "Biography :    ['film', 'war', 'boy', 'would', 'begin', 'first', 'american', 'death', 'includ', 'peopl']\n",
      "History :    ['war', 'film', 'armi', 'american', 'king', 'men', 'fall', 'forc', 'lead', 'peopl']\n",
      "Crime :    ['polic', 'investig', 'drug', 'money', 'case', 'crime', 'killer', 'detect', 'plan', 'prison']\n",
      "Western :    ['town', 'men', 'indian', 'west', 'land', 'war', 'return', 'john', 'gang', 'gold']\n",
      "Romance :    ['marri', 'fall', 'relationship', 'like', 'daughter', 'doe', 'school', 'first', 'best', 'feel']\n",
      "Mystery :    ['investig', 'polic', 'killer', 'death', 'case', 'discov', 'mysteri', 'detect', 'soon', 'seem']\n",
      "Documentary :    ['film', 'documentari', 'follow', 'american', 'peopl', 'music', 'explor', 'filmmak', 'interview', 'band']\n",
      "Fantasy :    ['evil', 'power', 'king', 'discov', 'must', 'befor', 'magic', 'save', 'return', 'night']\n",
      "Musical :    ['music', 'show', 'fall', 'marri', 'king', 'danc', 'sing', 'york', 'travel', 'boy']\n",
      "Horror :    ['dr', 'night', 'soon', 'dead', 'peopl', 'death', 'discov', 'begin', 'killer', 'town']\n",
      "Animation :    ['anim', 'must', 'human', 'save', 'like', 'evil', 'littl', 'princ', 'earth', 'king']\n",
      "War :    ['war', 'american', 'german', 'armi', 'men', 'dure', 'soldier', 'command', 'offic', 'forc']\n",
      "Music :    ['music', 'band', 'rock', 'play', 'singer', 'film', 'school', 'danc', 'show', 'york']\n",
      "Sport :    ['team', 'game', 'coach', 'race', 'win', 'player', 'school', 'rocki', 'play', 'fight']\n",
      "Film-Noir :    ['polic', 'joe', 'marri', 'night', 'money', 'johnni', 'investig', 'lead', 'dr', 'toni']\n",
      "Short :    ['charli', 'dream', 'film', 'edna', 'pooh', 'mickey', 'frankenstein', 'train', 'monster', 'buster']\n",
      "News :    ['showrunn', 'kid', 'swartz', 'documentari', 'cash', 'internet', 'aaron', 'peopl', 'film', 'may']\n"
     ]
    }
   ],
   "source": [
    "df_common=[]\n",
    "for i in dataTraining2['genres'].unique():\n",
    "    df=dataTraining2[dataTraining2['genres']==i]\n",
    "    df['plot_title']=df['title']+' '+df['plot']\n",
    "    vals=\" \"\n",
    "    for ele in df['plot_title']:\n",
    "        vals=ele+\" \"+vals\n",
    "        \n",
    "    vals = vals.lower()  \n",
    "    vals = re.sub('[^a-zA-Z]', ' ', vals )  \n",
    "    vals = re.sub(r'\\s+', ' ', vals) \n",
    "    vals =' '.join([w for w in vals.split() if len(w)>1])\n",
    "    #vals =' '.join([wordnet_lemmatizer.lemmatize(i, pos=\"v\") for i in vals.split()])\n",
    "    vals =' '.join([stemming.stem(i) for i in vals.split()])\n",
    "    tokens = [t for t in vals.split()]\n",
    "    stop_words = stopwords.words('english')\n",
    "    tokens = [word for word in tokens if word not in stop_words]\n",
    "    tokens = [word for word in tokens if word not in comun_words]\n",
    "    freq = nltk.FreqDist(tokens)\n",
    "    #freq.plot(30,cumulative=False)\n",
    "    comun=' '\n",
    "    for f in range(10):\n",
    "        comun=comun+' '+freq.most_common(10)[f][0]\n",
    "    comun = [t for t in comun.split()]\n",
    "    df_common.append([i,comun])\n",
    "    print (i,':   ',comun)\n",
    "df_common=pd.DataFrame(df_common, columns=['genres','commun']) "
   ]
  },
  {
   "cell_type": "markdown",
   "metadata": {},
   "source": [
    "## Modelamiento"
   ]
  },
  {
   "cell_type": "markdown",
   "metadata": {},
   "source": [
    "### Metodología"
   ]
  },
  {
   "cell_type": "markdown",
   "metadata": {},
   "source": [
    "![Metodologia](https://github.com/amosqueraf/ML/raw/master/Metodologia_1.png)"
   ]
  },
  {
   "cell_type": "markdown",
   "metadata": {},
   "source": [
    "![Metodologia](https://github.com/amosqueraf/ML/raw/master/Metodologia_4.png)"
   ]
  },
  {
   "cell_type": "markdown",
   "metadata": {},
   "source": [
    "### Create count vectorizer\n"
   ]
  },
  {
   "cell_type": "code",
   "execution_count": 3,
   "metadata": {},
   "outputs": [
    {
     "data": {
      "text/plain": [
       "(7895, 38672)"
      ]
     },
     "execution_count": 3,
     "metadata": {},
     "output_type": "execute_result"
    }
   ],
   "source": [
    "vect = CountVectorizer()\n",
    "X_dtm = vect.fit_transform(dataTraining['plot'])\n",
    "#X_dtm = X_dtm.toarray()\n",
    "X_dtm.shape"
   ]
  },
  {
   "cell_type": "code",
   "execution_count": 56,
   "metadata": {},
   "outputs": [
    {
     "name": "stdout",
     "output_type": "stream",
     "text": [
      "['aa', 'aaa', 'aames', 'aang', 'aaron', 'aaronow', 'aarons', 'aback', 'abagnale', 'abalam', 'abalone', 'abandon', 'abandoned', 'abandoning', 'abandonment', 'abandons', 'abatement', 'abba', 'abbe', 'abberline', 'abbey', 'abbie', 'abbott', 'abbotts', 'abby', 'abc', 'abdellatif', 'abdicate', 'abdomen', 'abduct', 'abducted', 'abductee', 'abducting', 'abduction', 'abductor', 'abductors', 'abducts', 'abdullah', 'abe', 'abel', 'abercrombie', 'aberline', 'abernathy', 'aberrant', 'aberration', 'abetting', 'abhor', 'abhorrent', 'abhorring', 'abhors']\n"
     ]
    }
   ],
   "source": [
    "print(vect.get_feature_names()[:50])"
   ]
  },
  {
   "cell_type": "markdown",
   "metadata": {},
   "source": [
    "### Create y"
   ]
  },
  {
   "cell_type": "code",
   "execution_count": 4,
   "metadata": {},
   "outputs": [],
   "source": [
    "dataTraining['genres'] = dataTraining['genres'].map(lambda x: eval(x))\n",
    "\n",
    "le = MultiLabelBinarizer()\n",
    "y_genres = le.fit_transform(dataTraining['genres'])"
   ]
  },
  {
   "cell_type": "code",
   "execution_count": 58,
   "metadata": {},
   "outputs": [
    {
     "data": {
      "text/plain": [
       "(7895, 24)"
      ]
     },
     "execution_count": 58,
     "metadata": {},
     "output_type": "execute_result"
    }
   ],
   "source": [
    "y_genres.shape"
   ]
  },
  {
   "cell_type": "markdown",
   "metadata": {},
   "source": [
    "### Test-Train Split\n",
    "\n",
    "- Para probar el rendimiento de los algoritmos, se divide el conjunto de datos en dos conjuntos distintos de train y test."
   ]
  },
  {
   "cell_type": "code",
   "execution_count": 5,
   "metadata": {},
   "outputs": [],
   "source": [
    "X_train, X_test, y_train_genres, y_test_genres = train_test_split(X_dtm, y_genres, test_size=0.2, random_state=42)"
   ]
  },
  {
   "cell_type": "code",
   "execution_count": 60,
   "metadata": {},
   "outputs": [
    {
     "name": "stdout",
     "output_type": "stream",
     "text": [
      "X_train shape: (6316, 38672)\n",
      "X_test shape: (1579, 38672)\n",
      "y_train_genres shape: (6316, 24)\n",
      "y_test_genres shape: (1579, 24)\n"
     ]
    }
   ],
   "source": [
    "print('X_train shape:', X_train.shape)\n",
    "print('X_test shape:', X_test.shape)\n",
    "\n",
    "print('y_train_genres shape:', y_train_genres.shape)\n",
    "print('y_test_genres shape:', y_test_genres.shape)\n",
    "label_num = len(y_train_genres[0])"
   ]
  },
  {
   "cell_type": "markdown",
   "metadata": {},
   "source": [
    "### Train multi-class multi-label model"
   ]
  },
  {
   "cell_type": "code",
   "execution_count": 11,
   "metadata": {},
   "outputs": [
    {
     "data": {
      "text/html": [
       "<div>\n",
       "<style scoped>\n",
       "    .dataframe tbody tr th:only-of-type {\n",
       "        vertical-align: middle;\n",
       "    }\n",
       "\n",
       "    .dataframe tbody tr th {\n",
       "        vertical-align: top;\n",
       "    }\n",
       "\n",
       "    .dataframe thead th {\n",
       "        text-align: right;\n",
       "    }\n",
       "</style>\n",
       "<table border=\"1\" class=\"dataframe\">\n",
       "  <thead>\n",
       "    <tr style=\"text-align: right;\">\n",
       "      <th></th>\n",
       "      <th>Modelo</th>\n",
       "      <th>Técnica</th>\n",
       "      <th>roc_auc_score</th>\n",
       "    </tr>\n",
       "  </thead>\n",
       "  <tbody>\n",
       "  </tbody>\n",
       "</table>\n",
       "</div>"
      ],
      "text/plain": [
       "Empty DataFrame\n",
       "Columns: [Modelo, Técnica, roc_auc_score]\n",
       "Index: []"
      ]
     },
     "execution_count": 11,
     "metadata": {},
     "output_type": "execute_result"
    }
   ],
   "source": [
    "results = pd.DataFrame(columns=('Modelo','Técnica','roc_auc_score'))\n",
    "results"
   ]
  },
  {
   "cell_type": "markdown",
   "metadata": {},
   "source": [
    "#### LogisticRegression with CountVectorizer"
   ]
  },
  {
   "cell_type": "code",
   "execution_count": 12,
   "metadata": {},
   "outputs": [],
   "source": [
    "vect = CountVectorizer()\n",
    "X_dtm = vect.fit_transform(dataTraining['plot'])\n",
    "X_dtm = X_dtm.toarray()\n",
    "\n",
    "dataTraining['genres'] = dataTraining['genres'].map(lambda x: eval(x))\n",
    "\n",
    "le = MultiLabelBinarizer()\n",
    "y_genres = le.fit_transform(dataTraining['genres'])\n",
    "\n",
    "X_train, X_test, y_train_genres, y_test_genres = train_test_split(X_dtm, y_genres, test_size=0.2, random_state=42)"
   ]
  },
  {
   "cell_type": "code",
   "execution_count": null,
   "metadata": {},
   "outputs": [],
   "source": [
    "logreg = OneVsRestClassifier(LogisticRegression(C=10, class_weight=None, dual=False, fit_intercept=True,\n",
    "          intercept_scaling=1, max_iter=100, multi_class='warn',\n",
    "          n_jobs=None, penalty='l2', random_state=None, solver='warn',\n",
    "          tol=0.0001, verbose=0, warm_start=False),\n",
    "          n_jobs=-1).fit(X_train, y_train_genres)"
   ]
  },
  {
   "cell_type": "code",
   "execution_count": null,
   "metadata": {},
   "outputs": [],
   "source": [
    "y_pred_genres = logreg.predict_proba(X_test)"
   ]
  },
  {
   "cell_type": "code",
   "execution_count": 9,
   "metadata": {},
   "outputs": [
    {
     "data": {
      "text/plain": [
       "0.8347085619945571"
      ]
     },
     "execution_count": 9,
     "metadata": {},
     "output_type": "execute_result"
    }
   ],
   "source": [
    "roc_auc_score(y_test_genres, y_pred_genres, average='macro')"
   ]
  },
  {
   "cell_type": "code",
   "execution_count": null,
   "metadata": {},
   "outputs": [],
   "source": [
    "results.loc[len(results)]=['LogisticRegression','CountVectorizer',roc_auc_score(y_test_genres, y_pred_genres, average='macro')]\n",
    "results"
   ]
  },
  {
   "cell_type": "markdown",
   "metadata": {},
   "source": [
    "#### LogisticRegression with TfidfVectorizer"
   ]
  },
  {
   "cell_type": "code",
   "execution_count": 14,
   "metadata": {},
   "outputs": [],
   "source": [
    "dataTraining = pd.read_csv('dataTraining.csv', encoding='UTF-8', index_col=0)\n",
    "dataTesting = pd.read_csv('dataTesting.csv', encoding='UTF-8', index_col=0)"
   ]
  },
  {
   "cell_type": "code",
   "execution_count": 15,
   "metadata": {},
   "outputs": [],
   "source": [
    "#tf_vect = TfidfVectorizer(min_df=2, tokenizer=None, preprocessor=None, stop_words=None)\n",
    "\n",
    "tf_vect = TfidfVectorizer(min_df=2, max_df=0.45, tokenizer=None, preprocessor=None, stop_words=None)\n",
    "\n",
    "X_dtm = tf_vect.fit_transform(dataTraining['plot'])\n",
    "X_dtm = X_dtm.toarray()\n",
    "\n",
    "dataTraining['genres'] = dataTraining['genres'].map(lambda x: eval(x))\n",
    "\n",
    "le = MultiLabelBinarizer()\n",
    "y_genres = le.fit_transform(dataTraining['genres'])\n",
    "\n",
    "X_train, X_test, y_train_genres, y_test_genres = train_test_split(X_dtm, y_genres, test_size=0.25, random_state=42)"
   ]
  },
  {
   "cell_type": "code",
   "execution_count": 16,
   "metadata": {},
   "outputs": [],
   "source": [
    "log_reg_Tfidf = OneVsRestClassifier(LogisticRegression(C=10, class_weight=None, dual=False, fit_intercept=True,\n",
    "          intercept_scaling=1, max_iter=100, multi_class='warn',\n",
    "          n_jobs=None, penalty='l2', random_state=None, solver='warn',\n",
    "          tol=0.0001, verbose=0, warm_start=False),\n",
    "          n_jobs=-1).fit(X_train, y_train_genres)"
   ]
  },
  {
   "cell_type": "code",
   "execution_count": 18,
   "metadata": {},
   "outputs": [
    {
     "data": {
      "text/plain": [
       "0.8854091097648883"
      ]
     },
     "execution_count": 18,
     "metadata": {},
     "output_type": "execute_result"
    }
   ],
   "source": [
    "y_pred_genres = log_reg_Tfidf.predict_proba(X_test)\n",
    "roc_auc_score(y_test_genres, y_pred_genres, average='macro')"
   ]
  },
  {
   "cell_type": "code",
   "execution_count": 19,
   "metadata": {},
   "outputs": [
    {
     "data": {
      "text/html": [
       "<div>\n",
       "<style scoped>\n",
       "    .dataframe tbody tr th:only-of-type {\n",
       "        vertical-align: middle;\n",
       "    }\n",
       "\n",
       "    .dataframe tbody tr th {\n",
       "        vertical-align: top;\n",
       "    }\n",
       "\n",
       "    .dataframe thead th {\n",
       "        text-align: right;\n",
       "    }\n",
       "</style>\n",
       "<table border=\"1\" class=\"dataframe\">\n",
       "  <thead>\n",
       "    <tr style=\"text-align: right;\">\n",
       "      <th></th>\n",
       "      <th>Modelo</th>\n",
       "      <th>Técnica</th>\n",
       "      <th>roc_auc_score</th>\n",
       "    </tr>\n",
       "  </thead>\n",
       "  <tbody>\n",
       "    <tr>\n",
       "      <th>0</th>\n",
       "      <td>LogisticRegression</td>\n",
       "      <td>TfidfVectorizer</td>\n",
       "      <td>0.885409</td>\n",
       "    </tr>\n",
       "  </tbody>\n",
       "</table>\n",
       "</div>"
      ],
      "text/plain": [
       "               Modelo          Técnica  roc_auc_score\n",
       "0  LogisticRegression  TfidfVectorizer       0.885409"
      ]
     },
     "execution_count": 19,
     "metadata": {},
     "output_type": "execute_result"
    }
   ],
   "source": [
    "results.loc[len(results)]=['LogisticRegression','TfidfVectorizer',roc_auc_score(y_test_genres, y_pred_genres, average='macro')]\n",
    "results"
   ]
  },
  {
   "cell_type": "markdown",
   "metadata": {},
   "source": [
    "#### LogisticRegression CV"
   ]
  },
  {
   "cell_type": "code",
   "execution_count": 43,
   "metadata": {},
   "outputs": [],
   "source": [
    "logregcv = OneVsRestClassifier(LogisticRegressionCV(Cs=100, class_weight=None, dual=False, fit_intercept=True, cv=3,\n",
    "          intercept_scaling=1, max_iter=100, multi_class='warn', scoring='roc_auc',\n",
    "          n_jobs=-1, penalty='l2', random_state=None, solver='warn',\n",
    "          tol=0.0001, verbose=0),\n",
    "          n_jobs=-1).fit(X_train, y_train_genres)"
   ]
  },
  {
   "cell_type": "code",
   "execution_count": 44,
   "metadata": {},
   "outputs": [
    {
     "data": {
      "text/plain": [
       "0.8947980768275577"
      ]
     },
     "execution_count": 44,
     "metadata": {},
     "output_type": "execute_result"
    }
   ],
   "source": [
    "y_pred_genres = logregcv.predict_proba(X_test)\n",
    "roc_auc_score(y_test_genres, y_pred_genres, average='macro')"
   ]
  },
  {
   "cell_type": "code",
   "execution_count": 45,
   "metadata": {},
   "outputs": [
    {
     "data": {
      "text/html": [
       "<div>\n",
       "<style scoped>\n",
       "    .dataframe tbody tr th:only-of-type {\n",
       "        vertical-align: middle;\n",
       "    }\n",
       "\n",
       "    .dataframe tbody tr th {\n",
       "        vertical-align: top;\n",
       "    }\n",
       "\n",
       "    .dataframe thead th {\n",
       "        text-align: right;\n",
       "    }\n",
       "</style>\n",
       "<table border=\"1\" class=\"dataframe\">\n",
       "  <thead>\n",
       "    <tr style=\"text-align: right;\">\n",
       "      <th></th>\n",
       "      <th>Modelo</th>\n",
       "      <th>Técnica</th>\n",
       "      <th>roc_auc_score</th>\n",
       "    </tr>\n",
       "  </thead>\n",
       "  <tbody>\n",
       "    <tr>\n",
       "      <th>0</th>\n",
       "      <td>LogisticRegression</td>\n",
       "      <td>TfidfVectorizer</td>\n",
       "      <td>0.885409</td>\n",
       "    </tr>\n",
       "    <tr>\n",
       "      <th>1</th>\n",
       "      <td>Randomforest</td>\n",
       "      <td>TfidfVectorizer</td>\n",
       "      <td>0.843964</td>\n",
       "    </tr>\n",
       "    <tr>\n",
       "      <th>2</th>\n",
       "      <td>SGD</td>\n",
       "      <td>TfidfVectorizer</td>\n",
       "      <td>0.828939</td>\n",
       "    </tr>\n",
       "    <tr>\n",
       "      <th>3</th>\n",
       "      <td>LogisticRegression + GridSearchCV</td>\n",
       "      <td>TfidfVectorizer</td>\n",
       "      <td>0.889933</td>\n",
       "    </tr>\n",
       "    <tr>\n",
       "      <th>4</th>\n",
       "      <td>LogisticRegression + Stemming</td>\n",
       "      <td>TfidfVectorizer</td>\n",
       "      <td>0.891369</td>\n",
       "    </tr>\n",
       "    <tr>\n",
       "      <th>5</th>\n",
       "      <td>LogisticRegression + Stemming + New Features</td>\n",
       "      <td>TfidfVectorizer</td>\n",
       "      <td>0.894467</td>\n",
       "    </tr>\n",
       "    <tr>\n",
       "      <th>6</th>\n",
       "      <td>LogisticRegressionCV</td>\n",
       "      <td>TfidfVectorizer</td>\n",
       "      <td>0.894798</td>\n",
       "    </tr>\n",
       "  </tbody>\n",
       "</table>\n",
       "</div>"
      ],
      "text/plain": [
       "                                         Modelo          Técnica  \\\n",
       "0                            LogisticRegression  TfidfVectorizer   \n",
       "1                                  Randomforest  TfidfVectorizer   \n",
       "2                                           SGD  TfidfVectorizer   \n",
       "3             LogisticRegression + GridSearchCV  TfidfVectorizer   \n",
       "4                 LogisticRegression + Stemming  TfidfVectorizer   \n",
       "5  LogisticRegression + Stemming + New Features  TfidfVectorizer   \n",
       "6                          LogisticRegressionCV  TfidfVectorizer   \n",
       "\n",
       "   roc_auc_score  \n",
       "0       0.885409  \n",
       "1       0.843964  \n",
       "2       0.828939  \n",
       "3       0.889933  \n",
       "4       0.891369  \n",
       "5       0.894467  \n",
       "6       0.894798  "
      ]
     },
     "execution_count": 45,
     "metadata": {},
     "output_type": "execute_result"
    }
   ],
   "source": [
    "results.loc[len(results)]=['LogisticRegressionCV','TfidfVectorizer',roc_auc_score(y_test_genres, y_pred_genres, average='macro')]\n",
    "results"
   ]
  },
  {
   "cell_type": "markdown",
   "metadata": {},
   "source": [
    "#### Randomforest"
   ]
  },
  {
   "cell_type": "code",
   "execution_count": 20,
   "metadata": {},
   "outputs": [],
   "source": [
    "clf = OneVsRestClassifier(RandomForestClassifier(n_jobs=-1, n_estimators=450, max_depth=24, random_state=42)).fit(X_train, y_train_genres)"
   ]
  },
  {
   "cell_type": "code",
   "execution_count": 21,
   "metadata": {},
   "outputs": [
    {
     "data": {
      "text/plain": [
       "0.8439637610229281"
      ]
     },
     "execution_count": 21,
     "metadata": {},
     "output_type": "execute_result"
    }
   ],
   "source": [
    "y_pred_genres = clf.predict_proba(X_test)\n",
    "roc_auc_score(y_test_genres, y_pred_genres, average='macro')"
   ]
  },
  {
   "cell_type": "code",
   "execution_count": 22,
   "metadata": {},
   "outputs": [
    {
     "data": {
      "text/html": [
       "<div>\n",
       "<style scoped>\n",
       "    .dataframe tbody tr th:only-of-type {\n",
       "        vertical-align: middle;\n",
       "    }\n",
       "\n",
       "    .dataframe tbody tr th {\n",
       "        vertical-align: top;\n",
       "    }\n",
       "\n",
       "    .dataframe thead th {\n",
       "        text-align: right;\n",
       "    }\n",
       "</style>\n",
       "<table border=\"1\" class=\"dataframe\">\n",
       "  <thead>\n",
       "    <tr style=\"text-align: right;\">\n",
       "      <th></th>\n",
       "      <th>Modelo</th>\n",
       "      <th>Técnica</th>\n",
       "      <th>roc_auc_score</th>\n",
       "    </tr>\n",
       "  </thead>\n",
       "  <tbody>\n",
       "    <tr>\n",
       "      <th>0</th>\n",
       "      <td>LogisticRegression</td>\n",
       "      <td>TfidfVectorizer</td>\n",
       "      <td>0.885409</td>\n",
       "    </tr>\n",
       "    <tr>\n",
       "      <th>1</th>\n",
       "      <td>Randomforest</td>\n",
       "      <td>TfidfVectorizer</td>\n",
       "      <td>0.843964</td>\n",
       "    </tr>\n",
       "  </tbody>\n",
       "</table>\n",
       "</div>"
      ],
      "text/plain": [
       "               Modelo          Técnica  roc_auc_score\n",
       "0  LogisticRegression  TfidfVectorizer       0.885409\n",
       "1        Randomforest  TfidfVectorizer       0.843964"
      ]
     },
     "execution_count": 22,
     "metadata": {},
     "output_type": "execute_result"
    }
   ],
   "source": [
    "results.loc[len(results)]=['Randomforest','TfidfVectorizer',roc_auc_score(y_test_genres, y_pred_genres, average='macro')]\n",
    "results"
   ]
  },
  {
   "cell_type": "code",
   "execution_count": null,
   "metadata": {},
   "outputs": [],
   "source": [
    "def build_grid_search(X, y):\n",
    "    parameters = {\n",
    "        \"estimator__criterion\": ['gini', 'entropy'],\n",
    "        \"estimator__max_depth\": [10, 15, 20, 25, None],\n",
    "        \"estimator__max_features\": ['auto', 'sqrt', 'log2', None],\n",
    "        \"estimator__n_estimators\": [200, 500],\n",
    "        }\n",
    "    \n",
    "    ovr = OneVsRestClassifier(RandomForestClassifier(oob_score=True, n_jobs=-1, verbose=1))\n",
    "    model_tunning = GridSearchCV(ovr, param_grid=parameters, verbose=1, n_jobs=-1, cv=3, scoring=make_scorer(roc_auc_score))\n",
    "\n",
    "    model_tunning.fit(X, y)\n",
    "    test_score = model_tunning.best_score_\n",
    "    print ('The best test score: ', test_score)\n",
    "    y_score = model_tunning.predict_proba(X_test)\n",
    "    multiclass_roc(y_score, 'grid_search_02')\n",
    "    return model_tunning "
   ]
  },
  {
   "cell_type": "code",
   "execution_count": null,
   "metadata": {},
   "outputs": [],
   "source": [
    "clf = build_grid_search(X_train, y_train_genres)"
   ]
  },
  {
   "cell_type": "code",
   "execution_count": null,
   "metadata": {},
   "outputs": [],
   "source": [
    "CV_rfc.best_params_"
   ]
  },
  {
   "cell_type": "code",
   "execution_count": 0,
   "metadata": {},
   "outputs": [],
   "source": [
    "clf = OneVsRestClassifier(RandomForestClassifier(n_jobs=-1, n_estimators=250, max_depth=24, random_state=42)).fit(X_train, y_train_genres)\n",
    "\n",
    "y_pred_genres = clf.predict_proba(X_test)\n",
    "roc_auc_score(y_test_genres, y_pred_genres, average='macro')\n",
    "\n",
    "results.loc[len(results)]=['Randomforest + GridSearchCV','TfidfVectorizer',roc_auc_score(y_test_genres, y_pred_genres, average='macro')]\n",
    "results"
   ]
  },
  {
   "cell_type": "markdown",
   "metadata": {},
   "source": [
    "#### SGD"
   ]
  },
  {
   "cell_type": "code",
   "execution_count": 23,
   "metadata": {},
   "outputs": [],
   "source": [
    "sgd_clf = OneVsRestClassifier(SGDClassifier(loss='log',penalty='l1')).fit(X_train, y_train_genres)"
   ]
  },
  {
   "cell_type": "code",
   "execution_count": 24,
   "metadata": {},
   "outputs": [
    {
     "data": {
      "text/plain": [
       "0.8289385315893374"
      ]
     },
     "execution_count": 24,
     "metadata": {},
     "output_type": "execute_result"
    }
   ],
   "source": [
    "y_pred_genres = sgd_clf.predict_proba(X_test)\n",
    "roc_auc_score(y_test_genres, y_pred_genres, average='macro')"
   ]
  },
  {
   "cell_type": "code",
   "execution_count": 25,
   "metadata": {},
   "outputs": [
    {
     "data": {
      "text/html": [
       "<div>\n",
       "<style scoped>\n",
       "    .dataframe tbody tr th:only-of-type {\n",
       "        vertical-align: middle;\n",
       "    }\n",
       "\n",
       "    .dataframe tbody tr th {\n",
       "        vertical-align: top;\n",
       "    }\n",
       "\n",
       "    .dataframe thead th {\n",
       "        text-align: right;\n",
       "    }\n",
       "</style>\n",
       "<table border=\"1\" class=\"dataframe\">\n",
       "  <thead>\n",
       "    <tr style=\"text-align: right;\">\n",
       "      <th></th>\n",
       "      <th>Modelo</th>\n",
       "      <th>Técnica</th>\n",
       "      <th>roc_auc_score</th>\n",
       "    </tr>\n",
       "  </thead>\n",
       "  <tbody>\n",
       "    <tr>\n",
       "      <th>0</th>\n",
       "      <td>LogisticRegression</td>\n",
       "      <td>TfidfVectorizer</td>\n",
       "      <td>0.885409</td>\n",
       "    </tr>\n",
       "    <tr>\n",
       "      <th>1</th>\n",
       "      <td>Randomforest</td>\n",
       "      <td>TfidfVectorizer</td>\n",
       "      <td>0.843964</td>\n",
       "    </tr>\n",
       "    <tr>\n",
       "      <th>2</th>\n",
       "      <td>SGD</td>\n",
       "      <td>TfidfVectorizer</td>\n",
       "      <td>0.828939</td>\n",
       "    </tr>\n",
       "  </tbody>\n",
       "</table>\n",
       "</div>"
      ],
      "text/plain": [
       "               Modelo          Técnica  roc_auc_score\n",
       "0  LogisticRegression  TfidfVectorizer       0.885409\n",
       "1        Randomforest  TfidfVectorizer       0.843964\n",
       "2                 SGD  TfidfVectorizer       0.828939"
      ]
     },
     "execution_count": 25,
     "metadata": {},
     "output_type": "execute_result"
    }
   ],
   "source": [
    "results.loc[len(results)]=['SGD','TfidfVectorizer',roc_auc_score(y_test_genres, y_pred_genres, average='macro')]\n",
    "results"
   ]
  },
  {
   "cell_type": "code",
   "execution_count": 0,
   "metadata": {},
   "outputs": [],
   "source": [
    "param_grid  = {\"estimator__alpha\": [10**-5, 10**-3, 10**-1, 10**1, 10**2]}\n",
    "\n",
    "sgd_clf = OneVsRestClassifier(SGDClassifier(loss='log',penalty='l1'))\n",
    "\n",
    "model = GridSearchCV(sgd_clf,param_grid, scoring = 'roc_auc_score', cv=2,n_jobs=-1)\n",
    "\n",
    "model.fit(X_train, y_train_genres)\n",
    "\n",
    "print (model.best_score_)\n",
    "print (model.best_params_)"
   ]
  },
  {
   "cell_type": "code",
   "execution_count": 0,
   "metadata": {},
   "outputs": [],
   "source": [
    "sgd_clf = OneVsRestClassifier(SGDClassifier(loss='log',penalty='l1', alpha=10**-5)).fit(X_train, y_train_genres)\n",
    "\n",
    "y_pred_genres = sgd_clf.predict_proba(X_test)\n",
    "roc_auc_score(y_test_genres, y_pred_genres, average='macro')\n",
    "\n",
    "results.loc[len(results)]=['SGD + + GridSearchCV','TfidfVectorizer',roc_auc_score(y_test_genres, y_pred_genres, average='macro')]\n",
    "results"
   ]
  },
  {
   "cell_type": "markdown",
   "metadata": {},
   "source": [
    "#### LogisticRegression with GridSearchCV"
   ]
  },
  {
   "cell_type": "code",
   "execution_count": 55,
   "metadata": {},
   "outputs": [],
   "source": [
    "tuned_parameters = [{'estimator__C': [2.8988, 3, 5, 10],\n",
    "                    'estimator__penalty':[\"l2\"],\n",
    "                    'estimator__solver': ['saga', 'warn', 'lbfgs', 'sag'],\n",
    "                    'estimator__multi_class':['warn','multinomial', 'ovr','auto'],\n",
    "                    'estimator__max_iter':[100,10000],\n",
    "                    'estimator__tol':[0.0001, 0.00001]}]"
   ]
  },
  {
   "cell_type": "code",
   "execution_count": 40,
   "metadata": {},
   "outputs": [
    {
     "name": "stdout",
     "output_type": "stream",
     "text": [
      "OneVsRestClassifier(estimator=LogisticRegression(C=100, class_weight=None, dual=False, fit_intercept=True,\n",
      "          intercept_scaling=1, max_iter=100, multi_class='warn',\n",
      "          n_jobs=None, penalty='l2', random_state=None, solver='warn',\n",
      "          tol=0.0001, verbose=0, warm_start=False),\n",
      "          n_jobs=None)\n"
     ]
    }
   ],
   "source": [
    "log_reg_clf = OneVsRestClassifier(LogisticRegression())\n",
    "\n",
    "logistic_gs = GridSearchCV(log_reg_clf, tuned_parameters,scoring = 'roc_auc_score', cv=3).fit(X_train, y_train_genres)\n",
    "\n",
    "print(logistic_gs.best_estimator_)"
   ]
  },
  {
   "cell_type": "code",
   "execution_count": 26,
   "metadata": {},
   "outputs": [
    {
     "data": {
      "text/plain": [
       "0.8899328823272302"
      ]
     },
     "execution_count": 26,
     "metadata": {},
     "output_type": "execute_result"
    }
   ],
   "source": [
    "logreg = OneVsRestClassifier(LogisticRegression(C=2.8988, class_weight=None, dual=False, fit_intercept=True,\n",
    "          intercept_scaling=1, max_iter=100, multi_class='warn',\n",
    "          n_jobs=-1, penalty='l2', random_state=None, solver='sag',\n",
    "          tol=0.00001, verbose=0, warm_start=False),\n",
    "          n_jobs=-1).fit(X_train, y_train_genres)\n",
    "\n",
    "y_pred_genres = logreg.predict_proba(X_test)\n",
    "roc_auc_score(y_test_genres, y_pred_genres, average='macro')"
   ]
  },
  {
   "cell_type": "code",
   "execution_count": 27,
   "metadata": {},
   "outputs": [
    {
     "data": {
      "text/html": [
       "<div>\n",
       "<style scoped>\n",
       "    .dataframe tbody tr th:only-of-type {\n",
       "        vertical-align: middle;\n",
       "    }\n",
       "\n",
       "    .dataframe tbody tr th {\n",
       "        vertical-align: top;\n",
       "    }\n",
       "\n",
       "    .dataframe thead th {\n",
       "        text-align: right;\n",
       "    }\n",
       "</style>\n",
       "<table border=\"1\" class=\"dataframe\">\n",
       "  <thead>\n",
       "    <tr style=\"text-align: right;\">\n",
       "      <th></th>\n",
       "      <th>Modelo</th>\n",
       "      <th>Técnica</th>\n",
       "      <th>roc_auc_score</th>\n",
       "    </tr>\n",
       "  </thead>\n",
       "  <tbody>\n",
       "    <tr>\n",
       "      <th>0</th>\n",
       "      <td>LogisticRegression</td>\n",
       "      <td>TfidfVectorizer</td>\n",
       "      <td>0.885409</td>\n",
       "    </tr>\n",
       "    <tr>\n",
       "      <th>1</th>\n",
       "      <td>Randomforest</td>\n",
       "      <td>TfidfVectorizer</td>\n",
       "      <td>0.843964</td>\n",
       "    </tr>\n",
       "    <tr>\n",
       "      <th>2</th>\n",
       "      <td>SGD</td>\n",
       "      <td>TfidfVectorizer</td>\n",
       "      <td>0.828939</td>\n",
       "    </tr>\n",
       "    <tr>\n",
       "      <th>3</th>\n",
       "      <td>LogisticRegression + GridSearchCV</td>\n",
       "      <td>TfidfVectorizer</td>\n",
       "      <td>0.889933</td>\n",
       "    </tr>\n",
       "  </tbody>\n",
       "</table>\n",
       "</div>"
      ],
      "text/plain": [
       "                              Modelo          Técnica  roc_auc_score\n",
       "0                 LogisticRegression  TfidfVectorizer       0.885409\n",
       "1                       Randomforest  TfidfVectorizer       0.843964\n",
       "2                                SGD  TfidfVectorizer       0.828939\n",
       "3  LogisticRegression + GridSearchCV  TfidfVectorizer       0.889933"
      ]
     },
     "execution_count": 27,
     "metadata": {},
     "output_type": "execute_result"
    }
   ],
   "source": [
    "results.loc[len(results)]=['LogisticRegression + GridSearchCV','TfidfVectorizer',\n",
    "                           roc_auc_score(y_test_genres, y_pred_genres, average='macro')]\n",
    "results"
   ]
  },
  {
   "cell_type": "markdown",
   "metadata": {},
   "source": [
    "#### Stemming"
   ]
  },
  {
   "cell_type": "code",
   "execution_count": 28,
   "metadata": {},
   "outputs": [],
   "source": [
    "dataTraining = pd.read_csv('dataTraining.csv', encoding='UTF-8', index_col=0)\n",
    "dataTesting = pd.read_csv('dataTesting.csv', encoding='UTF-8', index_col=0)"
   ]
  },
  {
   "cell_type": "code",
   "execution_count": 29,
   "metadata": {},
   "outputs": [],
   "source": [
    "#stemming = PorterStemmer()\n",
    "stemming =  SnowballStemmer(\"english\")\n",
    "\n",
    "dataTraining['plot'] = dataTraining['plot'].apply(lambda x: ' '.join([w for w in x.split() if len(w)>1]))\n",
    "dataTraining['plot'] = dataTraining['plot'].apply(lambda x: word_tokenize(x))\n",
    "dataTraining['plot'] = dataTraining['plot'].apply(lambda x: ' '.join([stemming.stem(i) for i in x]))"
   ]
  },
  {
   "cell_type": "code",
   "execution_count": 30,
   "metadata": {},
   "outputs": [],
   "source": [
    "tf_vect = TfidfVectorizer(min_df=2, tokenizer=None, preprocessor=None, stop_words=None)\n",
    "\n",
    "X_dtm = tf_vect.fit_transform(dataTraining['plot'])\n",
    "X_dtm = X_dtm.toarray()\n",
    "\n",
    "dataTraining['genres'] = dataTraining['genres'].map(lambda x: eval(x))\n",
    "\n",
    "le = MultiLabelBinarizer()\n",
    "y_genres = le.fit_transform(dataTraining['genres'])"
   ]
  },
  {
   "cell_type": "code",
   "execution_count": 31,
   "metadata": {},
   "outputs": [],
   "source": [
    "X_train, X_test, y_train_genres, y_test_genres = train_test_split(X_dtm, y_genres, test_size=0.2, random_state=42)"
   ]
  },
  {
   "cell_type": "code",
   "execution_count": 32,
   "metadata": {},
   "outputs": [
    {
     "data": {
      "text/plain": [
       "0.8913690361269323"
      ]
     },
     "execution_count": 32,
     "metadata": {},
     "output_type": "execute_result"
    }
   ],
   "source": [
    "logreg = OneVsRestClassifier(LogisticRegression(C=2.8988, class_weight=None, dual=False, fit_intercept=True,\n",
    "          intercept_scaling=1, max_iter=100, multi_class='warn',\n",
    "          n_jobs=-1, penalty='l2', random_state=None, solver='sag',\n",
    "          tol=0.00001, verbose=0, warm_start=False),\n",
    "          n_jobs=-1).fit(X_train, y_train_genres)\n",
    "\n",
    "y_pred_genres = logreg.predict_proba(X_test)\n",
    "roc_auc_score(y_test_genres, y_pred_genres, average='macro')"
   ]
  },
  {
   "cell_type": "code",
   "execution_count": 33,
   "metadata": {},
   "outputs": [
    {
     "data": {
      "text/html": [
       "<div>\n",
       "<style scoped>\n",
       "    .dataframe tbody tr th:only-of-type {\n",
       "        vertical-align: middle;\n",
       "    }\n",
       "\n",
       "    .dataframe tbody tr th {\n",
       "        vertical-align: top;\n",
       "    }\n",
       "\n",
       "    .dataframe thead th {\n",
       "        text-align: right;\n",
       "    }\n",
       "</style>\n",
       "<table border=\"1\" class=\"dataframe\">\n",
       "  <thead>\n",
       "    <tr style=\"text-align: right;\">\n",
       "      <th></th>\n",
       "      <th>Modelo</th>\n",
       "      <th>Técnica</th>\n",
       "      <th>roc_auc_score</th>\n",
       "    </tr>\n",
       "  </thead>\n",
       "  <tbody>\n",
       "    <tr>\n",
       "      <th>0</th>\n",
       "      <td>LogisticRegression</td>\n",
       "      <td>TfidfVectorizer</td>\n",
       "      <td>0.885409</td>\n",
       "    </tr>\n",
       "    <tr>\n",
       "      <th>1</th>\n",
       "      <td>Randomforest</td>\n",
       "      <td>TfidfVectorizer</td>\n",
       "      <td>0.843964</td>\n",
       "    </tr>\n",
       "    <tr>\n",
       "      <th>2</th>\n",
       "      <td>SGD</td>\n",
       "      <td>TfidfVectorizer</td>\n",
       "      <td>0.828939</td>\n",
       "    </tr>\n",
       "    <tr>\n",
       "      <th>3</th>\n",
       "      <td>LogisticRegression + GridSearchCV</td>\n",
       "      <td>TfidfVectorizer</td>\n",
       "      <td>0.889933</td>\n",
       "    </tr>\n",
       "    <tr>\n",
       "      <th>4</th>\n",
       "      <td>LogisticRegression + Stemming</td>\n",
       "      <td>TfidfVectorizer</td>\n",
       "      <td>0.891369</td>\n",
       "    </tr>\n",
       "  </tbody>\n",
       "</table>\n",
       "</div>"
      ],
      "text/plain": [
       "                              Modelo          Técnica  roc_auc_score\n",
       "0                 LogisticRegression  TfidfVectorizer       0.885409\n",
       "1                       Randomforest  TfidfVectorizer       0.843964\n",
       "2                                SGD  TfidfVectorizer       0.828939\n",
       "3  LogisticRegression + GridSearchCV  TfidfVectorizer       0.889933\n",
       "4      LogisticRegression + Stemming  TfidfVectorizer       0.891369"
      ]
     },
     "execution_count": 33,
     "metadata": {},
     "output_type": "execute_result"
    }
   ],
   "source": [
    "results.loc[len(results)]=['LogisticRegression + Stemming','TfidfVectorizer',\n",
    "                           roc_auc_score(y_test_genres, y_pred_genres, average='macro')]\n",
    "results"
   ]
  },
  {
   "cell_type": "markdown",
   "metadata": {},
   "source": [
    "#### New Features"
   ]
  },
  {
   "cell_type": "code",
   "execution_count": 2,
   "metadata": {},
   "outputs": [],
   "source": [
    "dataTraining = pd.read_csv('dataTraining.csv', encoding='UTF-8', index_col=0)\n",
    "dataTesting = pd.read_csv('dataTesting.csv', encoding='UTF-8', index_col=0)"
   ]
  },
  {
   "cell_type": "code",
   "execution_count": 3,
   "metadata": {},
   "outputs": [],
   "source": [
    "dataTraining['plot']=dataTraining['title']+[' ']+dataTraining['plot']"
   ]
  },
  {
   "cell_type": "code",
   "execution_count": 4,
   "metadata": {},
   "outputs": [],
   "source": [
    "stemming =  SnowballStemmer(\"english\")\n",
    "\n",
    "dataTraining['plot'] = dataTraining['plot'].apply(lambda x: ' '.join([w for w in x.split() if len(w)>1]))\n",
    "dataTraining['plot'] = dataTraining['plot'].apply(lambda x: word_tokenize(x))\n",
    "dataTraining['plot'] = dataTraining['plot'].apply(lambda x: ' '.join([stemming.stem(i) for i in x]))"
   ]
  },
  {
   "cell_type": "code",
   "execution_count": 5,
   "metadata": {},
   "outputs": [],
   "source": [
    "tf_vect = TfidfVectorizer(min_df=2, tokenizer=None, preprocessor=None, stop_words=None)\n",
    "\n",
    "X_dtm = tf_vect.fit_transform(dataTraining['plot'])\n",
    "X_dtm = X_dtm.toarray()\n",
    "\n",
    "dataTraining['genres'] = dataTraining['genres'].map(lambda x: eval(x))\n",
    "\n",
    "le = MultiLabelBinarizer()\n",
    "y_genres = le.fit_transform(dataTraining['genres'])"
   ]
  },
  {
   "cell_type": "code",
   "execution_count": 6,
   "metadata": {},
   "outputs": [],
   "source": [
    "X_train, X_test, y_train_genres, y_test_genres = train_test_split(X_dtm, y_genres, test_size=0.23, random_state=42)"
   ]
  },
  {
   "cell_type": "code",
   "execution_count": 39,
   "metadata": {},
   "outputs": [
    {
     "data": {
      "text/plain": [
       "0.8944673671871918"
      ]
     },
     "execution_count": 39,
     "metadata": {},
     "output_type": "execute_result"
    }
   ],
   "source": [
    "logreg = OneVsRestClassifier(LogisticRegression(C=2.8988, class_weight=None, dual=False, fit_intercept=True,\n",
    "          intercept_scaling=1, max_iter=100, multi_class='warn',\n",
    "          n_jobs=-1, penalty='l2', random_state=None, solver='sag',\n",
    "          tol=0.00001, verbose=0, warm_start=False),\n",
    "          n_jobs=-1).fit(X_train, y_train_genres)\n",
    "\n",
    "y_pred_genres = logreg.predict_proba(X_test)\n",
    "roc_auc_score(y_test_genres, y_pred_genres, average='macro')"
   ]
  },
  {
   "cell_type": "code",
   "execution_count": 40,
   "metadata": {},
   "outputs": [
    {
     "data": {
      "text/html": [
       "<div>\n",
       "<style scoped>\n",
       "    .dataframe tbody tr th:only-of-type {\n",
       "        vertical-align: middle;\n",
       "    }\n",
       "\n",
       "    .dataframe tbody tr th {\n",
       "        vertical-align: top;\n",
       "    }\n",
       "\n",
       "    .dataframe thead th {\n",
       "        text-align: right;\n",
       "    }\n",
       "</style>\n",
       "<table border=\"1\" class=\"dataframe\">\n",
       "  <thead>\n",
       "    <tr style=\"text-align: right;\">\n",
       "      <th></th>\n",
       "      <th>Modelo</th>\n",
       "      <th>Técnica</th>\n",
       "      <th>roc_auc_score</th>\n",
       "    </tr>\n",
       "  </thead>\n",
       "  <tbody>\n",
       "    <tr>\n",
       "      <th>0</th>\n",
       "      <td>LogisticRegression</td>\n",
       "      <td>TfidfVectorizer</td>\n",
       "      <td>0.885409</td>\n",
       "    </tr>\n",
       "    <tr>\n",
       "      <th>1</th>\n",
       "      <td>Randomforest</td>\n",
       "      <td>TfidfVectorizer</td>\n",
       "      <td>0.843964</td>\n",
       "    </tr>\n",
       "    <tr>\n",
       "      <th>2</th>\n",
       "      <td>SGD</td>\n",
       "      <td>TfidfVectorizer</td>\n",
       "      <td>0.828939</td>\n",
       "    </tr>\n",
       "    <tr>\n",
       "      <th>3</th>\n",
       "      <td>LogisticRegression + GridSearchCV</td>\n",
       "      <td>TfidfVectorizer</td>\n",
       "      <td>0.889933</td>\n",
       "    </tr>\n",
       "    <tr>\n",
       "      <th>4</th>\n",
       "      <td>LogisticRegression + Stemming</td>\n",
       "      <td>TfidfVectorizer</td>\n",
       "      <td>0.891369</td>\n",
       "    </tr>\n",
       "    <tr>\n",
       "      <th>5</th>\n",
       "      <td>LogisticRegression + Stemming + New Features</td>\n",
       "      <td>TfidfVectorizer</td>\n",
       "      <td>0.894467</td>\n",
       "    </tr>\n",
       "  </tbody>\n",
       "</table>\n",
       "</div>"
      ],
      "text/plain": [
       "                                         Modelo          Técnica  \\\n",
       "0                            LogisticRegression  TfidfVectorizer   \n",
       "1                                  Randomforest  TfidfVectorizer   \n",
       "2                                           SGD  TfidfVectorizer   \n",
       "3             LogisticRegression + GridSearchCV  TfidfVectorizer   \n",
       "4                 LogisticRegression + Stemming  TfidfVectorizer   \n",
       "5  LogisticRegression + Stemming + New Features  TfidfVectorizer   \n",
       "\n",
       "   roc_auc_score  \n",
       "0       0.885409  \n",
       "1       0.843964  \n",
       "2       0.828939  \n",
       "3       0.889933  \n",
       "4       0.891369  \n",
       "5       0.894467  "
      ]
     },
     "execution_count": 40,
     "metadata": {},
     "output_type": "execute_result"
    }
   ],
   "source": [
    "results.loc[len(results)]=['LogisticRegression + Stemming + New Features','TfidfVectorizer',\n",
    "                           roc_auc_score(y_test_genres, y_pred_genres, average='macro')]\n",
    "results"
   ]
  },
  {
   "cell_type": "code",
   "execution_count": 62,
   "metadata": {},
   "outputs": [
    {
     "data": {
      "text/html": [
       "<div>\n",
       "<style scoped>\n",
       "    .dataframe tbody tr th:only-of-type {\n",
       "        vertical-align: middle;\n",
       "    }\n",
       "\n",
       "    .dataframe tbody tr th {\n",
       "        vertical-align: top;\n",
       "    }\n",
       "\n",
       "    .dataframe thead th {\n",
       "        text-align: right;\n",
       "    }\n",
       "</style>\n",
       "<table border=\"1\" class=\"dataframe\">\n",
       "  <thead>\n",
       "    <tr style=\"text-align: right;\">\n",
       "      <th></th>\n",
       "      <th>Modelo</th>\n",
       "      <th>Técnica</th>\n",
       "      <th>roc_auc_score</th>\n",
       "    </tr>\n",
       "  </thead>\n",
       "  <tbody>\n",
       "    <tr>\n",
       "      <th>0</th>\n",
       "      <td>LogisticRegression</td>\n",
       "      <td>TfidfVectorizer</td>\n",
       "      <td>0.876290</td>\n",
       "    </tr>\n",
       "    <tr>\n",
       "      <th>1</th>\n",
       "      <td>LogisticRegressionCV</td>\n",
       "      <td>TfidfVectorizer</td>\n",
       "      <td>0.889210</td>\n",
       "    </tr>\n",
       "    <tr>\n",
       "      <th>2</th>\n",
       "      <td>Randomforest</td>\n",
       "      <td>TfidfVectorizer</td>\n",
       "      <td>0.846378</td>\n",
       "    </tr>\n",
       "    <tr>\n",
       "      <th>3</th>\n",
       "      <td>LogisticRegression + New Features</td>\n",
       "      <td>TfidfVectorizer</td>\n",
       "      <td>0.889387</td>\n",
       "    </tr>\n",
       "    <tr>\n",
       "      <th>4</th>\n",
       "      <td>LogisticRegression CV + New Features</td>\n",
       "      <td>TfidfVectorizer</td>\n",
       "      <td>0.884861</td>\n",
       "    </tr>\n",
       "    <tr>\n",
       "      <th>5</th>\n",
       "      <td>LogisticRegression CV + New Features</td>\n",
       "      <td>TfidfVectorizer</td>\n",
       "      <td>0.861210</td>\n",
       "    </tr>\n",
       "    <tr>\n",
       "      <th>6</th>\n",
       "      <td>Bagging LogisticRegression</td>\n",
       "      <td>TfidfVectorizer</td>\n",
       "      <td>0.882439</td>\n",
       "    </tr>\n",
       "    <tr>\n",
       "      <th>7</th>\n",
       "      <td>Bagging LogisticRegression CV + New Features</td>\n",
       "      <td>TfidfVectorizer</td>\n",
       "      <td>0.882439</td>\n",
       "    </tr>\n",
       "    <tr>\n",
       "      <th>8</th>\n",
       "      <td>LogisticRegression + GridSearchCV</td>\n",
       "      <td>TfidfVectorizer</td>\n",
       "      <td>0.889020</td>\n",
       "    </tr>\n",
       "    <tr>\n",
       "      <th>9</th>\n",
       "      <td>LogisticRegression + New Features</td>\n",
       "      <td>TfidfVectorizer</td>\n",
       "      <td>0.892035</td>\n",
       "    </tr>\n",
       "  </tbody>\n",
       "</table>\n",
       "</div>"
      ]
     },
     "execution_count": 62,
     "metadata": {},
     "output_type": "execute_result"
    }
   ],
   "source": [
    "results.loc[len(results)]=['LogisticRegression + Stemming + New Features','TfidfVectorizer',\n",
    "                           roc_auc_score(y_test_genres, y_pred_genres, average='macro')]\n",
    "results"
   ]
  },
  {
   "cell_type": "markdown",
   "metadata": {},
   "source": [
    "#### Bagging"
   ]
  },
  {
   "cell_type": "code",
   "execution_count": 51,
   "metadata": {},
   "outputs": [],
   "source": [
    "logreg = LogisticRegression(C=2.8988, class_weight=None, dual=False, fit_intercept=True,\n",
    "          intercept_scaling=1, max_iter=100, multi_class='warn',\n",
    "          n_jobs=-1, penalty='l2', random_state=None, solver='sag',\n",
    "          tol=0.00001, verbose=0, warm_start=False)\n",
    "\n",
    "baggng = OneVsRestClassifier (BaggingClassifier(base_estimator=logreg, oob_score=True, \n",
    "                                                n_jobs=-1,n_estimators = 55, max_samples =0.5, \n",
    "                                                max_features =0.5, verbose = 100),n_jobs=-1).fit(X_train, y_train_genres)"
   ]
  },
  {
   "cell_type": "code",
   "execution_count": 52,
   "metadata": {},
   "outputs": [
    {
     "name": "stdout",
     "output_type": "stream",
     "text": [
      "[Parallel(n_jobs=8)]: Using backend LokyBackend with 8 concurrent workers.\n",
      "Pickling array (shape=(2,), dtype=int64).\n",
      "Pickling array (shape=(1, 10485), dtype=float64).\n",
      "Pickling array (shape=(1,), dtype=float64).\n",
      "Pickling array (shape=(1,), dtype=int32).\n",
      "Pickling array (shape=(2,), dtype=int64).\n",
      "Pickling array (shape=(1, 10485), dtype=float64).\n",
      "Pickling array (shape=(1,), dtype=float64).\n",
      "Pickling array (shape=(1,), dtype=int32).\n",
      "Pickling array (shape=(2,), dtype=int64).\n",
      "Pickling array (shape=(1, 10485), dtype=float64).\n",
      "Pickling array (shape=(1,), dtype=float64).\n",
      "Pickling array (shape=(1,), dtype=int32).\n",
      "Pickling array (shape=(2,), dtype=int64).\n",
      "Pickling array (shape=(1, 10485), dtype=float64).\n",
      "Pickling array (shape=(1,), dtype=float64).\n",
      "Pickling array (shape=(1,), dtype=int32).\n",
      "Pickling array (shape=(2,), dtype=int64).\n",
      "Pickling array (shape=(1, 10485), dtype=float64).\n",
      "Pickling array (shape=(1,), dtype=float64).\n",
      "Pickling array (shape=(1,), dtype=int32).\n",
      "Pickling array (shape=(2,), dtype=int64).\n",
      "Pickling array (shape=(1, 10485), dtype=float64).\n",
      "Pickling array (shape=(1,), dtype=float64).\n",
      "Pickling array (shape=(1,), dtype=int32).\n",
      "Pickling array (shape=(2,), dtype=int64).\n",
      "Pickling array (shape=(1, 10485), dtype=float64).\n",
      "Pickling array (shape=(1,), dtype=float64).\n",
      "Pickling array (shape=(1,), dtype=int32).\n",
      "Pickling array (shape=(10485,), dtype=int32).\n",
      "Pickling array (shape=(10485,), dtype=int32).\n",
      "Pickling array (shape=(10485,), dtype=int32).\n",
      "Pickling array (shape=(10485,), dtype=int32).\n",
      "Pickling array (shape=(10485,), dtype=int32).\n",
      "Pickling array (shape=(10485,), dtype=int32).\n",
      "Pickling array (shape=(10485,), dtype=int32).\n",
      "Memmapping (shape=(1579, 20970), dtype=float64) to new file C:\\Users\\DEYVI~1.CAI\\AppData\\Local\\Temp\\joblib_memmapping_folder_15604_9992504739\\15604-2245441903584-90b2ca04a310430580edc4d7cf18a4f8.pkl\n",
      "Pickling array (shape=(2,), dtype=int64).\n",
      "Pickling array (shape=(1, 10485), dtype=float64).\n",
      "Pickling array (shape=(1,), dtype=float64).\n",
      "Pickling array (shape=(1,), dtype=int32).\n",
      "Pickling array (shape=(2,), dtype=int64).\n",
      "Pickling array (shape=(1, 10485), dtype=float64).\n",
      "Pickling array (shape=(1,), dtype=float64).\n",
      "Pickling array (shape=(1,), dtype=int32).\n",
      "Pickling array (shape=(2,), dtype=int64).\n",
      "Pickling array (shape=(1, 10485), dtype=float64).\n",
      "Pickling array (shape=(1,), dtype=float64).\n",
      "Pickling array (shape=(1,), dtype=int32).\n",
      "Pickling array (shape=(2,), dtype=int64).\n",
      "Pickling array (shape=(1, 10485), dtype=float64).\n",
      "Pickling array (shape=(1,), dtype=float64).\n",
      "Pickling array (shape=(1,), dtype=int32).\n",
      "Pickling array (shape=(2,), dtype=int64).\n",
      "Pickling array (shape=(1, 10485), dtype=float64).\n",
      "Pickling array (shape=(1,), dtype=float64).\n",
      "Pickling array (shape=(1,), dtype=int32).\n",
      "Pickling array (shape=(2,), dtype=int64).\n",
      "Pickling array (shape=(1, 10485), dtype=float64).\n",
      "Pickling array (shape=(1,), dtype=float64).\n",
      "Pickling array (shape=(1,), dtype=int32).\n",
      "Pickling array (shape=(2,), dtype=int64).\n",
      "Pickling array (shape=(1, 10485), dtype=float64).\n",
      "Pickling array (shape=(1,), dtype=float64).\n",
      "Pickling array (shape=(1,), dtype=int32).\n",
      "Pickling array (shape=(10485,), dtype=int32).\n",
      "Pickling array (shape=(10485,), dtype=int32).\n",
      "Pickling array (shape=(10485,), dtype=int32).\n",
      "Pickling array (shape=(10485,), dtype=int32).\n",
      "Pickling array (shape=(10485,), dtype=int32).\n",
      "Pickling array (shape=(10485,), dtype=int32).\n",
      "Pickling array (shape=(10485,), dtype=int32).\n",
      "Memmapping (shape=(1579, 20970), dtype=float64) to old file C:\\Users\\DEYVI~1.CAI\\AppData\\Local\\Temp\\joblib_memmapping_folder_15604_9992504739\\15604-2245441903584-90b2ca04a310430580edc4d7cf18a4f8.pkl\n",
      "Pickling array (shape=(2,), dtype=int64).\n",
      "Pickling array (shape=(1, 10485), dtype=float64).\n",
      "Pickling array (shape=(1,), dtype=float64).\n",
      "Pickling array (shape=(1,), dtype=int32).\n",
      "Pickling array (shape=(2,), dtype=int64).\n",
      "Pickling array (shape=(1, 10485), dtype=float64).\n",
      "Pickling array (shape=(1,), dtype=float64).\n",
      "Pickling array (shape=(1,), dtype=int32).\n",
      "Pickling array (shape=(2,), dtype=int64).\n",
      "Pickling array (shape=(1, 10485), dtype=float64).\n",
      "Pickling array (shape=(1,), dtype=float64).\n",
      "Pickling array (shape=(1,), dtype=int32).\n",
      "Pickling array (shape=(2,), dtype=int64).\n",
      "Pickling array (shape=(1, 10485), dtype=float64).\n",
      "Pickling array (shape=(1,), dtype=float64).\n",
      "Pickling array (shape=(1,), dtype=int32).\n",
      "Pickling array (shape=(2,), dtype=int64).\n",
      "Pickling array (shape=(1, 10485), dtype=float64).\n",
      "Pickling array (shape=(1,), dtype=float64).\n",
      "Pickling array (shape=(1,), dtype=int32).\n",
      "Pickling array (shape=(2,), dtype=int64).\n",
      "Pickling array (shape=(1, 10485), dtype=float64).\n",
      "Pickling array (shape=(1,), dtype=float64).\n",
      "Pickling array (shape=(1,), dtype=int32).\n",
      "Pickling array (shape=(10485,), dtype=int32).\n",
      "Pickling array (shape=(10485,), dtype=int32).\n",
      "Pickling array (shape=(10485,), dtype=int32).\n",
      "Pickling array (shape=(10485,), dtype=int32).\n",
      "Pickling array (shape=(10485,), dtype=int32).\n",
      "Pickling array (shape=(10485,), dtype=int32).\n",
      "Memmapping (shape=(1579, 20970), dtype=float64) to old file C:\\Users\\DEYVI~1.CAI\\AppData\\Local\\Temp\\joblib_memmapping_folder_15604_9992504739\\15604-2245441903584-90b2ca04a310430580edc4d7cf18a4f8.pkl\n",
      "Pickling array (shape=(2,), dtype=int64).\n",
      "Pickling array (shape=(1, 10485), dtype=float64).\n",
      "Pickling array (shape=(1,), dtype=float64).\n",
      "Pickling array (shape=(1,), dtype=int32).\n",
      "Pickling array (shape=(2,), dtype=int64).\n",
      "Pickling array (shape=(1, 10485), dtype=float64).\n",
      "Pickling array (shape=(1,), dtype=float64).\n",
      "Pickling array (shape=(1,), dtype=int32).\n",
      "Pickling array (shape=(2,), dtype=int64).\n",
      "Pickling array (shape=(1, 10485), dtype=float64).\n",
      "Pickling array (shape=(1,), dtype=float64).\n",
      "Pickling array (shape=(1,), dtype=int32).\n",
      "Pickling array (shape=(2,), dtype=int64).\n",
      "Pickling array (shape=(1, 10485), dtype=float64).\n",
      "Pickling array (shape=(1,), dtype=float64).\n",
      "Pickling array (shape=(1,), dtype=int32).\n",
      "Pickling array (shape=(2,), dtype=int64).\n",
      "Pickling array (shape=(1, 10485), dtype=float64).\n",
      "Pickling array (shape=(1,), dtype=float64).\n",
      "Pickling array (shape=(1,), dtype=int32).\n",
      "Pickling array (shape=(2,), dtype=int64).\n",
      "Pickling array (shape=(1, 10485), dtype=float64).\n",
      "Pickling array (shape=(1,), dtype=float64).\n",
      "Pickling array (shape=(1,), dtype=int32).\n",
      "Pickling array (shape=(10485,), dtype=int32).\n",
      "Pickling array (shape=(10485,), dtype=int32).\n",
      "Pickling array (shape=(10485,), dtype=int32).\n",
      "Pickling array (shape=(10485,), dtype=int32).\n",
      "Pickling array (shape=(10485,), dtype=int32).\n",
      "Pickling array (shape=(10485,), dtype=int32).\n",
      "Memmapping (shape=(1579, 20970), dtype=float64) to old file C:\\Users\\DEYVI~1.CAI\\AppData\\Local\\Temp\\joblib_memmapping_folder_15604_9992504739\\15604-2245441903584-90b2ca04a310430580edc4d7cf18a4f8.pkl\n",
      "Pickling array (shape=(2,), dtype=int64).\n",
      "Pickling array (shape=(1, 10485), dtype=float64).\n",
      "Pickling array (shape=(1,), dtype=float64).\n",
      "Pickling array (shape=(1,), dtype=int32).\n",
      "Pickling array (shape=(2,), dtype=int64).\n",
      "Pickling array (shape=(1, 10485), dtype=float64).\n",
      "Pickling array (shape=(1,), dtype=float64).\n",
      "Pickling array (shape=(1,), dtype=int32).\n",
      "Pickling array (shape=(2,), dtype=int64).\n",
      "Pickling array (shape=(1, 10485), dtype=float64).\n",
      "Pickling array (shape=(1,), dtype=float64).\n",
      "Pickling array (shape=(1,), dtype=int32).\n",
      "Pickling array (shape=(2,), dtype=int64).\n",
      "Pickling array (shape=(1, 10485), dtype=float64).\n",
      "Pickling array (shape=(1,), dtype=float64).\n",
      "Pickling array (shape=(1,), dtype=int32).\n",
      "Pickling array (shape=(2,), dtype=int64).\n",
      "Pickling array (shape=(1, 10485), dtype=float64).\n",
      "Pickling array (shape=(1,), dtype=float64).\n",
      "Pickling array (shape=(1,), dtype=int32).\n",
      "Pickling array (shape=(2,), dtype=int64).\n",
      "Pickling array (shape=(1, 10485), dtype=float64).\n",
      "Pickling array (shape=(1,), dtype=float64).\n",
      "Pickling array (shape=(1,), dtype=int32).\n",
      "Pickling array (shape=(10485,), dtype=int32).\n",
      "Pickling array (shape=(10485,), dtype=int32).\n",
      "Pickling array (shape=(10485,), dtype=int32).\n",
      "Pickling array (shape=(10485,), dtype=int32).\n",
      "Pickling array (shape=(10485,), dtype=int32).\n",
      "Pickling array (shape=(10485,), dtype=int32).\n",
      "Memmapping (shape=(1579, 20970), dtype=float64) to old file C:\\Users\\DEYVI~1.CAI\\AppData\\Local\\Temp\\joblib_memmapping_folder_15604_9992504739\\15604-2245441903584-90b2ca04a310430580edc4d7cf18a4f8.pkl\n",
      "Pickling array (shape=(2,), dtype=int64).\n",
      "Pickling array (shape=(1, 10485), dtype=float64).\n",
      "Pickling array (shape=(1,), dtype=float64).\n",
      "Pickling array (shape=(1,), dtype=int32).\n",
      "Pickling array (shape=(2,), dtype=int64).\n",
      "Pickling array (shape=(1, 10485), dtype=float64).\n",
      "Pickling array (shape=(1,), dtype=float64).\n",
      "Pickling array (shape=(1,), dtype=int32).\n",
      "Pickling array (shape=(2,), dtype=int64).\n",
      "Pickling array (shape=(1, 10485), dtype=float64).\n",
      "Pickling array (shape=(1,), dtype=float64).\n",
      "Pickling array (shape=(1,), dtype=int32).\n",
      "Pickling array (shape=(2,), dtype=int64).\n",
      "Pickling array (shape=(1, 10485), dtype=float64).\n",
      "Pickling array (shape=(1,), dtype=float64).\n",
      "Pickling array (shape=(1,), dtype=int32).\n",
      "Pickling array (shape=(2,), dtype=int64).\n",
      "Pickling array (shape=(1, 10485), dtype=float64).\n",
      "Pickling array (shape=(1,), dtype=float64).\n",
      "Pickling array (shape=(1,), dtype=int32).\n",
      "Pickling array (shape=(2,), dtype=int64).\n",
      "Pickling array (shape=(1, 10485), dtype=float64).\n",
      "Pickling array (shape=(1,), dtype=float64).\n",
      "Pickling array (shape=(1,), dtype=int32).\n",
      "Pickling array (shape=(10485,), dtype=int32).\n",
      "Pickling array (shape=(10485,), dtype=int32).\n",
      "Pickling array (shape=(10485,), dtype=int32).\n",
      "Pickling array (shape=(10485,), dtype=int32).\n",
      "Pickling array (shape=(10485,), dtype=int32).\n",
      "Pickling array (shape=(10485,), dtype=int32).\n",
      "Memmapping (shape=(1579, 20970), dtype=float64) to old file C:\\Users\\DEYVI~1.CAI\\AppData\\Local\\Temp\\joblib_memmapping_folder_15604_9992504739\\15604-2245441903584-90b2ca04a310430580edc4d7cf18a4f8.pkl\n",
      "Pickling array (shape=(2,), dtype=int64).\n",
      "Pickling array (shape=(1, 10485), dtype=float64).\n",
      "Pickling array (shape=(1,), dtype=float64).\n",
      "Pickling array (shape=(1,), dtype=int32).\n",
      "Pickling array (shape=(2,), dtype=int64).\n",
      "Pickling array (shape=(1, 10485), dtype=float64).\n",
      "Pickling array (shape=(1,), dtype=float64).\n",
      "Pickling array (shape=(1,), dtype=int32).\n",
      "Pickling array (shape=(2,), dtype=int64).\n",
      "Pickling array (shape=(1, 10485), dtype=float64).\n",
      "Pickling array (shape=(1,), dtype=float64).\n",
      "Pickling array (shape=(1,), dtype=int32).\n",
      "Pickling array (shape=(2,), dtype=int64).\n",
      "Pickling array (shape=(1, 10485), dtype=float64).\n",
      "Pickling array (shape=(1,), dtype=float64).\n",
      "Pickling array (shape=(1,), dtype=int32).\n",
      "Pickling array (shape=(2,), dtype=int64).\n",
      "Pickling array (shape=(1, 10485), dtype=float64).\n",
      "Pickling array (shape=(1,), dtype=float64).\n",
      "Pickling array (shape=(1,), dtype=int32).\n",
      "Pickling array (shape=(2,), dtype=int64).\n",
      "Pickling array (shape=(1, 10485), dtype=float64).\n",
      "Pickling array (shape=(1,), dtype=float64).\n",
      "Pickling array (shape=(1,), dtype=int32).\n",
      "Pickling array (shape=(10485,), dtype=int32).\n",
      "Pickling array (shape=(10485,), dtype=int32).\n",
      "Pickling array (shape=(10485,), dtype=int32).\n",
      "Pickling array (shape=(10485,), dtype=int32).\n",
      "Pickling array (shape=(10485,), dtype=int32).\n",
      "Pickling array (shape=(10485,), dtype=int32).\n",
      "Memmapping (shape=(1579, 20970), dtype=float64) to old file C:\\Users\\DEYVI~1.CAI\\AppData\\Local\\Temp\\joblib_memmapping_folder_15604_9992504739\\15604-2245441903584-90b2ca04a310430580edc4d7cf18a4f8.pkl\n",
      "Pickling array (shape=(2,), dtype=int64).\n",
      "Pickling array (shape=(1, 10485), dtype=float64).\n",
      "Pickling array (shape=(1,), dtype=float64).\n",
      "Pickling array (shape=(1,), dtype=int32).\n",
      "Pickling array (shape=(2,), dtype=int64).\n",
      "Pickling array (shape=(1, 10485), dtype=float64).\n",
      "Pickling array (shape=(1,), dtype=float64).\n",
      "Pickling array (shape=(1,), dtype=int32).\n",
      "Pickling array (shape=(2,), dtype=int64).\n",
      "Pickling array (shape=(1, 10485), dtype=float64).\n",
      "Pickling array (shape=(1,), dtype=float64).\n",
      "Pickling array (shape=(1,), dtype=int32).\n",
      "Pickling array (shape=(2,), dtype=int64).\n",
      "Pickling array (shape=(1, 10485), dtype=float64).\n",
      "Pickling array (shape=(1,), dtype=float64).\n",
      "Pickling array (shape=(1,), dtype=int32).\n",
      "Pickling array (shape=(2,), dtype=int64).\n",
      "Pickling array (shape=(1, 10485), dtype=float64).\n",
      "Pickling array (shape=(1,), dtype=float64).\n",
      "Pickling array (shape=(1,), dtype=int32).\n",
      "Pickling array (shape=(2,), dtype=int64).\n",
      "Pickling array (shape=(1, 10485), dtype=float64).\n",
      "Pickling array (shape=(1,), dtype=float64).\n",
      "Pickling array (shape=(1,), dtype=int32).\n",
      "Pickling array (shape=(10485,), dtype=int32).\n",
      "Pickling array (shape=(10485,), dtype=int32).\n",
      "Pickling array (shape=(10485,), dtype=int32).\n",
      "Pickling array (shape=(10485,), dtype=int32).\n",
      "Pickling array (shape=(10485,), dtype=int32).\n",
      "Pickling array (shape=(10485,), dtype=int32).\n",
      "Memmapping (shape=(1579, 20970), dtype=float64) to old file C:\\Users\\DEYVI~1.CAI\\AppData\\Local\\Temp\\joblib_memmapping_folder_15604_9992504739\\15604-2245441903584-90b2ca04a310430580edc4d7cf18a4f8.pkl\n"
     ]
    },
    {
     "name": "stderr",
     "output_type": "stream",
     "text": [
      "WARNING: Some output was deleted.\n"
     ]
    }
   ],
   "source": [
    "y_pred_genres = baggng.predict_proba(X_test)\n",
    "roc_auc_score(y_test_genres, y_pred_genres, average='macro')"
   ]
  },
  {
   "cell_type": "code",
   "execution_count": 53,
   "metadata": {},
   "outputs": [
    {
     "data": {
      "text/html": [
       "<div>\n",
       "<style scoped>\n",
       "    .dataframe tbody tr th:only-of-type {\n",
       "        vertical-align: middle;\n",
       "    }\n",
       "\n",
       "    .dataframe tbody tr th {\n",
       "        vertical-align: top;\n",
       "    }\n",
       "\n",
       "    .dataframe thead th {\n",
       "        text-align: right;\n",
       "    }\n",
       "</style>\n",
       "<table border=\"1\" class=\"dataframe\">\n",
       "  <thead>\n",
       "    <tr style=\"text-align: right;\">\n",
       "      <th></th>\n",
       "      <th>Modelo</th>\n",
       "      <th>Técnica</th>\n",
       "      <th>roc_auc_score</th>\n",
       "    </tr>\n",
       "  </thead>\n",
       "  <tbody>\n",
       "    <tr>\n",
       "      <th>0</th>\n",
       "      <td>LogisticRegression</td>\n",
       "      <td>TfidfVectorizer</td>\n",
       "      <td>0.876290</td>\n",
       "    </tr>\n",
       "    <tr>\n",
       "      <th>1</th>\n",
       "      <td>LogisticRegressionCV</td>\n",
       "      <td>TfidfVectorizer</td>\n",
       "      <td>0.889210</td>\n",
       "    </tr>\n",
       "    <tr>\n",
       "      <th>2</th>\n",
       "      <td>Randomforest</td>\n",
       "      <td>TfidfVectorizer</td>\n",
       "      <td>0.846378</td>\n",
       "    </tr>\n",
       "    <tr>\n",
       "      <th>3</th>\n",
       "      <td>LogisticRegression + New Features</td>\n",
       "      <td>TfidfVectorizer</td>\n",
       "      <td>0.889387</td>\n",
       "    </tr>\n",
       "    <tr>\n",
       "      <th>4</th>\n",
       "      <td>LogisticRegression CV + New Features</td>\n",
       "      <td>TfidfVectorizer</td>\n",
       "      <td>0.884861</td>\n",
       "    </tr>\n",
       "    <tr>\n",
       "      <th>5</th>\n",
       "      <td>LogisticRegression CV + New Features</td>\n",
       "      <td>TfidfVectorizer</td>\n",
       "      <td>0.861210</td>\n",
       "    </tr>\n",
       "    <tr>\n",
       "      <th>6</th>\n",
       "      <td>Bagging LogisticRegression</td>\n",
       "      <td>TfidfVectorizer</td>\n",
       "      <td>0.882439</td>\n",
       "    </tr>\n",
       "  </tbody>\n",
       "</table>\n",
       "</div>"
      ]
     },
     "execution_count": 53,
     "metadata": {},
     "output_type": "execute_result"
    }
   ],
   "source": [
    "results.loc[len(results)]=['Bagging + LogisticRegression + Stemming + New Features','TfidfVectorizer',\n",
    "                           roc_auc_score(y_test_genres, y_pred_genres, average='macro')]\n",
    "results"
   ]
  },
  {
   "cell_type": "markdown",
   "metadata": {},
   "source": [
    "##### Bagging 2"
   ]
  },
  {
   "cell_type": "code",
   "execution_count": 48,
   "metadata": {},
   "outputs": [],
   "source": [
    "logregcv = LogisticRegressionCV(Cs=100, class_weight=None, dual=False, fit_intercept=True, cv=3,\n",
    "          intercept_scaling=1, max_iter=100, multi_class='warn', scoring='roc_auc',\n",
    "          n_jobs=-1, penalty='l2', random_state=None, solver='warn',\n",
    "          tol=0.00001, verbose=0)\n",
    "\n",
    "baggng = OneVsRestClassifier (BaggingClassifier(base_estimator=logregcv, oob_score=True, n_jobs=-1,n_estimators = 50, max_samples =0.5, max_features =0.5, verbose = 100),n_jobs=-1).fit(X_train, y_train_genres)"
   ]
  },
  {
   "cell_type": "code",
   "execution_count": 49,
   "metadata": {},
   "outputs": [
    {
     "name": "stdout",
     "output_type": "stream",
     "text": [
      "[Parallel(n_jobs=8)]: Using backend LokyBackend with 8 concurrent workers.\n",
      "Pickling array (shape=(2,), dtype=int64).\n",
      "Pickling array (shape=(3,), dtype=float64).\n",
      "Pickling array (shape=(1, 3, 3), dtype=int32).\n",
      "Pickling array (shape=(3, 3, 10486), dtype=float64).\n",
      "Pickling array (shape=(3, 3), dtype=float64).\n",
      "Pickling array (shape=(1,), dtype=float64).\n",
      "Pickling array (shape=(1, 10485), dtype=float64).\n",
      "Pickling array (shape=(1,), dtype=float64).\n",
      "Pickling array (shape=(2,), dtype=int64).\n",
      "Pickling array (shape=(3,), dtype=float64).\n",
      "Pickling array (shape=(1, 3, 3), dtype=int32).\n",
      "Pickling array (shape=(3, 3, 10486), dtype=float64).\n",
      "Pickling array (shape=(3, 3), dtype=float64).\n",
      "Pickling array (shape=(1,), dtype=float64).\n",
      "Pickling array (shape=(1, 10485), dtype=float64).\n",
      "Pickling array (shape=(1,), dtype=float64).\n",
      "Pickling array (shape=(2,), dtype=int64).\n",
      "Pickling array (shape=(3,), dtype=float64).\n",
      "Pickling array (shape=(1, 3, 3), dtype=int32).\n",
      "Pickling array (shape=(3, 3, 10486), dtype=float64).\n",
      "Pickling array (shape=(3, 3), dtype=float64).\n",
      "Pickling array (shape=(1,), dtype=float64).\n",
      "Pickling array (shape=(1, 10485), dtype=float64).\n",
      "Pickling array (shape=(1,), dtype=float64).\n",
      "Pickling array (shape=(2,), dtype=int64).\n",
      "Pickling array (shape=(3,), dtype=float64).\n",
      "Pickling array (shape=(1, 3, 3), dtype=int32).\n",
      "Pickling array (shape=(3, 3, 10486), dtype=float64).\n",
      "Pickling array (shape=(3, 3), dtype=float64).\n",
      "Pickling array (shape=(1,), dtype=float64).\n",
      "Pickling array (shape=(1, 10485), dtype=float64).\n",
      "Pickling array (shape=(1,), dtype=float64).\n",
      "Pickling array (shape=(2,), dtype=int64).\n",
      "Pickling array (shape=(3,), dtype=float64).\n",
      "Pickling array (shape=(1, 3, 3), dtype=int32).\n",
      "Pickling array (shape=(3, 3, 10486), dtype=float64).\n",
      "Pickling array (shape=(3, 3), dtype=float64).\n",
      "Pickling array (shape=(1,), dtype=float64).\n",
      "Pickling array (shape=(1, 10485), dtype=float64).\n",
      "Pickling array (shape=(1,), dtype=float64).\n",
      "Pickling array (shape=(2,), dtype=int64).\n",
      "Pickling array (shape=(3,), dtype=float64).\n",
      "Pickling array (shape=(1, 3, 3), dtype=int32).\n",
      "Pickling array (shape=(3, 3, 10486), dtype=float64).\n",
      "Pickling array (shape=(3, 3), dtype=float64).\n",
      "Pickling array (shape=(1,), dtype=float64).\n",
      "Pickling array (shape=(1, 10485), dtype=float64).\n",
      "Pickling array (shape=(1,), dtype=float64).\n",
      "Pickling array (shape=(2,), dtype=int64).\n",
      "Pickling array (shape=(3,), dtype=float64).\n",
      "Pickling array (shape=(1, 3, 3), dtype=int32).\n",
      "Pickling array (shape=(3, 3, 10486), dtype=float64).\n",
      "Pickling array (shape=(3, 3), dtype=float64).\n",
      "Pickling array (shape=(1,), dtype=float64).\n",
      "Pickling array (shape=(1, 10485), dtype=float64).\n",
      "Pickling array (shape=(1,), dtype=float64).\n",
      "Pickling array (shape=(10485,), dtype=int32).\n",
      "Pickling array (shape=(10485,), dtype=int32).\n",
      "Pickling array (shape=(10485,), dtype=int32).\n",
      "Pickling array (shape=(10485,), dtype=int32).\n",
      "Pickling array (shape=(10485,), dtype=int32).\n",
      "Pickling array (shape=(10485,), dtype=int32).\n",
      "Pickling array (shape=(10485,), dtype=int32).\n",
      "Memmapping (shape=(1579, 20970), dtype=float64) to new file C:\\Users\\DEYVI~1.CAI\\AppData\\Local\\Temp\\joblib_memmapping_folder_15604_29939688\\15604-2245623196024-ecdb85daca374a7987d4d2830becc1fa.pkl\n",
      "Pickling array (shape=(2,), dtype=int64).\n",
      "Pickling array (shape=(3,), dtype=float64).\n",
      "Pickling array (shape=(1, 3, 3), dtype=int32).\n",
      "Pickling array (shape=(3, 3, 10486), dtype=float64).\n",
      "Pickling array (shape=(3, 3), dtype=float64).\n",
      "Pickling array (shape=(1,), dtype=float64).\n",
      "Pickling array (shape=(1, 10485), dtype=float64).\n",
      "Pickling array (shape=(1,), dtype=float64).\n",
      "Pickling array (shape=(2,), dtype=int64).\n",
      "Pickling array (shape=(3,), dtype=float64).\n",
      "Pickling array (shape=(1, 3, 3), dtype=int32).\n",
      "Pickling array (shape=(3, 3, 10486), dtype=float64).\n",
      "Pickling array (shape=(3, 3), dtype=float64).\n",
      "Pickling array (shape=(1,), dtype=float64).\n",
      "Pickling array (shape=(1, 10485), dtype=float64).\n",
      "Pickling array (shape=(1,), dtype=float64).\n",
      "Pickling array (shape=(2,), dtype=int64).\n",
      "Pickling array (shape=(3,), dtype=float64).\n",
      "Pickling array (shape=(1, 3, 3), dtype=int32).\n",
      "Pickling array (shape=(3, 3, 10486), dtype=float64).\n",
      "Pickling array (shape=(3, 3), dtype=float64).\n",
      "Pickling array (shape=(1,), dtype=float64).\n",
      "Pickling array (shape=(1, 10485), dtype=float64).\n",
      "Pickling array (shape=(1,), dtype=float64).\n",
      "Pickling array (shape=(2,), dtype=int64).\n",
      "Pickling array (shape=(3,), dtype=float64).\n",
      "Pickling array (shape=(1, 3, 3), dtype=int32).\n",
      "Pickling array (shape=(3, 3, 10486), dtype=float64).\n",
      "Pickling array (shape=(3, 3), dtype=float64).\n",
      "Pickling array (shape=(1,), dtype=float64).\n",
      "Pickling array (shape=(1, 10485), dtype=float64).\n",
      "Pickling array (shape=(1,), dtype=float64).\n",
      "Pickling array (shape=(2,), dtype=int64).\n",
      "Pickling array (shape=(3,), dtype=float64).\n",
      "Pickling array (shape=(1, 3, 3), dtype=int32).\n",
      "Pickling array (shape=(3, 3, 10486), dtype=float64).\n",
      "Pickling array (shape=(3, 3), dtype=float64).\n",
      "Pickling array (shape=(1,), dtype=float64).\n",
      "Pickling array (shape=(1, 10485), dtype=float64).\n",
      "Pickling array (shape=(1,), dtype=float64).\n",
      "Pickling array (shape=(2,), dtype=int64).\n",
      "Pickling array (shape=(3,), dtype=float64).\n",
      "Pickling array (shape=(1, 3, 3), dtype=int32).\n",
      "Pickling array (shape=(3, 3, 10486), dtype=float64).\n",
      "Pickling array (shape=(3, 3), dtype=float64).\n",
      "Pickling array (shape=(1,), dtype=float64).\n",
      "Pickling array (shape=(1, 10485), dtype=float64).\n",
      "Pickling array (shape=(1,), dtype=float64).\n",
      "Pickling array (shape=(2,), dtype=int64).\n",
      "Pickling array (shape=(3,), dtype=float64).\n",
      "Pickling array (shape=(1, 3, 3), dtype=int32).\n",
      "Pickling array (shape=(3, 3, 10486), dtype=float64).\n",
      "Pickling array (shape=(3, 3), dtype=float64).\n",
      "Pickling array (shape=(1,), dtype=float64).\n",
      "Pickling array (shape=(1, 10485), dtype=float64).\n",
      "Pickling array (shape=(1,), dtype=float64).\n",
      "Pickling array (shape=(10485,), dtype=int32).\n",
      "Pickling array (shape=(10485,), dtype=int32).\n",
      "Pickling array (shape=(10485,), dtype=int32).\n",
      "Pickling array (shape=(10485,), dtype=int32).\n",
      "Pickling array (shape=(10485,), dtype=int32).\n",
      "Pickling array (shape=(10485,), dtype=int32).\n",
      "Pickling array (shape=(10485,), dtype=int32).\n",
      "Memmapping (shape=(1579, 20970), dtype=float64) to old file C:\\Users\\DEYVI~1.CAI\\AppData\\Local\\Temp\\joblib_memmapping_folder_15604_29939688\\15604-2245623196024-ecdb85daca374a7987d4d2830becc1fa.pkl\n",
      "Pickling array (shape=(2,), dtype=int64).\n",
      "Pickling array (shape=(3,), dtype=float64).\n",
      "Pickling array (shape=(1, 3, 3), dtype=int32).\n",
      "Pickling array (shape=(3, 3, 10486), dtype=float64).\n",
      "Pickling array (shape=(3, 3), dtype=float64).\n",
      "Pickling array (shape=(1,), dtype=float64).\n",
      "Pickling array (shape=(1, 10485), dtype=float64).\n",
      "Pickling array (shape=(1,), dtype=float64).\n",
      "Pickling array (shape=(2,), dtype=int64).\n",
      "Pickling array (shape=(3,), dtype=float64).\n",
      "Pickling array (shape=(1, 3, 3), dtype=int32).\n",
      "Pickling array (shape=(3, 3, 10486), dtype=float64).\n",
      "Pickling array (shape=(3, 3), dtype=float64).\n",
      "Pickling array (shape=(1,), dtype=float64).\n",
      "Pickling array (shape=(1, 10485), dtype=float64).\n",
      "Pickling array (shape=(1,), dtype=float64).\n",
      "Pickling array (shape=(2,), dtype=int64).\n",
      "Pickling array (shape=(3,), dtype=float64).\n",
      "Pickling array (shape=(1, 3, 3), dtype=int32).\n",
      "Pickling array (shape=(3, 3, 10486), dtype=float64).\n",
      "Pickling array (shape=(3, 3), dtype=float64).\n",
      "Pickling array (shape=(1,), dtype=float64).\n",
      "Pickling array (shape=(1, 10485), dtype=float64).\n",
      "Pickling array (shape=(1,), dtype=float64).\n",
      "Pickling array (shape=(2,), dtype=int64).\n",
      "Pickling array (shape=(3,), dtype=float64).\n",
      "Pickling array (shape=(1, 3, 3), dtype=int32).\n",
      "Pickling array (shape=(3, 3, 10486), dtype=float64).\n",
      "Pickling array (shape=(3, 3), dtype=float64).\n",
      "Pickling array (shape=(1,), dtype=float64).\n",
      "Pickling array (shape=(1, 10485), dtype=float64).\n",
      "Pickling array (shape=(1,), dtype=float64).\n",
      "Pickling array (shape=(2,), dtype=int64).\n",
      "Pickling array (shape=(3,), dtype=float64).\n",
      "Pickling array (shape=(1, 3, 3), dtype=int32).\n",
      "Pickling array (shape=(3, 3, 10486), dtype=float64).\n",
      "Pickling array (shape=(3, 3), dtype=float64).\n",
      "Pickling array (shape=(1,), dtype=float64).\n",
      "Pickling array (shape=(1, 10485), dtype=float64).\n",
      "Pickling array (shape=(1,), dtype=float64).\n",
      "Pickling array (shape=(2,), dtype=int64).\n",
      "Pickling array (shape=(3,), dtype=float64).\n",
      "Pickling array (shape=(1, 3, 3), dtype=int32).\n",
      "Pickling array (shape=(3, 3, 10486), dtype=float64).\n",
      "Pickling array (shape=(3, 3), dtype=float64).\n",
      "Pickling array (shape=(1,), dtype=float64).\n",
      "Pickling array (shape=(1, 10485), dtype=float64).\n",
      "Pickling array (shape=(1,), dtype=float64).\n",
      "Pickling array (shape=(10485,), dtype=int32).\n",
      "Pickling array (shape=(10485,), dtype=int32).\n",
      "Pickling array (shape=(10485,), dtype=int32).\n",
      "Pickling array (shape=(10485,), dtype=int32).\n",
      "Pickling array (shape=(10485,), dtype=int32).\n",
      "Pickling array (shape=(10485,), dtype=int32).\n",
      "Memmapping (shape=(1579, 20970), dtype=float64) to old file C:\\Users\\DEYVI~1.CAI\\AppData\\Local\\Temp\\joblib_memmapping_folder_15604_29939688\\15604-2245623196024-ecdb85daca374a7987d4d2830becc1fa.pkl\n",
      "Pickling array (shape=(2,), dtype=int64).\n",
      "Pickling array (shape=(3,), dtype=float64).\n",
      "Pickling array (shape=(1, 3, 3), dtype=int32).\n",
      "Pickling array (shape=(3, 3, 10486), dtype=float64).\n",
      "Pickling array (shape=(3, 3), dtype=float64).\n",
      "Pickling array (shape=(1,), dtype=float64).\n",
      "Pickling array (shape=(1, 10485), dtype=float64).\n",
      "Pickling array (shape=(1,), dtype=float64).\n",
      "Pickling array (shape=(2,), dtype=int64).\n",
      "Pickling array (shape=(3,), dtype=float64).\n",
      "Pickling array (shape=(1, 3, 3), dtype=int32).\n",
      "Pickling array (shape=(3, 3, 10486), dtype=float64).\n",
      "Pickling array (shape=(3, 3), dtype=float64).\n",
      "Pickling array (shape=(1,), dtype=float64).\n",
      "Pickling array (shape=(1, 10485), dtype=float64).\n",
      "Pickling array (shape=(1,), dtype=float64).\n",
      "Pickling array (shape=(2,), dtype=int64).\n",
      "Pickling array (shape=(3,), dtype=float64).\n",
      "Pickling array (shape=(1, 3, 3), dtype=int32).\n",
      "Pickling array (shape=(3, 3, 10486), dtype=float64).\n",
      "Pickling array (shape=(3, 3), dtype=float64).\n",
      "Pickling array (shape=(1,), dtype=float64).\n",
      "Pickling array (shape=(1, 10485), dtype=float64).\n",
      "Pickling array (shape=(1,), dtype=float64).\n",
      "Pickling array (shape=(2,), dtype=int64).\n",
      "Pickling array (shape=(3,), dtype=float64).\n",
      "Pickling array (shape=(1, 3, 3), dtype=int32).\n",
      "Pickling array (shape=(3, 3, 10486), dtype=float64).\n",
      "Pickling array (shape=(3, 3), dtype=float64).\n",
      "Pickling array (shape=(1,), dtype=float64).\n",
      "Pickling array (shape=(1, 10485), dtype=float64).\n",
      "Pickling array (shape=(1,), dtype=float64).\n",
      "Pickling array (shape=(2,), dtype=int64).\n",
      "Pickling array (shape=(3,), dtype=float64).\n",
      "Pickling array (shape=(1, 3, 3), dtype=int32).\n",
      "Pickling array (shape=(3, 3, 10486), dtype=float64).\n",
      "Pickling array (shape=(3, 3), dtype=float64).\n",
      "Pickling array (shape=(1,), dtype=float64).\n",
      "Pickling array (shape=(1, 10485), dtype=float64).\n",
      "Pickling array (shape=(1,), dtype=float64).\n",
      "Pickling array (shape=(2,), dtype=int64).\n",
      "Pickling array (shape=(3,), dtype=float64).\n",
      "Pickling array (shape=(1, 3, 3), dtype=int32).\n",
      "Pickling array (shape=(3, 3, 10486), dtype=float64).\n",
      "Pickling array (shape=(3, 3), dtype=float64).\n",
      "Pickling array (shape=(1,), dtype=float64).\n",
      "Pickling array (shape=(1, 10485), dtype=float64).\n",
      "Pickling array (shape=(1,), dtype=float64).\n",
      "Pickling array (shape=(10485,), dtype=int32).\n",
      "Pickling array (shape=(10485,), dtype=int32).\n",
      "Pickling array (shape=(10485,), dtype=int32).\n",
      "Pickling array (shape=(10485,), dtype=int32).\n",
      "Pickling array (shape=(10485,), dtype=int32).\n",
      "Pickling array (shape=(10485,), dtype=int32).\n",
      "Memmapping (shape=(1579, 20970), dtype=float64) to old file C:\\Users\\DEYVI~1.CAI\\AppData\\Local\\Temp\\joblib_memmapping_folder_15604_29939688\\15604-2245623196024-ecdb85daca374a7987d4d2830becc1fa.pkl\n",
      "Pickling array (shape=(2,), dtype=int64).\n",
      "Pickling array (shape=(3,), dtype=float64).\n",
      "Pickling array (shape=(1, 3, 3), dtype=int32).\n",
      "Pickling array (shape=(3, 3, 10486), dtype=float64).\n",
      "Pickling array (shape=(3, 3), dtype=float64).\n",
      "Pickling array (shape=(1,), dtype=float64).\n",
      "Pickling array (shape=(1, 10485), dtype=float64).\n",
      "Pickling array (shape=(1,), dtype=float64).\n",
      "Pickling array (shape=(2,), dtype=int64).\n",
      "Pickling array (shape=(3,), dtype=float64).\n",
      "Pickling array (shape=(1, 3, 3), dtype=int32).\n",
      "Pickling array (shape=(3, 3, 10486), dtype=float64).\n",
      "Pickling array (shape=(3, 3), dtype=float64).\n",
      "Pickling array (shape=(1,), dtype=float64).\n",
      "Pickling array (shape=(1, 10485), dtype=float64).\n",
      "Pickling array (shape=(1,), dtype=float64).\n",
      "Pickling array (shape=(2,), dtype=int64).\n",
      "Pickling array (shape=(3,), dtype=float64).\n",
      "Pickling array (shape=(1, 3, 3), dtype=int32).\n",
      "Pickling array (shape=(3, 3, 10486), dtype=float64).\n",
      "Pickling array (shape=(3, 3), dtype=float64).\n"
     ]
    },
    {
     "name": "stderr",
     "output_type": "stream",
     "text": [
      "WARNING: Some output was deleted.\n"
     ]
    }
   ],
   "source": [
    "y_pred_genres = baggng.predict_proba(X_test)\n",
    "roc_auc_score(y_test_genres, y_pred_genres, average='macro')"
   ]
  },
  {
   "cell_type": "code",
   "execution_count": 54,
   "metadata": {},
   "outputs": [
    {
     "data": {
      "text/html": [
       "<div>\n",
       "<style scoped>\n",
       "    .dataframe tbody tr th:only-of-type {\n",
       "        vertical-align: middle;\n",
       "    }\n",
       "\n",
       "    .dataframe tbody tr th {\n",
       "        vertical-align: top;\n",
       "    }\n",
       "\n",
       "    .dataframe thead th {\n",
       "        text-align: right;\n",
       "    }\n",
       "</style>\n",
       "<table border=\"1\" class=\"dataframe\">\n",
       "  <thead>\n",
       "    <tr style=\"text-align: right;\">\n",
       "      <th></th>\n",
       "      <th>Modelo</th>\n",
       "      <th>Técnica</th>\n",
       "      <th>roc_auc_score</th>\n",
       "    </tr>\n",
       "  </thead>\n",
       "  <tbody>\n",
       "    <tr>\n",
       "      <th>0</th>\n",
       "      <td>LogisticRegression</td>\n",
       "      <td>TfidfVectorizer</td>\n",
       "      <td>0.876290</td>\n",
       "    </tr>\n",
       "    <tr>\n",
       "      <th>1</th>\n",
       "      <td>LogisticRegressionCV</td>\n",
       "      <td>TfidfVectorizer</td>\n",
       "      <td>0.889210</td>\n",
       "    </tr>\n",
       "    <tr>\n",
       "      <th>2</th>\n",
       "      <td>Randomforest</td>\n",
       "      <td>TfidfVectorizer</td>\n",
       "      <td>0.846378</td>\n",
       "    </tr>\n",
       "    <tr>\n",
       "      <th>3</th>\n",
       "      <td>LogisticRegression + New Features</td>\n",
       "      <td>TfidfVectorizer</td>\n",
       "      <td>0.889387</td>\n",
       "    </tr>\n",
       "    <tr>\n",
       "      <th>4</th>\n",
       "      <td>LogisticRegression CV + New Features</td>\n",
       "      <td>TfidfVectorizer</td>\n",
       "      <td>0.884861</td>\n",
       "    </tr>\n",
       "    <tr>\n",
       "      <th>5</th>\n",
       "      <td>LogisticRegression CV + New Features</td>\n",
       "      <td>TfidfVectorizer</td>\n",
       "      <td>0.861210</td>\n",
       "    </tr>\n",
       "    <tr>\n",
       "      <th>6</th>\n",
       "      <td>Bagging LogisticRegression</td>\n",
       "      <td>TfidfVectorizer</td>\n",
       "      <td>0.882439</td>\n",
       "    </tr>\n",
       "    <tr>\n",
       "      <th>7</th>\n",
       "      <td>Bagging LogisticRegression CV + New Features</td>\n",
       "      <td>TfidfVectorizer</td>\n",
       "      <td>0.882439</td>\n",
       "    </tr>\n",
       "  </tbody>\n",
       "</table>\n",
       "</div>"
      ]
     },
     "execution_count": 54,
     "metadata": {},
     "output_type": "execute_result"
    }
   ],
   "source": [
    "results.loc[len(results)]=['Bagging + LogisticRegression CV + Stemming + New Features','TfidfVectorizer',\n",
    "                           roc_auc_score(y_test_genres, y_pred_genres, average='macro')]\n",
    "results"
   ]
  },
  {
   "cell_type": "markdown",
   "metadata": {},
   "source": [
    "### Comparación de modelos"
   ]
  },
  {
   "cell_type": "markdown",
   "metadata": {},
   "source": [
    "#### Decision Chart"
   ]
  },
  {
   "cell_type": "code",
   "execution_count": 53,
   "metadata": {},
   "outputs": [
    {
     "data": {
      "text/html": [
       "<div>\n",
       "<style scoped>\n",
       "    .dataframe tbody tr th:only-of-type {\n",
       "        vertical-align: middle;\n",
       "    }\n",
       "\n",
       "    .dataframe tbody tr th {\n",
       "        vertical-align: top;\n",
       "    }\n",
       "\n",
       "    .dataframe thead th {\n",
       "        text-align: right;\n",
       "    }\n",
       "</style>\n",
       "<table border=\"1\" class=\"dataframe\">\n",
       "  <thead>\n",
       "    <tr style=\"text-align: right;\">\n",
       "      <th></th>\n",
       "      <th>Modelo</th>\n",
       "      <th>Técnica</th>\n",
       "      <th>roc_auc_score</th>\n",
       "    </tr>\n",
       "  </thead>\n",
       "  <tbody>\n",
       "    <tr>\n",
       "      <th>0</th>\n",
       "      <td>LogisticRegression</td>\n",
       "      <td>TfidfVectorizer</td>\n",
       "      <td>0.885409</td>\n",
       "    </tr>\n",
       "    <tr>\n",
       "      <th>1</th>\n",
       "      <td>Randomforest</td>\n",
       "      <td>TfidfVectorizer</td>\n",
       "      <td>0.843964</td>\n",
       "    </tr>\n",
       "    <tr>\n",
       "      <th>2</th>\n",
       "      <td>SGD</td>\n",
       "      <td>TfidfVectorizer</td>\n",
       "      <td>0.828939</td>\n",
       "    </tr>\n",
       "    <tr>\n",
       "      <th>3</th>\n",
       "      <td>LogisticRegression + GridSearchCV</td>\n",
       "      <td>TfidfVectorizer</td>\n",
       "      <td>0.889933</td>\n",
       "    </tr>\n",
       "    <tr>\n",
       "      <th>4</th>\n",
       "      <td>LogisticRegression + Stemming</td>\n",
       "      <td>TfidfVectorizer</td>\n",
       "      <td>0.891369</td>\n",
       "    </tr>\n",
       "    <tr>\n",
       "      <th>5</th>\n",
       "      <td>LogisticRegression + Stemming + New Features</td>\n",
       "      <td>TfidfVectorizer</td>\n",
       "      <td>0.894467</td>\n",
       "    </tr>\n",
       "    <tr>\n",
       "      <th>6</th>\n",
       "      <td>LogisticRegressionCV</td>\n",
       "      <td>TfidfVectorizer</td>\n",
       "      <td>0.894798</td>\n",
       "    </tr>\n",
       "  </tbody>\n",
       "</table>\n",
       "</div>"
      ],
      "text/plain": [
       "                                         Modelo          Técnica  \\\n",
       "0                            LogisticRegression  TfidfVectorizer   \n",
       "1                                  Randomforest  TfidfVectorizer   \n",
       "2                                           SGD  TfidfVectorizer   \n",
       "3             LogisticRegression + GridSearchCV  TfidfVectorizer   \n",
       "4                 LogisticRegression + Stemming  TfidfVectorizer   \n",
       "5  LogisticRegression + Stemming + New Features  TfidfVectorizer   \n",
       "6                          LogisticRegressionCV  TfidfVectorizer   \n",
       "\n",
       "   roc_auc_score  \n",
       "0       0.885409  \n",
       "1       0.843964  \n",
       "2       0.828939  \n",
       "3       0.889933  \n",
       "4       0.891369  \n",
       "5       0.894467  \n",
       "6       0.894798  "
      ]
     },
     "execution_count": 53,
     "metadata": {},
     "output_type": "execute_result"
    }
   ],
   "source": [
    "results"
   ]
  },
  {
   "cell_type": "code",
   "execution_count": 70,
   "metadata": {},
   "outputs": [
    {
     "data": {
      "text/html": [
       "<div>\n",
       "<style scoped>\n",
       "    .dataframe tbody tr th:only-of-type {\n",
       "        vertical-align: middle;\n",
       "    }\n",
       "\n",
       "    .dataframe tbody tr th {\n",
       "        vertical-align: top;\n",
       "    }\n",
       "\n",
       "    .dataframe thead th {\n",
       "        text-align: right;\n",
       "    }\n",
       "</style>\n",
       "<table border=\"1\" class=\"dataframe\">\n",
       "  <thead>\n",
       "    <tr style=\"text-align: right;\">\n",
       "      <th></th>\n",
       "      <th>Modelo</th>\n",
       "      <th>Técnica</th>\n",
       "      <th>roc_auc_score</th>\n",
       "    </tr>\n",
       "  </thead>\n",
       "  <tbody>\n",
       "    <tr>\n",
       "      <th>0</th>\n",
       "      <td>LogisticRegression</td>\n",
       "      <td>TfidfVectorizer</td>\n",
       "      <td>0.876290</td>\n",
       "    </tr>\n",
       "    <tr>\n",
       "      <th>1</th>\n",
       "      <td>LogisticRegressionCV</td>\n",
       "      <td>TfidfVectorizer</td>\n",
       "      <td>0.889210</td>\n",
       "    </tr>\n",
       "    <tr>\n",
       "      <th>2</th>\n",
       "      <td>Randomforest</td>\n",
       "      <td>TfidfVectorizer</td>\n",
       "      <td>0.846378</td>\n",
       "    </tr>\n",
       "    <tr>\n",
       "      <th>3</th>\n",
       "      <td>LogisticRegression + New Features</td>\n",
       "      <td>TfidfVectorizer</td>\n",
       "      <td>0.889387</td>\n",
       "    </tr>\n",
       "    <tr>\n",
       "      <th>4</th>\n",
       "      <td>LogisticRegression CV + New Features</td>\n",
       "      <td>TfidfVectorizer</td>\n",
       "      <td>0.884861</td>\n",
       "    </tr>\n",
       "    <tr>\n",
       "      <th>5</th>\n",
       "      <td>LogisticRegression CV + New Features</td>\n",
       "      <td>TfidfVectorizer</td>\n",
       "      <td>0.861210</td>\n",
       "    </tr>\n",
       "    <tr>\n",
       "      <th>6</th>\n",
       "      <td>Bagging LogisticRegression</td>\n",
       "      <td>TfidfVectorizer</td>\n",
       "      <td>0.882439</td>\n",
       "    </tr>\n",
       "    <tr>\n",
       "      <th>7</th>\n",
       "      <td>Bagging LogisticRegression CV + New Features</td>\n",
       "      <td>TfidfVectorizer</td>\n",
       "      <td>0.882439</td>\n",
       "    </tr>\n",
       "    <tr>\n",
       "      <th>8</th>\n",
       "      <td>LogisticRegression + GridSearchCV</td>\n",
       "      <td>TfidfVectorizer</td>\n",
       "      <td>0.889020</td>\n",
       "    </tr>\n",
       "    <tr>\n",
       "      <th>9</th>\n",
       "      <td>LogisticRegression + New Features</td>\n",
       "      <td>TfidfVectorizer</td>\n",
       "      <td>0.892035</td>\n",
       "    </tr>\n",
       "    <tr>\n",
       "      <th>10</th>\n",
       "      <td>Bagging LogisticRegression + New Features</td>\n",
       "      <td>TfidfVectorizer</td>\n",
       "      <td>0.887165</td>\n",
       "    </tr>\n",
       "  </tbody>\n",
       "</table>\n",
       "</div>"
      ]
     },
     "execution_count": 70,
     "metadata": {},
     "output_type": "execute_result"
    }
   ],
   "source": [
    "results"
   ]
  },
  {
   "cell_type": "code",
   "execution_count": 51,
   "metadata": {},
   "outputs": [
    {
     "data": {
      "text/plain": [
       "<seaborn.axisgrid.FacetGrid at 0xdad6860>"
      ]
     },
     "execution_count": 51,
     "metadata": {},
     "output_type": "execute_result"
    },
    {
     "data": {
      "image/png": "[encoded data removed]",
      "text/plain": [
       "<Figure size 1728x576 with 1 Axes>"
      ]
     },
     "metadata": {},
     "output_type": "display_data"
    }
   ],
   "source": [
    "sns.factorplot(x= 'Modelo', y= 'roc_auc_score', data= results, kind='bar', legend='True', size=8, aspect=3)"
   ]
  },
  {
   "cell_type": "markdown",
   "metadata": {},
   "source": [
    "### Modelo Final"
   ]
  },
  {
   "cell_type": "code",
   "execution_count": 2,
   "metadata": {},
   "outputs": [],
   "source": [
    "dataTraining = pd.read_csv('dataTraining.csv', encoding='UTF-8', index_col=0)\n",
    "dataTesting = pd.read_csv('dataTesting.csv', encoding='UTF-8', index_col=0)"
   ]
  },
  {
   "cell_type": "code",
   "execution_count": 3,
   "metadata": {},
   "outputs": [],
   "source": [
    "dataTraining['plot']=dataTraining['title']+[' ']+dataTraining['plot']"
   ]
  },
  {
   "cell_type": "code",
   "execution_count": 4,
   "metadata": {},
   "outputs": [],
   "source": [
    "stemming =  SnowballStemmer(\"english\")\n",
    "\n",
    "dataTraining['plot'] = dataTraining['plot'].apply(lambda x: ' '.join([w for w in x.split() if len(w)>1]))\n",
    "dataTraining['plot'] = dataTraining['plot'].apply(lambda x: word_tokenize(x))\n",
    "dataTraining['plot'] = dataTraining['plot'].apply(lambda x: ' '.join([stemming.stem(i) for i in x]))"
   ]
  },
  {
   "cell_type": "code",
   "execution_count": 5,
   "metadata": {},
   "outputs": [],
   "source": [
    "tf_vect = TfidfVectorizer(max_df=0.45, tokenizer=None, preprocessor=None, stop_words=None)\n",
    "\n",
    "X_dtm = tf_vect.fit_transform(dataTraining['plot'])\n",
    "X_dtm = X_dtm.toarray()\n",
    "\n",
    "dataTraining['genres'] = dataTraining['genres'].map(lambda x: eval(x))\n",
    "\n",
    "le = MultiLabelBinarizer()\n",
    "y_genres = le.fit_transform(dataTraining['genres'])"
   ]
  },
  {
   "cell_type": "code",
   "execution_count": 6,
   "metadata": {},
   "outputs": [],
   "source": [
    "X_train, X_test, y_train_genres, y_test_genres = train_test_split(X_dtm, y_genres, test_size=0.21, random_state=42)"
   ]
  },
  {
   "cell_type": "code",
   "execution_count": 7,
   "metadata": {},
   "outputs": [],
   "source": [
    "logreg = OneVsRestClassifier(LogisticRegression(C=2.8988, class_weight=None, dual=False, fit_intercept=True,\n",
    "          intercept_scaling=1, max_iter=100, multi_class='warn',\n",
    "          n_jobs=-1, penalty='l2', random_state=None, solver='sag',\n",
    "          tol=0.00001, verbose=0, warm_start=False),\n",
    "          n_jobs=-1).fit(X_train, y_train_genres)"
   ]
  },
  {
   "cell_type": "code",
   "execution_count": 8,
   "metadata": {},
   "outputs": [
    {
     "data": {
      "text/plain": [
       "0.8964232955141506"
      ]
     },
     "execution_count": 8,
     "metadata": {},
     "output_type": "execute_result"
    }
   ],
   "source": [
    "y_pred_genres = logreg.predict_proba(X_test)\n",
    "roc_auc_score(y_test_genres, y_pred_genres, average='macro')"
   ]
  },
  {
   "cell_type": "markdown",
   "metadata": {},
   "source": [
    "#### Multi-Label Classification Techniques:\n",
    "\n",
    "- OneVsRest\n",
    "- Binary Relevance\n",
    "- Classifier Chains\n",
    "- Label Powerset\n",
    "- Adapted Algorithm"
   ]
  },
  {
   "cell_type": "code",
   "execution_count": null,
   "metadata": {},
   "outputs": [],
   "source": []
  },
  {
   "cell_type": "markdown",
   "metadata": {},
   "source": [
    "##### Fit con toda la data"
   ]
  },
  {
   "cell_type": "code",
   "execution_count": 25,
   "metadata": {},
   "outputs": [],
   "source": [
    "logreg = OneVsRestClassifier(LogisticRegression(C=2.8988, class_weight=None, dual=False, fit_intercept=True,\n",
    "          intercept_scaling=1, max_iter=100, multi_class='warn',\n",
    "          n_jobs=-1, penalty='l2', random_state=None, solver='sag',\n",
    "          tol=0.00001, verbose=0, warm_start=False),\n",
    "          n_jobs=-1).fit(X_dtm, y_genres)"
   ]
  },
  {
   "cell_type": "code",
   "execution_count": null,
   "metadata": {},
   "outputs": [],
   "source": [
    "logregcv = OneVsRestClassifier(LogisticRegressionCV(Cs=100, class_weight=None, dual=False, fit_intercept=True, cv=3,\n",
    "          intercept_scaling=1, max_iter=100, multi_class='warn', scoring='roc_auc',\n",
    "          n_jobs=-1, penalty='l2', random_state=None, solver='warn',\n",
    "          tol=0.0001, verbose=0),\n",
    "          n_jobs=-1).fit(X_dtm, y_genres)"
   ]
  },
  {
   "cell_type": "markdown",
   "metadata": {},
   "source": [
    "### Metodología - Final"
   ]
  },
  {
   "cell_type": "markdown",
   "metadata": {},
   "source": [
    "![Metodologia](https://github.com/amosqueraf/ML/raw/master/Metodologia_5.png)"
   ]
  },
  {
   "cell_type": "markdown",
   "metadata": {},
   "source": [
    "### Evaluación sobre los datos de envío\n",
    "- Carga de datos de envío para prueba"
   ]
  },
  {
   "cell_type": "code",
   "execution_count": 9,
   "metadata": {},
   "outputs": [],
   "source": [
    "dataTesting['plot']=dataTesting['title']+[' ']+dataTesting['plot']\n",
    "\n",
    "dataTesting['plot'] = dataTesting['plot'].apply(lambda x: ' '.join([w for w in x.split() if len(w)>1]))\n",
    "dataTesting['plot'] = dataTesting['plot'].apply(lambda x: word_tokenize(x))\n",
    "dataTesting['plot'] = dataTesting['plot'].apply(lambda x: ' '.join([stemming.stem(i) for i in x]))\n",
    "\n",
    "X_test_dtm = tf_vect.transform(dataTesting['plot'])\n",
    "\n",
    "cols = ['p_Action', 'p_Adventure', 'p_Animation', 'p_Biography', 'p_Comedy', 'p_Crime', 'p_Documentary', 'p_Drama', 'p_Family',\n",
    "        'p_Fantasy', 'p_Film-Noir', 'p_History', 'p_Horror', 'p_Music', 'p_Musical', 'p_Mystery', 'p_News', 'p_Romance',\n",
    "        'p_Sci-Fi', 'p_Short', 'p_Sport', 'p_Thriller', 'p_War', 'p_Western']"
   ]
  },
  {
   "cell_type": "markdown",
   "metadata": {},
   "source": [
    "- Predicción de la probabilidad de cada genero en los datos de envío"
   ]
  },
  {
   "cell_type": "code",
   "execution_count": 10,
   "metadata": {},
   "outputs": [],
   "source": [
    "y_pred_test_genres = logreg.predict_proba(X_test_dtm)"
   ]
  },
  {
   "cell_type": "code",
   "execution_count": null,
   "metadata": {},
   "outputs": [],
   "source": [
    "y_pred_test_genres = logregcv.predict_proba(X_test_dtm)"
   ]
  },
  {
   "cell_type": "code",
   "execution_count": 11,
   "metadata": {},
   "outputs": [],
   "source": [
    "res = pd.DataFrame(y_pred_test_genres, index=dataTesting.index, columns=cols)"
   ]
  },
  {
   "cell_type": "code",
   "execution_count": 14,
   "metadata": {},
   "outputs": [
    {
     "data": {
      "text/html": [
       "<div>\n",
       "<style scoped>\n",
       "    .dataframe tbody tr th:only-of-type {\n",
       "        vertical-align: middle;\n",
       "    }\n",
       "\n",
       "    .dataframe tbody tr th {\n",
       "        vertical-align: top;\n",
       "    }\n",
       "\n",
       "    .dataframe thead th {\n",
       "        text-align: right;\n",
       "    }\n",
       "</style>\n",
       "<table border=\"1\" class=\"dataframe\">\n",
       "  <thead>\n",
       "    <tr style=\"text-align: right;\">\n",
       "      <th></th>\n",
       "      <th>p_Action</th>\n",
       "      <th>p_Adventure</th>\n",
       "      <th>p_Animation</th>\n",
       "      <th>p_Biography</th>\n",
       "      <th>p_Comedy</th>\n",
       "      <th>p_Crime</th>\n",
       "      <th>p_Documentary</th>\n",
       "      <th>p_Drama</th>\n",
       "      <th>p_Family</th>\n",
       "      <th>p_Fantasy</th>\n",
       "      <th>...</th>\n",
       "      <th>p_Musical</th>\n",
       "      <th>p_Mystery</th>\n",
       "      <th>p_News</th>\n",
       "      <th>p_Romance</th>\n",
       "      <th>p_Sci-Fi</th>\n",
       "      <th>p_Short</th>\n",
       "      <th>p_Sport</th>\n",
       "      <th>p_Thriller</th>\n",
       "      <th>p_War</th>\n",
       "      <th>p_Western</th>\n",
       "    </tr>\n",
       "  </thead>\n",
       "  <tbody>\n",
       "    <tr>\n",
       "      <th>1</th>\n",
       "      <td>0.072710</td>\n",
       "      <td>0.031078</td>\n",
       "      <td>0.002493</td>\n",
       "      <td>0.000706</td>\n",
       "      <td>0.245326</td>\n",
       "      <td>0.011132</td>\n",
       "      <td>0.000164</td>\n",
       "      <td>0.110972</td>\n",
       "      <td>0.002718</td>\n",
       "      <td>0.044438</td>\n",
       "      <td>...</td>\n",
       "      <td>0.010084</td>\n",
       "      <td>0.023766</td>\n",
       "      <td>0.000061</td>\n",
       "      <td>0.998366</td>\n",
       "      <td>0.000858</td>\n",
       "      <td>0.000565</td>\n",
       "      <td>0.000770</td>\n",
       "      <td>0.005726</td>\n",
       "      <td>0.000540</td>\n",
       "      <td>0.001414</td>\n",
       "    </tr>\n",
       "    <tr>\n",
       "      <th>4</th>\n",
       "      <td>0.028657</td>\n",
       "      <td>0.001044</td>\n",
       "      <td>0.002577</td>\n",
       "      <td>0.027837</td>\n",
       "      <td>0.314405</td>\n",
       "      <td>0.122216</td>\n",
       "      <td>0.002068</td>\n",
       "      <td>0.971421</td>\n",
       "      <td>0.001822</td>\n",
       "      <td>0.000899</td>\n",
       "      <td>...</td>\n",
       "      <td>0.002385</td>\n",
       "      <td>0.001184</td>\n",
       "      <td>0.000200</td>\n",
       "      <td>0.000622</td>\n",
       "      <td>0.000043</td>\n",
       "      <td>0.000451</td>\n",
       "      <td>0.001366</td>\n",
       "      <td>0.558873</td>\n",
       "      <td>0.001720</td>\n",
       "      <td>0.000657</td>\n",
       "    </tr>\n",
       "    <tr>\n",
       "      <th>5</th>\n",
       "      <td>0.003072</td>\n",
       "      <td>0.000419</td>\n",
       "      <td>0.000080</td>\n",
       "      <td>0.018148</td>\n",
       "      <td>0.005051</td>\n",
       "      <td>0.989822</td>\n",
       "      <td>0.000590</td>\n",
       "      <td>0.840017</td>\n",
       "      <td>0.000033</td>\n",
       "      <td>0.000420</td>\n",
       "      <td>...</td>\n",
       "      <td>0.001473</td>\n",
       "      <td>0.713022</td>\n",
       "      <td>0.000207</td>\n",
       "      <td>0.010893</td>\n",
       "      <td>0.025115</td>\n",
       "      <td>0.000287</td>\n",
       "      <td>0.001634</td>\n",
       "      <td>0.650039</td>\n",
       "      <td>0.002299</td>\n",
       "      <td>0.002351</td>\n",
       "    </tr>\n",
       "    <tr>\n",
       "      <th>6</th>\n",
       "      <td>0.013749</td>\n",
       "      <td>0.013914</td>\n",
       "      <td>0.000090</td>\n",
       "      <td>0.004595</td>\n",
       "      <td>0.010086</td>\n",
       "      <td>0.000606</td>\n",
       "      <td>0.000371</td>\n",
       "      <td>0.989721</td>\n",
       "      <td>0.001157</td>\n",
       "      <td>0.003120</td>\n",
       "      <td>...</td>\n",
       "      <td>0.002868</td>\n",
       "      <td>0.005867</td>\n",
       "      <td>0.000092</td>\n",
       "      <td>0.115615</td>\n",
       "      <td>0.040504</td>\n",
       "      <td>0.000087</td>\n",
       "      <td>0.003021</td>\n",
       "      <td>0.384416</td>\n",
       "      <td>0.018561</td>\n",
       "      <td>0.002274</td>\n",
       "    </tr>\n",
       "    <tr>\n",
       "      <th>7</th>\n",
       "      <td>0.000551</td>\n",
       "      <td>0.000864</td>\n",
       "      <td>0.001789</td>\n",
       "      <td>0.001179</td>\n",
       "      <td>0.120062</td>\n",
       "      <td>0.002043</td>\n",
       "      <td>0.000872</td>\n",
       "      <td>0.055176</td>\n",
       "      <td>0.004120</td>\n",
       "      <td>0.065880</td>\n",
       "      <td>...</td>\n",
       "      <td>0.001486</td>\n",
       "      <td>0.007026</td>\n",
       "      <td>0.000088</td>\n",
       "      <td>0.051372</td>\n",
       "      <td>0.604174</td>\n",
       "      <td>0.000378</td>\n",
       "      <td>0.000174</td>\n",
       "      <td>0.220753</td>\n",
       "      <td>0.000144</td>\n",
       "      <td>0.000587</td>\n",
       "    </tr>\n",
       "  </tbody>\n",
       "</table>\n",
       "<p>5 rows × 24 columns</p>\n",
       "</div>"
      ]
     },
     "execution_count": 14,
     "metadata": {},
     "output_type": "execute_result"
    }
   ],
   "source": [
    "res.head()"
   ]
  },
  {
   "cell_type": "code",
   "execution_count": 12,
   "metadata": {},
   "outputs": [],
   "source": [
    "res.to_csv('pred_genres_text_RF.csv', index_label='ID')"
   ]
  },
  {
   "cell_type": "markdown",
   "metadata": {},
   "source": [
    "### Salvar el modelo\n",
    "    - Se salva el modelo como .sav para usarlo en el API"
   ]
  },
  {
   "cell_type": "code",
   "execution_count": 28,
   "metadata": {},
   "outputs": [],
   "source": [
    "filename = 'MoviePredictorModel.sav'\n",
    "pickle.dump(logreg, open(filename, 'wb'))"
   ]
  },
  {
   "cell_type": "code",
   "execution_count": 30,
   "metadata": {},
   "outputs": [],
   "source": [
    "pickle.dump(tf_vect, open( 'tfidf_transformer.sav', \"wb\" ) )"
   ]
  },
  {
   "cell_type": "markdown",
   "metadata": {},
   "source": [
    "### Cargar el modelo"
   ]
  },
  {
   "cell_type": "code",
   "execution_count": 0,
   "metadata": {},
   "outputs": [],
   "source": [
    "model = pickle.load(open('MoviePredictorModel.sav', 'rb'))"
   ]
  },
  {
   "cell_type": "markdown",
   "metadata": {},
   "source": [
    "### Crear el dash"
   ]
  },
  {
   "cell_type": "code",
   "execution_count": null,
   "metadata": {},
   "outputs": [],
   "source": [
    "external_stylesheets = ['https://codepen.io/chriddyp/pen/bWLwgP.css']\n",
    "app = dash.Dash(__name__, external_stylesheets=external_stylesheets)\n",
    "\n",
    "colors = {\n",
    "    'background': '#111111',\n",
    "    'text': '#FCF9F9'\n",
    "}\n",
    "\n",
    "app.config['suppress_callback_exceptions']=True # Sirve para evitar errores al inicio de callbacks \n",
    "                                                # que dependan de elementos no creados al momento de\n",
    "                                                \n",
    "app.layout = html.Div(style={'backgroundColor': colors['background']}, children=[\n",
    "    html.H1(\n",
    "        children='Aplicación para el clasificación del genero de una película',\n",
    "        style={\n",
    "            'textAlign': 'center',\n",
    "            'color': colors['text']\n",
    "        }\n",
    "    ),\n",
    "\n",
    "    html.Div(children='MIIA 4200 (2019-I): Universidad de los Andes', style={\n",
    "        'textAlign': 'center',\n",
    "        'color': colors['text']\n",
    "    }),\n",
    "\n",
    "    html.Div([\n",
    "        html.Label('Título'),\n",
    "        dcc.Input(id='title', value='Nombre Pelicula', type='text'),\n",
    "                html.Div(id='div-title')\n",
    "        ],style={'width': '30%', 'display': 'inline-block', 'color':'#FCF9F9'}),\n",
    "     \n",
    "    html.Div([\n",
    "        html.Label('Año de producción'),\n",
    "         #dcc.Dropdown(id='year',\n",
    "          #           options=[{'label': i, 'value': i} for i in sorted(df['year'].unique())],\n",
    "           #          value=2015,\n",
    "            #         style={'width': '45%'}\n",
    "             #       ),\n",
    "         dcc.Input(id='year', value='Año', type='text'),\n",
    "         html.Div(id='div-year')\n",
    "        ],style={'width': '48%', 'display': 'inline-block','color':'#FCF9F9'}),\n",
    "\n",
    "    html.Div([\n",
    "        html.Label('Sinopsis'),\n",
    "        dcc.Textarea(id='plot', placeholder='Ingrese la sinopsis...', value='Ingrese aquí la sinopsis de la película',\n",
    "        style={'width': '50%'}),\n",
    "        html.Div(id='div-plot')\n",
    "        ],style={'color':'#FCF9F9'}\n",
    "        ),\n",
    "        \n",
    "    html.Div([\n",
    "           html.Label('Presione ENVIAR para cargar su información'), \n",
    "           \n",
    "            html.Button('ENVIAR', id='button',style={'margin':'auto','width': \"10%\", 'backgroundColor': 'grey'})\n",
    "    ], style={'color':'#FCF9F9'}\n",
    "    ),   \n",
    "   \n",
    "    html.Div([\n",
    "             html.Label('Según los parametros ingresados, el top 10 de la calsificación de la película son:'),\n",
    "                                html.Div(id='prop_text'),\n",
    "                            ], style={'marginBottom': 30, 'marginTop': 25,'fontSize': 16, 'color':'#FCF9F9'}),\n",
    "\n",
    "    dcc.Graph(\n",
    "        id='graph-probabilidad',\n",
    "        figure={\n",
    "            'data': [\n",
    "                {'x': res['genre'].unique(), 'y': res['score'].unique(), 'type': 'bar'},\n",
    "            ],\n",
    "            'layout': {\n",
    "                'plot_bgcolor': colors['background'],\n",
    "                'paper_bgcolor': colors['background'],\n",
    "                'font': {\n",
    "                    'color': colors['text']\n",
    "                }\n",
    "            }\n",
    "        }\n",
    "    )\n",
    "])\n",
    "                                                \n",
    "                                                \n",
    "@app.callback(\n",
    "     dash.dependencies.Output('graph-probabilidad', 'figure'),\n",
    "    [dash.dependencies.Input('button', 'n_clicks')],\n",
    "    [dash.dependencies.State('year', 'value'),\n",
    "     dash.dependencies.State('title', 'value'),\n",
    "     dash.dependencies.State('plot', 'value')\n",
    "     ]\n",
    "     )\n",
    "def update_text(n_clicks, year, title, plot):   \n",
    "     ex_dic = {\n",
    "            'year':year ,\n",
    "            'title':title,\n",
    "            'plot': plot\n",
    "            \n",
    "            }\n",
    "\n",
    "     input_df = pd.DataFrame( ex_dic, index=[1])\n",
    "     \n",
    "     input_df['plot_title']=input_df['title']+' '+input_df['plot']\n",
    "     input_df['plot_title'] = input_df['plot_title'].apply(lambda x: ' '.join([w for w in x.split() if len(w)>1]))\n",
    "     input_df['plot_token'] = input_df['plot_title'].apply(lambda x: word_tokenize(x))\n",
    "     stemming =  SnowballStemmer(\"english\")\n",
    "     input_df['plot_stemmed'] = input_df['plot_token'].apply(lambda x: ' '.join([stemming.stem(i) for i in x]))\n",
    "     X_test_dtm = tfidf_transformer.transform(input_df['plot_stemmed'])\n",
    "     y_pred_test_genres = MoviePredictorModel.predict_proba(X_test_dtm)\n",
    "     res = pd.DataFrame(y_pred_test_genres, index=input_df.index, columns=cols)\n",
    "     res=res.T.reset_index()\n",
    "     res.rename(columns={'index':'genre',1:'score' },  inplace=True) \n",
    "     res.sort_values('score',ascending=False,  inplace=True)\n",
    "     print(ex_dic)\n",
    "     print(res)\n",
    "     return {'data': [{'x': res['genre'].head(10), 'y': res['score'].head(10), 'type': 'bar'}],\n",
    "             'layout': {'plot_bgcolor': colors['background'],'paper_bgcolor': colors['background'],\n",
    "                'font': {'color': colors['text']}\n",
    "            }\n",
    "     \n",
    "     }"
   ]
  },
  {
   "cell_type": "markdown",
   "metadata": {},
   "source": [
    "### Correr el API"
   ]
  },
  {
   "cell_type": "markdown",
   "metadata": {},
   "source": [
    "if __name__ == '__main__':\n",
    "    app.run_server(debug=True, use_reloader=False, host='0.0.0.0', port=8880)"
   ]
  },
  {
   "cell_type": "markdown",
   "metadata": {},
   "source": [
    "### API - Movie Genre Classification"
   ]
  },
  {
   "cell_type": "markdown",
   "metadata": {},
   "source": [
    "### Conectando al API\n",
    " \n",
    "Go to -ec2-machine-ip-:8880\n",
    "\n",
    "http://18.224.8.166:8880/"
   ]
  },
  {
   "cell_type": "markdown",
   "metadata": {},
   "source": [
    "![Api for pricing](https://github.com/amosqueraf/ML/raw/master/console.png)"
   ]
  },
  {
   "cell_type": "markdown",
   "metadata": {},
   "source": [
    "![Api for pricing](https://github.com/amosqueraf/ML/raw/master/apy_movie.png)"
   ]
  }
 ],
 "metadata": {
  "kernelspec": {
   "display_name": "Python 3",
   "language": "python",
   "name": "python3"
  },
  "language_info": {
   "codemirror_mode": {
    "name": "ipython",
    "version": 3
   },
   "file_extension": ".py",
   "mimetype": "text/x-python",
   "name": "python",
   "nbconvert_exporter": "python",
   "pygments_lexer": "ipython3",
   "version": "3.7.3"
  }
 },
 "nbformat": 4,
 "nbformat_minor": 1
}
